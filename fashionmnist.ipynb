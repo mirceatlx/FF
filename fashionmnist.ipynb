{
 "cells": [
  {
   "attachments": {},
   "cell_type": "markdown",
   "metadata": {},
   "source": [
    "# Fashion MNIST benchmarks"
   ]
  },
  {
   "attachments": {},
   "cell_type": "markdown",
   "metadata": {},
   "source": [
    "## Imports"
   ]
  },
  {
   "cell_type": "code",
   "execution_count": 1,
   "metadata": {},
   "outputs": [],
   "source": [
    "import torch\n",
    "import torchvision\n",
    "import torch.nn as nn\n",
    "import torch.nn.functional as F\n",
    "import numpy as np\n",
    "from ff import FF, FFLayer\n",
    "from data import MergedDataset, FashionMNIST\n",
    "from tqdm import tqdm\n",
    "import matplotlib.pyplot as plt\n",
    "import random"
   ]
  },
  {
   "cell_type": "code",
   "execution_count": 2,
   "metadata": {},
   "outputs": [],
   "source": [
    "device = \"cuda\" if torch.cuda.is_available() else \"cpu\""
   ]
  },
  {
   "attachments": {},
   "cell_type": "markdown",
   "metadata": {},
   "source": [
    "## Dataset"
   ]
  },
  {
   "attachments": {},
   "cell_type": "markdown",
   "metadata": {},
   "source": [
    "The batch sizes"
   ]
  },
  {
   "cell_type": "code",
   "execution_count": 3,
   "metadata": {},
   "outputs": [],
   "source": [
    "batch_size_train = 512\n",
    "batch_size_test = 512"
   ]
  },
  {
   "attachments": {},
   "cell_type": "markdown",
   "metadata": {},
   "source": [
    "Creating 3 different types of loaders, one for train positive, one for train negative with masks and another for test."
   ]
  },
  {
   "cell_type": "code",
   "execution_count": 4,
   "metadata": {},
   "outputs": [],
   "source": [
    "# load fashion-mnist\n",
    "train_loader = torch.utils.data.DataLoader(\n",
    "    torchvision.datasets.FashionMNIST('./datasets/FashionMNIST', train=True, download=True,\n",
    "                          transform=torchvision.transforms.Compose([\n",
    "                            torchvision.transforms.ToTensor(),\n",
    "                            torchvision.transforms.Normalize(\n",
    "                                (0.2860,), (0.3530,))\n",
    "                            ])),\n",
    "    batch_size=batch_size_train, shuffle=True)\n",
    "\n",
    "train_loader_negative = torch.utils.data.DataLoader(MergedDataset(torchvision.datasets.FashionMNIST('./datasets/FashionMNIST/', train=True, download=True,\n",
    "                             transform=torchvision.transforms.Compose([\n",
    "                               torchvision.transforms.ToTensor(),\n",
    "                               torchvision.transforms.Normalize(\n",
    "                                 (0.1307,), (0.3081,))\n",
    "                             ])), 5, FashionMNIST.negative_data_generation), batch_size=batch_size_train, shuffle=True)    \n",
    "\n",
    "test_loader = torch.utils.data.DataLoader(\n",
    "  torchvision.datasets.FashionMNIST('./datasets/FashionMNIST/', train=False, download=True,\n",
    "                             transform=torchvision.transforms.Compose([\n",
    "                               torchvision.transforms.ToTensor(),\n",
    "                               torchvision.transforms.Normalize(\n",
    "                                 (0.1307,), (0.3081,))\n",
    "                             ])),\n",
    "  batch_size=batch_size_test, shuffle=True)"
   ]
  },
  {
   "attachments": {},
   "cell_type": "markdown",
   "metadata": {},
   "source": [
    "Showing 4 random images from the FMNIST dataset."
   ]
  },
  {
   "cell_type": "code",
   "execution_count": 5,
   "metadata": {},
   "outputs": [
    {
     "data": {
      "image/png": "[encoded data removed]",
      "text/plain": [
       "<Figure size 432x288 with 1 Axes>"
      ]
     },
     "metadata": {
      "needs_background": "light"
     },
     "output_type": "display_data"
    },
    {
     "name": "stdout",
     "output_type": "stream",
     "text": [
      "    8     8     1     6\n"
     ]
    }
   ],
   "source": [
    "# get some random training images\n",
    "dataiter = iter(train_loader)\n",
    "images, labels = next(dataiter)\n",
    "\n",
    "# show images\n",
    "plt.imshow(np.transpose(torchvision.utils.make_grid(images[:4], padding=2, normalize=True).cpu(),(1,2,0)))\n",
    "plt.show()\n",
    "\n",
    "# print labels\n",
    "print(' '.join('%5s' % labels[j].item() for j in range(4)))\n"
   ]
  },
  {
   "attachments": {},
   "cell_type": "markdown",
   "metadata": {},
   "source": [
    "Showing a negative data point made with masks"
   ]
  },
  {
   "cell_type": "code",
   "execution_count": 6,
   "metadata": {},
   "outputs": [
    {
     "data": {
      "text/plain": [
       "<matplotlib.image.AxesImage at 0x2af33ba0d00>"
      ]
     },
     "execution_count": 6,
     "metadata": {},
     "output_type": "execute_result"
    },
    {
     "data": {
      "image/png": "[encoded data removed]",
      "text/plain": [
       "<Figure size 432x288 with 1 Axes>"
      ]
     },
     "metadata": {
      "needs_background": "light"
     },
     "output_type": "display_data"
    }
   ],
   "source": [
    "image = next(iter(train_loader_negative))\n",
    "image = image.reshape((-1, 1, 28, 28))[0]\n",
    "plt.imshow(image.reshape((28, 28)), cmap='gray')"
   ]
  },
  {
   "attachments": {},
   "cell_type": "markdown",
   "metadata": {},
   "source": [
    "## Parameters and model"
   ]
  },
  {
   "attachments": {},
   "cell_type": "markdown",
   "metadata": {},
   "source": [
    "We set the threshold, training parameters, learning rates, goodness function and time spent awake and sleeping."
   ]
  },
  {
   "cell_type": "code",
   "execution_count": 7,
   "metadata": {},
   "outputs": [],
   "source": [
    "threshold = 1.5\n",
    "epochs_per_layer = 50\n",
    "\n",
    "optim_config = {\n",
    "    \"lr\": 0.001,\n",
    "}\n",
    "positive_optim_config = {\n",
    "    \"lr\": 0.001,\n",
    "\n",
    "}\n",
    "negative_optim_config = {\n",
    "    \"lr\": 0.001,\n",
    "}\n",
    "\n",
    "goodness_function = lambda x: x.pow(2).mean(1)\n",
    "awake_period = 1\n",
    "sleep_period = 1"
   ]
  },
  {
   "attachments": {},
   "cell_type": "markdown",
   "metadata": {},
   "source": [
    "Model declaration"
   ]
  },
  {
   "cell_type": "code",
   "execution_count": 8,
   "metadata": {},
   "outputs": [],
   "source": [
    "\n",
    "model = FF(device=device)\n",
    "\n",
    "# First layer\n",
    "model.add_layer(FFLayer(nn.Linear(784, 500).to(device), \n",
    "                        optimizer=torch.optim.Adam, \n",
    "                        epochs=epochs_per_layer, \n",
    "                        threshold=threshold, \n",
    "                        activation=nn.ReLU(), \n",
    "                        optim_config=optim_config, \n",
    "                        positive_optim_config=positive_optim_config, \n",
    "                        negative_optim_config=negative_optim_config, \n",
    "                        name=\"layer 1\", \n",
    "                        device = device, \n",
    "                        goodness_function=goodness_function).to(device))\n",
    "# Second layer\n",
    "model.add_layer(FFLayer(nn.Linear(500, 500).to(device), \n",
    "                        optimizer=torch.optim.Adam, \n",
    "                        epochs=epochs_per_layer, \n",
    "                        threshold=threshold, \n",
    "                        activation=nn.ReLU(), \n",
    "                        optim_config=optim_config, \n",
    "                        positive_optim_config=positive_optim_config, \n",
    "                        negative_optim_config=negative_optim_config, \n",
    "                        name=\"layer 2\", \n",
    "                        device = device, \n",
    "                        goodness_function=goodness_function).to(device))\n",
    "# Last layer\n",
    "model.add_layer(FFLayer(nn.Linear(500, 500).to(device), \n",
    "                        optimizer=torch.optim.Adam, \n",
    "                        epochs=epochs_per_layer, \n",
    "                        threshold=threshold, \n",
    "                        activation=nn.ReLU(), \n",
    "                        optim_config=optim_config, \n",
    "                        positive_optim_config=positive_optim_config, \n",
    "                        negative_optim_config=negative_optim_config, \n",
    "                        name=\"layer 3\", \n",
    "                        device = device, \n",
    "                        goodness_function=goodness_function).to(device))\n",
    "\n",
    "model = model.to(device)"
   ]
  },
  {
   "attachments": {},
   "cell_type": "markdown",
   "metadata": {},
   "source": [
    "## Train"
   ]
  },
  {
   "cell_type": "code",
   "execution_count": null,
   "metadata": {},
   "outputs": [],
   "source": [
    "epochs = 500\n",
    "hour = 0\n",
    "print_every = 10\n",
    "with_masks = False\n",
    "\n",
    "def get_random_number_besides(x):\n",
    "    num = random.randint(0,9)\n",
    "    if num==x: return get_random_number_besides(x)\n",
    "    return num\n",
    "\n",
    "def get_negative_y(y):\n",
    "    return torch.tensor([get_random_number_besides(i) for i in y], dtype = torch.long).to(device)\n",
    "\n",
    "for i in tqdm(range(epochs), desc=\"Epochs\"):\n",
    "    if i % print_every == 1:\n",
    "        predictions, real = FashionMNIST.predict(test_loader, model, device)\n",
    "        acc = np.sum(predictions == real)/len(real)\n",
    "        print(\"Accuracy on test data: \", acc)\n",
    "        \n",
    "        predictions, real = FashionMNIST.predict(train_loader, model, device)\n",
    "        acc = np.sum(predictions == real)/len(real)\n",
    "        print(\"Accuracy on train data: \", acc)\n",
    "        \n",
    "\n",
    "    model.train()\n",
    "\n",
    "    if with_masks:\n",
    "        \n",
    "        for a, b in tqdm(zip(enumerate(train_loader), enumerate(train_loader_negative)), desc=\"Training currently at hour: \" + str(hour) + f\" which is in {'Awake' if hour % (awake_period + sleep_period) < awake_period else 'Sleep' } state\", total=len(train_loader)):\n",
    "\n",
    "            x_pos = a[1][0].to(device)\n",
    "            y = a[1][1].to(device)\n",
    "\n",
    "\n",
    "            if hour % (awake_period + sleep_period) < awake_period:\n",
    "                x_pos,_ = FashionMNIST.overlay_y_on_x(x_pos, y)\n",
    "                model.forward_positive(x_pos)\n",
    "            else:\n",
    "                x_neg,_ = FashionMNIST.overlay_y_on_x(b[1].to(device), y)\n",
    "                model.forward_negative(x_neg)\n",
    "\n",
    "            hour += 1\n",
    "            print(\"Training currently at hour: \" + str(hour) + f\" which is in {'Awake' if hour % (awake_period + sleep_period) < awake_period else 'Sleep' } state\")\n",
    "    else:\n",
    "\n",
    "        for a in tqdm(enumerate(train_loader), desc=\"Training\", total=len(train_loader)):\n",
    "            x_pos = a[1][0].to(device)\n",
    "            y = a[1][1].to(device)\n",
    "            if hour % (awake_period + sleep_period) < awake_period:\n",
    "                x_pos,_ = FashionMNIST.overlay_y_on_x(x_pos, y)\n",
    "                model.forward_positive(x_pos)\n",
    "            else:\n",
    "                x_neg,_ = FashionMNIST.overlay_y_on_x(x_pos, get_negative_y(y))\n",
    "                model.forward_negative(x_neg)\n",
    "            hour += 1\n",
    "            print(\"Training currently at hour: \" + str(hour) + f\" which is in {'Awake' if hour % (awake_period + sleep_period) < awake_period else 'Sleep' } state\")"
   ]
  }
 ],
 "metadata": {
  "kernelspec": {
   "display_name": "Python 3",
   "language": "python",
   "name": "python3"
  },
  "language_info": {
   "codemirror_mode": {
    "name": "ipython",
    "version": 3
   },
   "file_extension": ".py",
   "mimetype": "text/x-python",
   "name": "python",
   "nbconvert_exporter": "python",
   "pygments_lexer": "ipython3",
   "version": "3.10.6"
  },
  "orig_nbformat": 4,
  "vscode": {
   "interpreter": {
    "hash": "d6f8d400343bb3f57bd29c3eb1404dce9b47f9b5dee6203cb0f40ad0e600826b"
   }
  }
 },
 "nbformat": 4,
 "nbformat_minor": 2
}

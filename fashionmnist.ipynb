{
 "cells": [
  {
   "cell_type": "code",
   "execution_count": 14,
   "metadata": {},
   "outputs": [],
   "source": [
    "import torch\n",
    "import torchvision\n",
    "import torch.nn as nn\n",
    "import torch.nn.functional as F\n",
    "import numpy as np\n",
    "import wandb\n",
    "from ff import FF, FFLayer, FFEncoder\n",
    "from data import MergedDataset, FashionMNIST\n",
    "from tqdm import tqdm\n"
   ]
  },
  {
   "cell_type": "code",
   "execution_count": 2,
   "metadata": {},
   "outputs": [],
   "source": [
    "# device = \"mps\" if torch.backends.mps.is_available() else \"cpu\"\n",
    "device = \"cuda\" if torch.cuda.is_available() else \"cpu\""
   ]
  },
  {
   "cell_type": "code",
   "execution_count": 3,
   "metadata": {},
   "outputs": [],
   "source": [
    "batch_size_train = 512\n",
    "batch_size_test = 512"
   ]
  },
  {
   "cell_type": "code",
   "execution_count": 4,
   "metadata": {},
   "outputs": [
    {
     "name": "stdout",
     "output_type": "stream",
     "text": [
      "Downloading http://fashion-mnist.s3-website.eu-central-1.amazonaws.com/train-images-idx3-ubyte.gz\n",
      "Downloading http://fashion-mnist.s3-website.eu-central-1.amazonaws.com/train-images-idx3-ubyte.gz to /datasets/FashionMNIST\\FashionMNIST\\raw\\train-images-idx3-ubyte.gz\n"
     ]
    },
    {
     "name": "stderr",
     "output_type": "stream",
     "text": [
      "100%|██████████| 26421880/26421880 [00:01<00:00, 25651729.50it/s]\n"
     ]
    },
    {
     "name": "stdout",
     "output_type": "stream",
     "text": [
      "Extracting /datasets/FashionMNIST\\FashionMNIST\\raw\\train-images-idx3-ubyte.gz to /datasets/FashionMNIST\\FashionMNIST\\raw\n",
      "\n",
      "Downloading http://fashion-mnist.s3-website.eu-central-1.amazonaws.com/train-labels-idx1-ubyte.gz\n",
      "Downloading http://fashion-mnist.s3-website.eu-central-1.amazonaws.com/train-labels-idx1-ubyte.gz to /datasets/FashionMNIST\\FashionMNIST\\raw\\train-labels-idx1-ubyte.gz\n"
     ]
    },
    {
     "name": "stderr",
     "output_type": "stream",
     "text": [
      "100%|██████████| 29515/29515 [00:00<00:00, 1283287.37it/s]"
     ]
    },
    {
     "name": "stdout",
     "output_type": "stream",
     "text": [
      "Extracting /datasets/FashionMNIST\\FashionMNIST\\raw\\train-labels-idx1-ubyte.gz to /datasets/FashionMNIST\\FashionMNIST\\raw\n",
      "\n",
      "Downloading http://fashion-mnist.s3-website.eu-central-1.amazonaws.com/t10k-images-idx3-ubyte.gz\n"
     ]
    },
    {
     "name": "stderr",
     "output_type": "stream",
     "text": [
      "\n"
     ]
    },
    {
     "name": "stdout",
     "output_type": "stream",
     "text": [
      "Downloading http://fashion-mnist.s3-website.eu-central-1.amazonaws.com/t10k-images-idx3-ubyte.gz to /datasets/FashionMNIST\\FashionMNIST\\raw\\t10k-images-idx3-ubyte.gz\n"
     ]
    },
    {
     "name": "stderr",
     "output_type": "stream",
     "text": [
      "100%|██████████| 4422102/4422102 [00:00<00:00, 28097589.22it/s]\n"
     ]
    },
    {
     "name": "stdout",
     "output_type": "stream",
     "text": [
      "Extracting /datasets/FashionMNIST\\FashionMNIST\\raw\\t10k-images-idx3-ubyte.gz to /datasets/FashionMNIST\\FashionMNIST\\raw\n",
      "\n",
      "Downloading http://fashion-mnist.s3-website.eu-central-1.amazonaws.com/t10k-labels-idx1-ubyte.gz\n",
      "Downloading http://fashion-mnist.s3-website.eu-central-1.amazonaws.com/t10k-labels-idx1-ubyte.gz to /datasets/FashionMNIST\\FashionMNIST\\raw\\t10k-labels-idx1-ubyte.gz\n"
     ]
    },
    {
     "name": "stderr",
     "output_type": "stream",
     "text": [
      "100%|██████████| 5148/5148 [00:00<00:00, 5153288.06it/s]\n"
     ]
    },
    {
     "name": "stdout",
     "output_type": "stream",
     "text": [
      "Extracting /datasets/FashionMNIST\\FashionMNIST\\raw\\t10k-labels-idx1-ubyte.gz to /datasets/FashionMNIST\\FashionMNIST\\raw\n",
      "\n",
      "Downloading http://fashion-mnist.s3-website.eu-central-1.amazonaws.com/train-images-idx3-ubyte.gz\n",
      "Downloading http://fashion-mnist.s3-website.eu-central-1.amazonaws.com/train-images-idx3-ubyte.gz to ./datasets/FashionMNIST/FashionMNIST\\raw\\train-images-idx3-ubyte.gz\n"
     ]
    },
    {
     "name": "stderr",
     "output_type": "stream",
     "text": [
      "100%|██████████| 26421880/26421880 [00:00<00:00, 65540973.52it/s]\n"
     ]
    },
    {
     "name": "stdout",
     "output_type": "stream",
     "text": [
      "Extracting ./datasets/FashionMNIST/FashionMNIST\\raw\\train-images-idx3-ubyte.gz to ./datasets/FashionMNIST/FashionMNIST\\raw\n",
      "\n",
      "Downloading http://fashion-mnist.s3-website.eu-central-1.amazonaws.com/train-labels-idx1-ubyte.gz\n",
      "Downloading http://fashion-mnist.s3-website.eu-central-1.amazonaws.com/train-labels-idx1-ubyte.gz to ./datasets/FashionMNIST/FashionMNIST\\raw\\train-labels-idx1-ubyte.gz\n"
     ]
    },
    {
     "name": "stderr",
     "output_type": "stream",
     "text": [
      "100%|██████████| 29515/29515 [00:00<00:00, 2034025.87it/s]"
     ]
    },
    {
     "name": "stdout",
     "output_type": "stream",
     "text": [
      "Extracting ./datasets/FashionMNIST/FashionMNIST\\raw\\train-labels-idx1-ubyte.gz to ./datasets/FashionMNIST/FashionMNIST\\raw\n",
      "\n",
      "Downloading http://fashion-mnist.s3-website.eu-central-1.amazonaws.com/t10k-images-idx3-ubyte.gz\n",
      "Downloading http://fashion-mnist.s3-website.eu-central-1.amazonaws.com/t10k-images-idx3-ubyte.gz to ./datasets/FashionMNIST/FashionMNIST\\raw\\t10k-images-idx3-ubyte.gz\n"
     ]
    },
    {
     "name": "stderr",
     "output_type": "stream",
     "text": [
      "\n",
      "100%|██████████| 4422102/4422102 [00:00<00:00, 19220372.36it/s]\n"
     ]
    },
    {
     "name": "stdout",
     "output_type": "stream",
     "text": [
      "Extracting ./datasets/FashionMNIST/FashionMNIST\\raw\\t10k-images-idx3-ubyte.gz to ./datasets/FashionMNIST/FashionMNIST\\raw\n",
      "\n",
      "Downloading http://fashion-mnist.s3-website.eu-central-1.amazonaws.com/t10k-labels-idx1-ubyte.gz\n",
      "Downloading http://fashion-mnist.s3-website.eu-central-1.amazonaws.com/t10k-labels-idx1-ubyte.gz to ./datasets/FashionMNIST/FashionMNIST\\raw\\t10k-labels-idx1-ubyte.gz\n"
     ]
    },
    {
     "name": "stderr",
     "output_type": "stream",
     "text": [
      "100%|██████████| 5148/5148 [00:00<?, ?it/s]\n"
     ]
    },
    {
     "name": "stdout",
     "output_type": "stream",
     "text": [
      "Extracting ./datasets/FashionMNIST/FashionMNIST\\raw\\t10k-labels-idx1-ubyte.gz to ./datasets/FashionMNIST/FashionMNIST\\raw\n",
      "\n"
     ]
    }
   ],
   "source": [
    "# load fashion-mnist FASHIOn-MNIST\n",
    "train_loader = torch.utils.data.DataLoader(\n",
    "    torchvision.datasets.FashionMNIST('/datasets/FashionMNIST', train=True, download=True,\n",
    "                          transform=torchvision.transforms.Compose([\n",
    "                            torchvision.transforms.ToTensor(),\n",
    "                            torchvision.transforms.Normalize(\n",
    "                                (0.2860,), (0.3530,))\n",
    "                            ])),\n",
    "    batch_size=batch_size_train, shuffle=True)\n",
    "\n",
    "train_loader_negative = torch.utils.data.DataLoader(MergedDataset(torchvision.datasets.FashionMNIST('./datasets/FashionMNIST/', train=True, download=True,\n",
    "                             transform=torchvision.transforms.Compose([\n",
    "                               torchvision.transforms.ToTensor(),\n",
    "                               torchvision.transforms.Normalize(\n",
    "                                 (0.1307,), (0.3081,))\n",
    "                             ])), 5), batch_size=batch_size_train, shuffle=True)    \n"
   ]
  },
  {
   "cell_type": "code",
   "execution_count": 5,
   "metadata": {},
   "outputs": [],
   "source": [
    "test_loader = torch.utils.data.DataLoader(\n",
    "  torchvision.datasets.FashionMNIST('./datasets/FashionMNIST/', train=False, download=True,\n",
    "                             transform=torchvision.transforms.Compose([\n",
    "                               torchvision.transforms.ToTensor(),\n",
    "                               torchvision.transforms.Normalize(\n",
    "                                 (0.1307,), (0.3081,))\n",
    "                             ])),\n",
    "  batch_size=batch_size_test, shuffle=True)\n",
    "  "
   ]
  },
  {
   "cell_type": "code",
   "execution_count": 9,
   "metadata": {},
   "outputs": [
    {
     "data": {
      "image/png": "[encoded data removed]",
      "text/plain": [
       "<Figure size 640x480 with 1 Axes>"
      ]
     },
     "metadata": {},
     "output_type": "display_data"
    },
    {
     "name": "stdout",
     "output_type": "stream",
     "text": [
      "    4     3     9     9\n"
     ]
    }
   ],
   "source": [
    "import matplotlib.pyplot as plt\n",
    "import numpy as np\n",
    "import torchvision\n",
    "\n",
    "# get some random training images\n",
    "dataiter = iter(train_loader)\n",
    "images, labels = next(dataiter)\n",
    "\n",
    "# show images\n",
    "plt.imshow(np.transpose(torchvision.utils.make_grid(images[:4], padding=2, normalize=True).cpu(),(1,2,0)))\n",
    "plt.show()\n",
    "\n",
    "# print labels\n",
    "print(' '.join('%5s' % labels[j].item() for j in range(4)))\n"
   ]
  },
  {
   "cell_type": "code",
   "execution_count": 10,
   "metadata": {},
   "outputs": [
    {
     "data": {
      "image/png": "[encoded data removed]",
      "text/plain": [
       "<Figure size 640x480 with 1 Axes>"
      ]
     },
     "metadata": {},
     "output_type": "display_data"
    }
   ],
   "source": [
    "squared_error = lambda x: x.pow(2).mean(1)\n",
    "deviation_error = lambda x: -((x - x.mean(1).unsqueeze(1)).pow(2).mean(1))\n",
    "for i in enumerate(train_loader_negative):\n",
    "    image = i[1].reshape((-1, 1, 28, 28))[0]\n",
    "    # visualize image with pil\n",
    "    from PIL import Image\n",
    "    import numpy as np\n",
    "    import matplotlib.pyplot as plt\n",
    "    plt.imshow(image.reshape((28, 28)), cmap='gray')\n",
    "    break;"
   ]
  },
  {
   "cell_type": "code",
   "execution_count": 12,
   "metadata": {},
   "outputs": [],
   "source": [
    "threshold = 1.5\n",
    "epochs_per_layer = 50\n",
    "model = FF(logging=False, device=device)\n",
    "optim_config = {\n",
    "    \"lr\": 0.001,\n",
    "}\n",
    "positive_optim_config = {\n",
    "    \"lr\": 0.001,\n",
    "\n",
    "}\n",
    "negative_optim_config = {\n",
    "    \"lr\": 0.001,\n",
    "}\n",
    "\n",
    "goodness_function = squared_error\n",
    "awake_period = 1\n",
    "sleep_period = 1\n",
    "\n",
    "model.add_layer(FFLayer(nn.Linear(784, 500).to(device), optimizer=torch.optim.Adam, epochs=epochs_per_layer, threshold=threshold, activation=nn.ReLU(), optim_config=optim_config, positive_optim_config=positive_optim_config, negative_optim_config=negative_optim_config, logging=False, name=\"layer 1\", device = device, goodness_function=goodness_function).to(device))\n",
    "model.add_layer(FFLayer(nn.Linear(500, 500).to(device), optimizer=torch.optim.Adam, epochs=epochs_per_layer, threshold=threshold, activation=nn.ReLU(), optim_config=optim_config, positive_optim_config=positive_optim_config, negative_optim_config=negative_optim_config, logging=False, name=\"layer 2\", device = device, goodness_function=goodness_function).to(device))\n",
    "model.add_layer(FFLayer(nn.Linear(500, 500).to(device), optimizer=torch.optim.Adam, epochs=epochs_per_layer, threshold=threshold, activation=nn.ReLU(), optim_config=optim_config, positive_optim_config=positive_optim_config, negative_optim_config=negative_optim_config, logging=False, name=\"layer 3\", device = device, goodness_function=goodness_function).to(device))"
   ]
  },
  {
   "cell_type": "code",
   "execution_count": 13,
   "metadata": {},
   "outputs": [
    {
     "data": {
      "text/html": [
       "Finishing last run (ID:sa97vpoi) before initializing another..."
      ],
      "text/plain": [
       "<IPython.core.display.HTML object>"
      ]
     },
     "metadata": {},
     "output_type": "display_data"
    },
    {
     "data": {
      "text/html": [
       "Waiting for W&B process to finish... <strong style=\"color:green\">(success).</strong>"
      ],
      "text/plain": [
       "<IPython.core.display.HTML object>"
      ]
     },
     "metadata": {},
     "output_type": "display_data"
    },
    {
     "data": {
      "text/html": [
       " View run <strong style=\"color:#cdcd00\">1-awake-1-sleep-0.001-0.001</strong> at: <a href='https://wandb.ai/ffalgo/FashionMNIST/runs/sa97vpoi' target=\"_blank\">https://wandb.ai/ffalgo/FashionMNIST/runs/sa97vpoi</a><br/>Synced 4 W&B file(s), 0 media file(s), 0 artifact file(s) and 0 other file(s)"
      ],
      "text/plain": [
       "<IPython.core.display.HTML object>"
      ]
     },
     "metadata": {},
     "output_type": "display_data"
    },
    {
     "data": {
      "text/html": [
       "Find logs at: <code>.\\wandb\\run-20230225_075745-sa97vpoi\\logs</code>"
      ],
      "text/plain": [
       "<IPython.core.display.HTML object>"
      ]
     },
     "metadata": {},
     "output_type": "display_data"
    },
    {
     "data": {
      "text/html": [
       "Successfully finished last run (ID:sa97vpoi). Initializing new run:<br/>"
      ],
      "text/plain": [
       "<IPython.core.display.HTML object>"
      ]
     },
     "metadata": {},
     "output_type": "display_data"
    },
    {
     "data": {
      "text/html": [
       "Tracking run with wandb version 0.13.10"
      ],
      "text/plain": [
       "<IPython.core.display.HTML object>"
      ]
     },
     "metadata": {},
     "output_type": "display_data"
    },
    {
     "data": {
      "text/html": [
       "Run data is saved locally in <code>c:\\Users\\rdyt2\\Desktop\\FF\\wandb\\run-20230225_075755-ikjynzbh</code>"
      ],
      "text/plain": [
       "<IPython.core.display.HTML object>"
      ]
     },
     "metadata": {},
     "output_type": "display_data"
    },
    {
     "data": {
      "text/html": [
       "Syncing run <strong><a href='https://wandb.ai/ffalgo/FashionMNIST/runs/ikjynzbh' target=\"_blank\">1-awake-1-sleep-0.001-0.001</a></strong> to <a href='https://wandb.ai/ffalgo/FashionMNIST' target=\"_blank\">Weights & Biases</a> (<a href='https://wandb.me/run' target=\"_blank\">docs</a>)<br/>"
      ],
      "text/plain": [
       "<IPython.core.display.HTML object>"
      ]
     },
     "metadata": {},
     "output_type": "display_data"
    },
    {
     "data": {
      "text/html": [
       " View project at <a href='https://wandb.ai/ffalgo/FashionMNIST' target=\"_blank\">https://wandb.ai/ffalgo/FashionMNIST</a>"
      ],
      "text/plain": [
       "<IPython.core.display.HTML object>"
      ]
     },
     "metadata": {},
     "output_type": "display_data"
    },
    {
     "data": {
      "text/html": [
       " View run at <a href='https://wandb.ai/ffalgo/FashionMNIST/runs/ikjynzbh' target=\"_blank\">https://wandb.ai/ffalgo/FashionMNIST/runs/ikjynzbh</a>"
      ],
      "text/plain": [
       "<IPython.core.display.HTML object>"
      ]
     },
     "metadata": {},
     "output_type": "display_data"
    }
   ],
   "source": [
    "wandb.init(project=\"FashionMNIST\", entity=\"ffalgo\", name=\"1-awake-1-sleep-0.001-0.001\")\n",
    "wandb.config = {\n",
    "  \"learning_rate\": 0.01,\n",
    "  \"awake_period\": awake_period,\n",
    "  \"sleep_period\": sleep_period,\n",
    "  \"epochs_per_layer\": epochs_per_layer,\n",
    "  \"batch_size\": 512,\n",
    "  \"activation\": \"relu\",\n",
    "  \"positive_lr\": 0.001,\n",
    "  \"negative_lr\": 0.0001,\n",
    "  \"threshold\": threshold,\n",
    "  \"optimizer\": torch.optim.Adam,\n",
    "  \"device\": device\n",
    "}"
   ]
  },
  {
   "cell_type": "code",
   "execution_count": 15,
   "metadata": {},
   "outputs": [
    {
     "name": "stderr",
     "output_type": "stream",
     "text": [
      "  0%|          | 0/500 [00:00<?, ?it/s]"
     ]
    }
   ],
   "source": [
    "model = model.to(device)\n",
    "epochs = 500\n",
    "best_acc = 0.0\n",
    "hour = 0\n",
    "def get_random_number_besides(x):\n",
    "    import random\n",
    "    num = random.randint(0,9)\n",
    "    if num==x: return get_random_number_besides(x)\n",
    "    return num\n",
    "def get_negative_y(y):\n",
    "    return torch.tensor([get_random_number_besides(i) for i in y], dtype = torch.long).to(device)\n",
    "\n",
    "for i in tqdm(range(epochs)):\n",
    "    if i % 4 == 1:\n",
    "        predictions, real = FashionMNIST.predict(test_loader, model, device)\n",
    "        acc = np.sum(predictions == real)/len(real)\n",
    "        wandb.log({\"Accuracy on test data\": acc})\n",
    "        if acc > best_acc and acc > 0.8:\n",
    "            best_acc = acc\n",
    "            # torch.save(model.state_dict(), 'best_mnist_80%.ph')\n",
    "        \n",
    "    predictions, real = FashionMNIST.predict(train_loader, model, device)\n",
    "    acc = np.sum(predictions == real)/len(real)\n",
    "    wandb.log({\"Accuracy on train data\": acc})\n",
    "    model.train()\n",
    "    for a, b in zip(enumerate(train_loader), enumerate(train_loader_negative)):\n",
    "        x_pos = a[1][0].to(device)\n",
    "        y = a[1][1].to(device)\n",
    "        x_pos,_ = FashionMNIST.overlay_y_on_x(x_pos, y)\n",
    "        x_neg,_ = FashionMNIST.overlay_y_on_x(b[1].to(device), y)\n",
    "        if hour % (awake_period + sleep_period) < awake_period:\n",
    "            model.forward_positive(x_pos)\n",
    "        else:\n",
    "            model.forward_negative(x_neg)\n",
    "        # model.forward(x_pos, x_neg)\n",
    "        \n",
    "        hour += 1\n",
    "\n",
    "        \n",
    "wandb.finish()"
   ]
  },
  {
   "cell_type": "code",
   "execution_count": null,
   "metadata": {},
   "outputs": [],
   "source": []
  }
 ],
 "metadata": {
  "kernelspec": {
   "display_name": "Python 3",
   "language": "python",
   "name": "python3"
  },
  "language_info": {
   "codemirror_mode": {
    "name": "ipython",
    "version": 3
   },
   "file_extension": ".py",
   "mimetype": "text/x-python",
   "name": "python",
   "nbconvert_exporter": "python",
   "pygments_lexer": "ipython3",
   "version": "3.10.10"
  },
  "orig_nbformat": 4,
  "vscode": {
   "interpreter": {
    "hash": "d6f8d400343bb3f57bd29c3eb1404dce9b47f9b5dee6203cb0f40ad0e600826b"
   }
  }
 },
 "nbformat": 4,
 "nbformat_minor": 2
}

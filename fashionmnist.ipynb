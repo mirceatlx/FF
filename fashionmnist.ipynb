{
 "cells": [
  {
   "attachments": {},
   "cell_type": "markdown",
   "metadata": {},
   "source": [
    "# Fashion MNIST benchmarks"
   ]
  },
  {
   "attachments": {},
   "cell_type": "markdown",
   "metadata": {},
   "source": [
    "## Imports"
   ]
  },
  {
   "cell_type": "code",
   "execution_count": 1,
   "metadata": {},
   "outputs": [],
   "source": [
    "import torch\n",
    "import torchvision\n",
    "import torch.nn as nn\n",
    "import torch.nn.functional as F\n",
    "import numpy as np\n",
    "from ff import FF, FFLayer\n",
    "from data import MergedDataset, FashionMNIST\n",
    "from tqdm import tqdm\n",
    "import matplotlib.pyplot as plt\n",
    "import random"
   ]
  },
  {
   "cell_type": "code",
   "execution_count": 2,
   "metadata": {},
   "outputs": [],
   "source": [
    "device = \"cuda\" if torch.cuda.is_available() else \"cpu\""
   ]
  },
  {
   "attachments": {},
   "cell_type": "markdown",
   "metadata": {},
   "source": [
    "## Dataset"
   ]
  },
  {
   "attachments": {},
   "cell_type": "markdown",
   "metadata": {},
   "source": [
    "The batch sizes"
   ]
  },
  {
   "cell_type": "code",
   "execution_count": 3,
   "metadata": {},
   "outputs": [],
   "source": [
    "batch_size_train = 512\n",
    "batch_size_test = 512"
   ]
  },
  {
   "attachments": {},
   "cell_type": "markdown",
   "metadata": {},
   "source": [
    "Creating 3 different types of loaders, one for train positive, one for train negative with masks and another for test."
   ]
  },
  {
   "cell_type": "code",
   "execution_count": 4,
   "metadata": {},
   "outputs": [],
   "source": [
    "# load fashion-mnist FASHIOn-MNIST\n",
    "train_loader = torch.utils.data.DataLoader(\n",
    "    torchvision.datasets.FashionMNIST('./datasets/FashionMNIST', train=True, download=True,\n",
    "                          transform=torchvision.transforms.Compose([\n",
    "                            torchvision.transforms.ToTensor(),\n",
    "                            torchvision.transforms.Normalize(\n",
    "                                (0.2860,), (0.3530,))\n",
    "                            ])),\n",
    "    batch_size=batch_size_train, shuffle=True)\n",
    "\n",
    "train_loader_negative = torch.utils.data.DataLoader(MergedDataset(torchvision.datasets.FashionMNIST('./datasets/FashionMNIST/', train=True, download=True,\n",
    "                             transform=torchvision.transforms.Compose([\n",
    "                               torchvision.transforms.ToTensor(),\n",
    "                               torchvision.transforms.Normalize(\n",
    "                                 (0.1307,), (0.3081,))\n",
    "                             ])), 5, FashionMNIST.negative_data_generation), batch_size=batch_size_train, shuffle=True)    \n",
    "\n",
    "test_loader = torch.utils.data.DataLoader(\n",
    "  torchvision.datasets.FashionMNIST('./datasets/FashionMNIST/', train=False, download=True,\n",
    "                             transform=torchvision.transforms.Compose([\n",
    "                               torchvision.transforms.ToTensor(),\n",
    "                               torchvision.transforms.Normalize(\n",
    "                                 (0.1307,), (0.3081,))\n",
    "                             ])),\n",
    "  batch_size=batch_size_test, shuffle=True)"
   ]
  },
  {
   "attachments": {},
   "cell_type": "markdown",
   "metadata": {},
   "source": [
    "Showing 4 random images from the FMNIST dataset."
   ]
  },
  {
   "cell_type": "code",
   "execution_count": 5,
   "metadata": {},
   "outputs": [
    {
     "data": {
      "image/png": "[encoded data removed]",
      "text/plain": [
       "<Figure size 432x288 with 1 Axes>"
      ]
     },
     "metadata": {
      "needs_background": "light"
     },
     "output_type": "display_data"
    },
    {
     "name": "stdout",
     "output_type": "stream",
     "text": [
      "    7     4     8     5\n"
     ]
    }
   ],
   "source": [
    "# get some random training images\n",
    "dataiter = iter(train_loader)\n",
    "images, labels = next(dataiter)\n",
    "\n",
    "# show images\n",
    "plt.imshow(np.transpose(torchvision.utils.make_grid(images[:4], padding=2, normalize=True).cpu(),(1,2,0)))\n",
    "plt.show()\n",
    "\n",
    "# print labels\n",
    "print(' '.join('%5s' % labels[j].item() for j in range(4)))\n"
   ]
  },
  {
   "attachments": {},
   "cell_type": "markdown",
   "metadata": {},
   "source": [
    "Showing a negative data point made with masks"
   ]
  },
  {
   "cell_type": "code",
   "execution_count": 6,
   "metadata": {},
   "outputs": [
    {
     "data": {
      "text/plain": [
       "<matplotlib.image.AxesImage at 0x23fbfe75030>"
      ]
     },
     "execution_count": 6,
     "metadata": {},
     "output_type": "execute_result"
    },
    {
     "data": {
      "image/png": "[encoded data removed]",
      "text/plain": [
       "<Figure size 432x288 with 1 Axes>"
      ]
     },
     "metadata": {
      "needs_background": "light"
     },
     "output_type": "display_data"
    }
   ],
   "source": [
    "image = next(iter(train_loader_negative))\n",
    "image = image.reshape((-1, 1, 28, 28))[0]\n",
    "plt.imshow(image.reshape((28, 28)), cmap='gray')"
   ]
  },
  {
   "attachments": {},
   "cell_type": "markdown",
   "metadata": {},
   "source": [
    "## Parameters and model"
   ]
  },
  {
   "attachments": {},
   "cell_type": "markdown",
   "metadata": {},
   "source": [
    "We set the threshold, training parameters, learning rates, goodness function and time spent awake and sleeping."
   ]
  },
  {
   "cell_type": "code",
   "execution_count": 7,
   "metadata": {},
   "outputs": [],
   "source": [
    "threshold = 1.5\n",
    "epochs_per_layer = 50\n",
    "\n",
    "optim_config = {\n",
    "    \"lr\": 0.001,\n",
    "}\n",
    "positive_optim_config = {\n",
    "    \"lr\": 0.001,\n",
    "\n",
    "}\n",
    "negative_optim_config = {\n",
    "    \"lr\": 0.001,\n",
    "}\n",
    "\n",
    "goodness_function = lambda x: x.pow(2).mean(1)\n",
    "awake_period = 1\n",
    "sleep_period = 1"
   ]
  },
  {
   "attachments": {},
   "cell_type": "markdown",
   "metadata": {},
   "source": [
    "Model declaration"
   ]
  },
  {
   "cell_type": "code",
   "execution_count": 8,
   "metadata": {},
   "outputs": [],
   "source": [
    "\n",
    "model = FF(device=device)\n",
    "\n",
    "# First layer\n",
    "model.add_layer(FFLayer(nn.Linear(784, 500).to(device), \n",
    "                        optimizer=torch.optim.Adam, \n",
    "                        epochs=epochs_per_layer, \n",
    "                        threshold=threshold, \n",
    "                        activation=nn.ReLU(), \n",
    "                        optim_config=optim_config, \n",
    "                        positive_optim_config=positive_optim_config, \n",
    "                        negative_optim_config=negative_optim_config, \n",
    "                        name=\"layer 1\", \n",
    "                        device = device, \n",
    "                        goodness_function=goodness_function).to(device))\n",
    "# Second layer\n",
    "model.add_layer(FFLayer(nn.Linear(500, 500).to(device), \n",
    "                        optimizer=torch.optim.Adam, \n",
    "                        epochs=epochs_per_layer, \n",
    "                        threshold=threshold, \n",
    "                        activation=nn.ReLU(), \n",
    "                        optim_config=optim_config, \n",
    "                        positive_optim_config=positive_optim_config, \n",
    "                        negative_optim_config=negative_optim_config, \n",
    "                        name=\"layer 2\", \n",
    "                        device = device, \n",
    "                        goodness_function=goodness_function).to(device))\n",
    "# Last layer\n",
    "model.add_layer(FFLayer(nn.Linear(500, 500).to(device), \n",
    "                        optimizer=torch.optim.Adam, \n",
    "                        epochs=epochs_per_layer, \n",
    "                        threshold=threshold, \n",
    "                        activation=nn.ReLU(), \n",
    "                        optim_config=optim_config, \n",
    "                        positive_optim_config=positive_optim_config, \n",
    "                        negative_optim_config=negative_optim_config, \n",
    "                        name=\"layer 3\", \n",
    "                        device = device, \n",
    "                        goodness_function=goodness_function).to(device))\n",
    "\n",
    "model = model.to(device)"
   ]
  },
  {
   "attachments": {},
   "cell_type": "markdown",
   "metadata": {},
   "source": [
    "## Train"
   ]
  },
  {
   "cell_type": "code",
   "execution_count": 11,
   "metadata": {},
   "outputs": [
    {
     "name": "stderr",
     "output_type": "stream",
     "text": [
      "Epochs:   0%|          | 0/500 [00:00<?, ?it/s]"
     ]
    },
    {
     "name": "stdout",
     "output_type": "stream",
     "text": [
      "Training currently at hour: 1 which is in Sleep state\n"
     ]
    },
    {
     "name": "stderr",
     "output_type": "stream",
     "text": []
    },
    {
     "name": "stdout",
     "output_type": "stream",
     "text": [
      "Training currently at hour: 2 which is in Awake state\n"
     ]
    },
    {
     "name": "stderr",
     "output_type": "stream",
     "text": []
    },
    {
     "name": "stdout",
     "output_type": "stream",
     "text": [
      "Training currently at hour: 3 which is in Sleep state\n"
     ]
    },
    {
     "name": "stderr",
     "output_type": "stream",
     "text": []
    },
    {
     "name": "stdout",
     "output_type": "stream",
     "text": [
      "Training currently at hour: 4 which is in Awake state\n"
     ]
    },
    {
     "name": "stderr",
     "output_type": "stream",
     "text": []
    },
    {
     "name": "stdout",
     "output_type": "stream",
     "text": [
      "Training currently at hour: 5 which is in Sleep state\n"
     ]
    },
    {
     "name": "stderr",
     "output_type": "stream",
     "text": []
    },
    {
     "name": "stdout",
     "output_type": "stream",
     "text": [
      "Training currently at hour: 6 which is in Awake state\n"
     ]
    },
    {
     "name": "stderr",
     "output_type": "stream",
     "text": []
    },
    {
     "name": "stdout",
     "output_type": "stream",
     "text": [
      "Training currently at hour: 7 which is in Sleep state\n"
     ]
    },
    {
     "name": "stderr",
     "output_type": "stream",
     "text": []
    },
    {
     "name": "stdout",
     "output_type": "stream",
     "text": [
      "Training currently at hour: 8 which is in Awake state\n"
     ]
    },
    {
     "name": "stderr",
     "output_type": "stream",
     "text": [
      "Training:   7%|▋         | 8/118 [00:23<05:22,  2.93s/it]\n",
      "Epochs:   0%|          | 0/500 [00:23<?, ?it/s]\n"
     ]
    },
    {
     "ename": "KeyboardInterrupt",
     "evalue": "",
     "output_type": "error",
     "traceback": [
      "\u001b[1;31m---------------------------------------------------------------------------\u001b[0m",
      "\u001b[1;31mKeyboardInterrupt\u001b[0m                         Traceback (most recent call last)",
      "\u001b[1;32ms:\\Shared Delft\\FF\\fashionmnist.ipynb Cell 20\u001b[0m in \u001b[0;36m<cell line: 14>\u001b[1;34m()\u001b[0m\n\u001b[0;32m     <a href='vscode-notebook-cell:/s%3A/Shared%20Delft/FF/fashionmnist.ipynb#X25sZmlsZQ%3D%3D?line=48'>49</a>\u001b[0m \u001b[39mif\u001b[39;00m hour \u001b[39m%\u001b[39m (awake_period \u001b[39m+\u001b[39m sleep_period) \u001b[39m<\u001b[39m awake_period:\n\u001b[0;32m     <a href='vscode-notebook-cell:/s%3A/Shared%20Delft/FF/fashionmnist.ipynb#X25sZmlsZQ%3D%3D?line=49'>50</a>\u001b[0m     x_pos,_ \u001b[39m=\u001b[39m FashionMNIST\u001b[39m.\u001b[39moverlay_y_on_x(x_pos, y)\n\u001b[1;32m---> <a href='vscode-notebook-cell:/s%3A/Shared%20Delft/FF/fashionmnist.ipynb#X25sZmlsZQ%3D%3D?line=50'>51</a>\u001b[0m     model\u001b[39m.\u001b[39;49mforward_positive(x_pos)\n\u001b[0;32m     <a href='vscode-notebook-cell:/s%3A/Shared%20Delft/FF/fashionmnist.ipynb#X25sZmlsZQ%3D%3D?line=51'>52</a>\u001b[0m \u001b[39melse\u001b[39;00m:\n\u001b[0;32m     <a href='vscode-notebook-cell:/s%3A/Shared%20Delft/FF/fashionmnist.ipynb#X25sZmlsZQ%3D%3D?line=52'>53</a>\u001b[0m     x_neg,_ \u001b[39m=\u001b[39m FashionMNIST\u001b[39m.\u001b[39moverlay_y_on_x(x_pos, get_negative_y(y))\n",
      "File \u001b[1;32ms:\\Shared Delft\\FF\\ff.py:125\u001b[0m, in \u001b[0;36mFF.forward_positive\u001b[1;34m(self, x_pos)\u001b[0m\n\u001b[0;32m    123\u001b[0m losses \u001b[39m=\u001b[39m []\n\u001b[0;32m    124\u001b[0m \u001b[39mfor\u001b[39;00m _, layer \u001b[39min\u001b[39;00m \u001b[39menumerate\u001b[39m(\u001b[39mself\u001b[39m\u001b[39m.\u001b[39mlayers):\n\u001b[1;32m--> 125\u001b[0m     x_pos, loss \u001b[39m=\u001b[39m layer\u001b[39m.\u001b[39;49mforward_positive(x_pos)\n\u001b[0;32m    126\u001b[0m     losses\u001b[39m.\u001b[39mappend(loss)\n\u001b[0;32m    127\u001b[0m \u001b[39mreturn\u001b[39;00m np\u001b[39m.\u001b[39mmean(losses)\n",
      "File \u001b[1;32ms:\\Shared Delft\\FF\\ff.py:58\u001b[0m, in \u001b[0;36mFFLayer.forward_positive\u001b[1;34m(self, x_pos)\u001b[0m\n\u001b[0;32m     56\u001b[0m     losses\u001b[39m.\u001b[39mappend(loss\u001b[39m.\u001b[39mitem())\n\u001b[0;32m     57\u001b[0m     loss\u001b[39m.\u001b[39mbackward()\n\u001b[1;32m---> 58\u001b[0m     \u001b[39mself\u001b[39;49m\u001b[39m.\u001b[39;49moptim_pos\u001b[39m.\u001b[39;49mstep()\n\u001b[0;32m     59\u001b[0m \u001b[39mwith\u001b[39;00m torch\u001b[39m.\u001b[39mno_grad():\n\u001b[0;32m     60\u001b[0m     h_pos \u001b[39m=\u001b[39m \u001b[39mself\u001b[39m\u001b[39m.\u001b[39mcall(x_pos)\n",
      "File \u001b[1;32mc:\\Python310\\lib\\site-packages\\torch\\optim\\optimizer.py:140\u001b[0m, in \u001b[0;36mOptimizer._hook_for_profile.<locals>.profile_hook_step.<locals>.wrapper\u001b[1;34m(*args, **kwargs)\u001b[0m\n\u001b[0;32m    138\u001b[0m profile_name \u001b[39m=\u001b[39m \u001b[39m\"\u001b[39m\u001b[39mOptimizer.step#\u001b[39m\u001b[39m{}\u001b[39;00m\u001b[39m.step\u001b[39m\u001b[39m\"\u001b[39m\u001b[39m.\u001b[39mformat(obj\u001b[39m.\u001b[39m\u001b[39m__class__\u001b[39m\u001b[39m.\u001b[39m\u001b[39m__name__\u001b[39m)\n\u001b[0;32m    139\u001b[0m \u001b[39mwith\u001b[39;00m torch\u001b[39m.\u001b[39mautograd\u001b[39m.\u001b[39mprofiler\u001b[39m.\u001b[39mrecord_function(profile_name):\n\u001b[1;32m--> 140\u001b[0m     out \u001b[39m=\u001b[39m func(\u001b[39m*\u001b[39margs, \u001b[39m*\u001b[39m\u001b[39m*\u001b[39mkwargs)\n\u001b[0;32m    141\u001b[0m     obj\u001b[39m.\u001b[39m_optimizer_step_code()\n\u001b[0;32m    142\u001b[0m     \u001b[39mreturn\u001b[39;00m out\n",
      "File \u001b[1;32mc:\\Python310\\lib\\site-packages\\torch\\optim\\optimizer.py:23\u001b[0m, in \u001b[0;36m_use_grad_for_differentiable.<locals>._use_grad\u001b[1;34m(self, *args, **kwargs)\u001b[0m\n\u001b[0;32m     21\u001b[0m \u001b[39mtry\u001b[39;00m:\n\u001b[0;32m     22\u001b[0m     torch\u001b[39m.\u001b[39mset_grad_enabled(\u001b[39mself\u001b[39m\u001b[39m.\u001b[39mdefaults[\u001b[39m'\u001b[39m\u001b[39mdifferentiable\u001b[39m\u001b[39m'\u001b[39m])\n\u001b[1;32m---> 23\u001b[0m     ret \u001b[39m=\u001b[39m func(\u001b[39mself\u001b[39m, \u001b[39m*\u001b[39margs, \u001b[39m*\u001b[39m\u001b[39m*\u001b[39mkwargs)\n\u001b[0;32m     24\u001b[0m \u001b[39mfinally\u001b[39;00m:\n\u001b[0;32m     25\u001b[0m     torch\u001b[39m.\u001b[39mset_grad_enabled(prev_grad)\n",
      "File \u001b[1;32mc:\\Python310\\lib\\site-packages\\torch\\optim\\adam.py:234\u001b[0m, in \u001b[0;36mAdam.step\u001b[1;34m(self, closure, grad_scaler)\u001b[0m\n\u001b[0;32m    231\u001b[0m                 \u001b[39mraise\u001b[39;00m \u001b[39mRuntimeError\u001b[39;00m(\u001b[39m'\u001b[39m\u001b[39m`requires_grad` is not supported for `step` in differentiable mode\u001b[39m\u001b[39m'\u001b[39m)\n\u001b[0;32m    232\u001b[0m             state_steps\u001b[39m.\u001b[39mappend(state[\u001b[39m'\u001b[39m\u001b[39mstep\u001b[39m\u001b[39m'\u001b[39m])\n\u001b[1;32m--> 234\u001b[0m     adam(params_with_grad,\n\u001b[0;32m    235\u001b[0m          grads,\n\u001b[0;32m    236\u001b[0m          exp_avgs,\n\u001b[0;32m    237\u001b[0m          exp_avg_sqs,\n\u001b[0;32m    238\u001b[0m          max_exp_avg_sqs,\n\u001b[0;32m    239\u001b[0m          state_steps,\n\u001b[0;32m    240\u001b[0m          amsgrad\u001b[39m=\u001b[39;49mgroup[\u001b[39m'\u001b[39;49m\u001b[39mamsgrad\u001b[39;49m\u001b[39m'\u001b[39;49m],\n\u001b[0;32m    241\u001b[0m          beta1\u001b[39m=\u001b[39;49mbeta1,\n\u001b[0;32m    242\u001b[0m          beta2\u001b[39m=\u001b[39;49mbeta2,\n\u001b[0;32m    243\u001b[0m          lr\u001b[39m=\u001b[39;49mgroup[\u001b[39m'\u001b[39;49m\u001b[39mlr\u001b[39;49m\u001b[39m'\u001b[39;49m],\n\u001b[0;32m    244\u001b[0m          weight_decay\u001b[39m=\u001b[39;49mgroup[\u001b[39m'\u001b[39;49m\u001b[39mweight_decay\u001b[39;49m\u001b[39m'\u001b[39;49m],\n\u001b[0;32m    245\u001b[0m          eps\u001b[39m=\u001b[39;49mgroup[\u001b[39m'\u001b[39;49m\u001b[39meps\u001b[39;49m\u001b[39m'\u001b[39;49m],\n\u001b[0;32m    246\u001b[0m          maximize\u001b[39m=\u001b[39;49mgroup[\u001b[39m'\u001b[39;49m\u001b[39mmaximize\u001b[39;49m\u001b[39m'\u001b[39;49m],\n\u001b[0;32m    247\u001b[0m          foreach\u001b[39m=\u001b[39;49mgroup[\u001b[39m'\u001b[39;49m\u001b[39mforeach\u001b[39;49m\u001b[39m'\u001b[39;49m],\n\u001b[0;32m    248\u001b[0m          capturable\u001b[39m=\u001b[39;49mgroup[\u001b[39m'\u001b[39;49m\u001b[39mcapturable\u001b[39;49m\u001b[39m'\u001b[39;49m],\n\u001b[0;32m    249\u001b[0m          differentiable\u001b[39m=\u001b[39;49mgroup[\u001b[39m'\u001b[39;49m\u001b[39mdifferentiable\u001b[39;49m\u001b[39m'\u001b[39;49m],\n\u001b[0;32m    250\u001b[0m          fused\u001b[39m=\u001b[39;49mgroup[\u001b[39m'\u001b[39;49m\u001b[39mfused\u001b[39;49m\u001b[39m'\u001b[39;49m],\n\u001b[0;32m    251\u001b[0m          grad_scale\u001b[39m=\u001b[39;49mgrad_scale,\n\u001b[0;32m    252\u001b[0m          found_inf\u001b[39m=\u001b[39;49mfound_inf)\n\u001b[0;32m    254\u001b[0m \u001b[39mreturn\u001b[39;00m loss\n",
      "File \u001b[1;32mc:\\Python310\\lib\\site-packages\\torch\\optim\\adam.py:300\u001b[0m, in \u001b[0;36madam\u001b[1;34m(params, grads, exp_avgs, exp_avg_sqs, max_exp_avg_sqs, state_steps, foreach, capturable, differentiable, fused, grad_scale, found_inf, amsgrad, beta1, beta2, lr, weight_decay, eps, maximize)\u001b[0m\n\u001b[0;32m    297\u001b[0m \u001b[39melse\u001b[39;00m:\n\u001b[0;32m    298\u001b[0m     func \u001b[39m=\u001b[39m _single_tensor_adam\n\u001b[1;32m--> 300\u001b[0m func(params,\n\u001b[0;32m    301\u001b[0m      grads,\n\u001b[0;32m    302\u001b[0m      exp_avgs,\n\u001b[0;32m    303\u001b[0m      exp_avg_sqs,\n\u001b[0;32m    304\u001b[0m      max_exp_avg_sqs,\n\u001b[0;32m    305\u001b[0m      state_steps,\n\u001b[0;32m    306\u001b[0m      amsgrad\u001b[39m=\u001b[39;49mamsgrad,\n\u001b[0;32m    307\u001b[0m      beta1\u001b[39m=\u001b[39;49mbeta1,\n\u001b[0;32m    308\u001b[0m      beta2\u001b[39m=\u001b[39;49mbeta2,\n\u001b[0;32m    309\u001b[0m      lr\u001b[39m=\u001b[39;49mlr,\n\u001b[0;32m    310\u001b[0m      weight_decay\u001b[39m=\u001b[39;49mweight_decay,\n\u001b[0;32m    311\u001b[0m      eps\u001b[39m=\u001b[39;49meps,\n\u001b[0;32m    312\u001b[0m      maximize\u001b[39m=\u001b[39;49mmaximize,\n\u001b[0;32m    313\u001b[0m      capturable\u001b[39m=\u001b[39;49mcapturable,\n\u001b[0;32m    314\u001b[0m      differentiable\u001b[39m=\u001b[39;49mdifferentiable,\n\u001b[0;32m    315\u001b[0m      grad_scale\u001b[39m=\u001b[39;49mgrad_scale,\n\u001b[0;32m    316\u001b[0m      found_inf\u001b[39m=\u001b[39;49mfound_inf)\n",
      "File \u001b[1;32mc:\\Python310\\lib\\site-packages\\torch\\optim\\adam.py:410\u001b[0m, in \u001b[0;36m_single_tensor_adam\u001b[1;34m(params, grads, exp_avgs, exp_avg_sqs, max_exp_avg_sqs, state_steps, grad_scale, found_inf, amsgrad, beta1, beta2, lr, weight_decay, eps, maximize, capturable, differentiable)\u001b[0m\n\u001b[0;32m    408\u001b[0m     denom \u001b[39m=\u001b[39m (max_exp_avg_sqs[i]\u001b[39m.\u001b[39msqrt() \u001b[39m/\u001b[39m bias_correction2_sqrt)\u001b[39m.\u001b[39madd_(eps)\n\u001b[0;32m    409\u001b[0m \u001b[39melse\u001b[39;00m:\n\u001b[1;32m--> 410\u001b[0m     denom \u001b[39m=\u001b[39m (exp_avg_sq\u001b[39m.\u001b[39;49msqrt() \u001b[39m/\u001b[39;49m bias_correction2_sqrt)\u001b[39m.\u001b[39;49madd_(eps)\n\u001b[0;32m    412\u001b[0m param\u001b[39m.\u001b[39maddcdiv_(exp_avg, denom, value\u001b[39m=\u001b[39m\u001b[39m-\u001b[39mstep_size)\n",
      "\u001b[1;31mKeyboardInterrupt\u001b[0m: "
     ]
    }
   ],
   "source": [
    "epochs = 500\n",
    "hour = 0\n",
    "print_every = 10\n",
    "with_masks = False\n",
    "\n",
    "def get_random_number_besides(x):\n",
    "    num = random.randint(0,9)\n",
    "    if num==x: return get_random_number_besides(x)\n",
    "    return num\n",
    "\n",
    "def get_negative_y(y):\n",
    "    return torch.tensor([get_random_number_besides(i) for i in y], dtype = torch.long).to(device)\n",
    "\n",
    "for i in tqdm(range(epochs), desc=\"Epochs\"):\n",
    "    if i % print_every == 1:\n",
    "        predictions, real = FashionMNIST.predict(test_loader, model, device)\n",
    "        acc = np.sum(predictions == real)/len(real)\n",
    "        print(\"Accuracy on test data: \", acc)\n",
    "        \n",
    "        predictions, real = FashionMNIST.predict(train_loader, model, device)\n",
    "        acc = np.sum(predictions == real)/len(real)\n",
    "        print(\"Accuracy on train data: \", acc)\n",
    "        \n",
    "\n",
    "    model.train()\n",
    "\n",
    "    if with_masks:\n",
    "        \n",
    "        for a, b in tqdm(zip(enumerate(train_loader), enumerate(train_loader_negative)), desc=\"Training currently at hour: \" + str(hour) + f\" which is in {'Awake' if hour % (awake_period + sleep_period) < awake_period else 'Sleep' } state\", total=len(train_loader)):\n",
    "\n",
    "            x_pos = a[1][0].to(device)\n",
    "            y = a[1][1].to(device)\n",
    "\n",
    "\n",
    "            if hour % (awake_period + sleep_period) < awake_period:\n",
    "                x_pos,_ = FashionMNIST.overlay_y_on_x(x_pos, y)\n",
    "                model.forward_positive(x_pos)\n",
    "            else:\n",
    "                x_neg,_ = FashionMNIST.overlay_y_on_x(b[1].to(device), y)\n",
    "                model.forward_negative(x_neg)\n",
    "\n",
    "            hour += 1\n",
    "            print(\"Training currently at hour: \" + str(hour) + f\" which is in {'Awake' if hour % (awake_period + sleep_period) < awake_period else 'Sleep' } state\")\n",
    "    else:\n",
    "\n",
    "        for a in tqdm(enumerate(train_loader), desc=\"Training\", total=len(train_loader)):\n",
    "            x_pos = a[1][0].to(device)\n",
    "            y = a[1][1].to(device)\n",
    "            if hour % (awake_period + sleep_period) < awake_period:\n",
    "                x_pos,_ = FashionMNIST.overlay_y_on_x(x_pos, y)\n",
    "                model.forward_positive(x_pos)\n",
    "            else:\n",
    "                x_neg,_ = FashionMNIST.overlay_y_on_x(x_pos, get_negative_y(y))\n",
    "                model.forward_negative(x_neg)\n",
    "            hour += 1\n",
    "            print(\"Training currently at hour: \" + str(hour) + f\" which is in {'Awake' if hour % (awake_period + sleep_period) < awake_period else 'Sleep' } state\")"
   ]
  },
  {
   "cell_type": "code",
   "execution_count": null,
   "metadata": {},
   "outputs": [],
   "source": []
  }
 ],
 "metadata": {
  "kernelspec": {
   "display_name": "Python 3",
   "language": "python",
   "name": "python3"
  },
  "language_info": {
   "codemirror_mode": {
    "name": "ipython",
    "version": 3
   },
   "file_extension": ".py",
   "mimetype": "text/x-python",
   "name": "python",
   "nbconvert_exporter": "python",
   "pygments_lexer": "ipython3",
   "version": "3.10.6"
  },
  "orig_nbformat": 4,
  "vscode": {
   "interpreter": {
    "hash": "d6f8d400343bb3f57bd29c3eb1404dce9b47f9b5dee6203cb0f40ad0e600826b"
   }
  }
 },
 "nbformat": 4,
 "nbformat_minor": 2
}

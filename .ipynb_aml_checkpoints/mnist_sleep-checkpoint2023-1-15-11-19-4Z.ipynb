{
 "cells": [
  {
   "cell_type": "code",
   "execution_count": 1,
   "id": "164a8e66",
   "metadata": {},
   "outputs": [
    {
     "name": "stderr",
     "output_type": "stream",
     "text": [
      "/anaconda/envs/azureml_py38_PT_TF/lib/python3.8/site-packages/tqdm/auto.py:22: TqdmWarning: IProgress not found. Please update jupyter and ipywidgets. See https://ipywidgets.readthedocs.io/en/stable/user_install.html\n",
      "  from .autonotebook import tqdm as notebook_tqdm\n"
     ]
    }
   ],
   "source": [
    "import torch\n",
    "import torchvision\n",
    "import torch.nn as nn\n",
    "import torch.nn.functional as F\n",
    "import numpy as np\n",
    "import wandb\n",
    "from ff import FF, FFLayer\n",
    "from data import MNIST\n",
    "from tqdm import tqdm"
   ]
  },
  {
   "cell_type": "code",
   "execution_count": 2,
   "id": "7c9bec64",
   "metadata": {},
   "outputs": [],
   "source": [
    "# device = \"mps\" if torch.backends.mps.is_available() else \"cpu\"\n",
    "device = \"cuda\" if torch.cuda.is_available() else \"cpu\""
   ]
  },
  {
   "cell_type": "code",
   "execution_count": 3,
   "id": "60271c94",
   "metadata": {},
   "outputs": [],
   "source": [
    "batch_size_train = 512\n",
    "batch_size_test = 512"
   ]
  },
  {
   "cell_type": "code",
   "execution_count": 4,
   "id": "e80f3a51",
   "metadata": {},
   "outputs": [],
   "source": [
    "train_loader = torch.utils.data.DataLoader(\n",
    "  torchvision.datasets.MNIST('./datasets/MNIST/', train=True, download=True,\n",
    "                             transform=torchvision.transforms.Compose([\n",
    "                               torchvision.transforms.ToTensor(),\n",
    "                               torchvision.transforms.Normalize(\n",
    "                                 (0.1307,), (0.3081,))\n",
    "                             ])),\n",
    "  batch_size=batch_size_train, shuffle=True)"
   ]
  },
  {
   "cell_type": "code",
   "execution_count": 5,
   "id": "1f0f5681",
   "metadata": {},
   "outputs": [],
   "source": [
    "test_loader = torch.utils.data.DataLoader(\n",
    "  torchvision.datasets.MNIST('./datasets/MNIST/', train=False, download=True,\n",
    "                             transform=torchvision.transforms.Compose([\n",
    "                               torchvision.transforms.ToTensor(),\n",
    "                               torchvision.transforms.Normalize(\n",
    "                                 (0.1307,), (0.3081,))\n",
    "                             ])),\n",
    "  batch_size=batch_size_test, shuffle=True)"
   ]
  },
  {
   "cell_type": "code",
   "execution_count": 26,
   "id": "bac009c4",
   "metadata": {},
   "outputs": [],
   "source": [
    "threshold = 1.5\n",
    "epochs = 50\n",
    "model = FF(logging=False, device=device)\n",
    "optim_config = {\n",
    "    \"lr\": 0.01,\n",
    "}\n",
    "positive_optim_config = {\n",
    "    \"lr\": 0.005,\n",
    "\n",
    "}\n",
    "negative_optim_config = {\n",
    "    \"lr\": 0.01,\n",
    "}\n",
    "model.add_layer(FFLayer(nn.Linear(784, 500).to(device), optimizer=torch.optim.Adam, epochs=epochs, threshold=threshold, activation=nn.ReLU(), optim_config=optim_config, positive_optim_config=positive_optim_config, negative_optim_config=negative_optim_config, logging=False, name=\"layer 1\").to(device))\n",
    "model.add_layer(FFLayer(nn.Linear(500, 500).to(device), optimizer=torch.optim.Adam, epochs=epochs, threshold=threshold, activation=nn.ReLU(), optim_config=optim_config, positive_optim_config=positive_optim_config, negative_optim_config=negative_optim_config, logging=False, name=\"layer 2\").to(device))\n",
    "model.add_layer(FFLayer(nn.Linear(500, 500).to(device), optimizer=torch.optim.Adam, epochs=epochs, threshold=threshold, activation=nn.ReLU(), optim_config=optim_config, positive_optim_config=positive_optim_config, negative_optim_config=negative_optim_config, logging=False, name=\"layer 3\").to(device))"
   ]
  },
  {
   "cell_type": "markdown",
   "id": "7d0e781e",
   "metadata": {},
   "source": [
    "# Training"
   ]
  },
  {
   "cell_type": "code",
   "execution_count": 27,
   "id": "dfd050f6",
   "metadata": {},
   "outputs": [],
   "source": [
    "# wandb.init(project=\"MNIST\", entity=\"ffalgo\")\n",
    "# wandb.config = {\n",
    "#   \"learning_rate\": 0.01,\n",
    "#   \"epochs\": 50,\n",
    "#   \"batch_size\": 32,\n",
    "#   \"activation\": \"relu\",\n",
    "#   \"positive_lr\": 0.005,\n",
    "#   \"negative_lr\": 0.005,\n",
    "#   \"threshold\": threshold,\n",
    "#   \"optimizer\": torch.optim.Adam,\n",
    "#   \"device\": device\n",
    "# }"
   ]
  },
  {
   "cell_type": "code",
   "execution_count": 28,
   "id": "12e5ff4e",
   "metadata": {},
   "outputs": [
    {
     "name": "stderr",
     "output_type": "stream",
     "text": [
      "  0%|                                                                                                                                                                                                                                                                                                                                                                                                                                                                                                                                                                                                                                                                                                                                                                                                                                                                                                                                                                                                          | 0/500 [00:00<?, ?it/s]"
     ]
    },
    {
     "data": {
      "image/png": "[encoded data removed]",
      "text/plain": [
       "<Figure size 432x288 with 1 Axes>"
      ]
     },
     "metadata": {
      "needs_background": "light"
     },
     "output_type": "display_data"
    }
   ],
   "source": [
    "import matplotlib.pyplot as plt\n",
    "\n",
    "model = model.to(device)\n",
    "epochs = 500\n",
    "best_acc = 0.0\n",
    "accuracies_train = []\n",
    "accuracies_test = []\n",
    "for i in tqdm(range(epochs)):\n",
    "        \n",
    "\n",
    "    # wandb.log({\"Accuracy on train data\": acc})    \n",
    "    model.train()\n",
    "\n",
    "    for i, (x, y) in enumerate(train_loader):\n",
    "        x_pos, _ = MNIST.overlay_y_on_x(x, y)\n",
    "        rnd = torch.randperm(x.size(0))\n",
    "        x_neg, _ = MNIST.overlay_y_on_x(x, y[rnd])\n",
    "        x_pos, x_neg = x_pos.to(device), x_neg.to(device)\n",
    "        losses_positive = model.forward_positive(x_pos)\n",
    "        if i % 2 == 1:\n",
    "            losses_negative = model.forward_negative(x_neg)\n",
    "        \n",
    "        if i % 10 == 9:\n",
    "            predictions, real = MNIST.predict(train_loader, model, device)\n",
    "            acc_train = np.sum(predictions == real)/len(real)\n",
    "\n",
    "            predictions, real = MNIST.predict(test_loader, model, device)\n",
    "            acc_test = np.sum(predictions == real)/len(real)\n",
    "\n",
    "\n",
    "            accuracies_train.append(acc_train)\n",
    "            accuracies_test.append(acc_test)\n",
    "\n",
    "            plt.plot(accuracies_train)\n",
    "            plt.plot(accuracies_test)\n",
    "            plt.title('Accuracy')\n",
    "            plt.ylabel('Accuracy')\n",
    "            plt.xlabel('batch number')\n",
    "            plt.legend(['Train', 'Test'], loc='upper left')\n",
    "            plt.show()"
   ]
  },
  {
   "cell_type": "code",
   "execution_count": null,
   "id": "a0012acc",
   "metadata": {},
   "outputs": [],
   "source": []
  }
 ],
 "metadata": {
  "kernelspec": {
   "display_name": "Python 3.8 - Pytorch and Tensorflow",
   "language": "python",
   "name": "python38-azureml-pt-tf"
  },
  "language_info": {
   "codemirror_mode": {
    "name": "ipython",
    "version": 3
   },
   "file_extension": ".py",
   "mimetype": "text/x-python",
   "name": "python",
   "nbconvert_exporter": "python",
   "pygments_lexer": "ipython3",
   "version": "3.8.5"
  },
  "vscode": {
   "interpreter": {
    "hash": "1ffc82101c5eff764050d2685372a31bdf18b27fd6181f429b67cb2396dafb7f"
   }
  }
 },
 "nbformat": 4,
 "nbformat_minor": 5
}

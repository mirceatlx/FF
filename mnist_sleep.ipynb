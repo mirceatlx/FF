{
 "cells": [
  {
   "cell_type": "code",
   "execution_count": 1,
   "id": "164a8e66",
   "metadata": {},
   "outputs": [
    {
     "name": "stderr",
     "output_type": "stream",
     "text": [
      "C:\\Users\\rdyt2\\AppData\\Local\\Packages\\PythonSoftwareFoundation.Python.3.10_qbz5n2kfra8p0\\LocalCache\\local-packages\\Python310\\site-packages\\tqdm\\auto.py:22: TqdmWarning: IProgress not found. Please update jupyter and ipywidgets. See https://ipywidgets.readthedocs.io/en/stable/user_install.html\n",
      "  from .autonotebook import tqdm as notebook_tqdm\n"
     ]
    }
   ],
   "source": [
    "import torch\n",
    "import torchvision\n",
    "import torch.nn as nn\n",
    "import torch.nn.functional as F\n",
    "import numpy as np\n",
    "import wandb\n",
    "from ff import FF, FFLayer, FFEncoder\n",
    "from data import MNIST, MergedDataset\n",
    "from tqdm import tqdm\n",
    "# pip install lion-pytorch\n",
    "from lion_pytorch import Lion\n"
   ]
  },
  {
   "cell_type": "code",
   "execution_count": 2,
   "id": "7c9bec64",
   "metadata": {},
   "outputs": [],
   "source": [
    "# device = \"mps\" if torch.backends.mps.is_available() else \"cpu\"\n",
    "device = \"cuda\" if torch.cuda.is_available() else \"cpu\""
   ]
  },
  {
   "cell_type": "code",
   "execution_count": 3,
   "id": "60271c94",
   "metadata": {},
   "outputs": [],
   "source": [
    "batch_size_train = 512\n",
    "batch_size_test = 512"
   ]
  },
  {
   "cell_type": "code",
   "execution_count": 4,
   "id": "e80f3a51",
   "metadata": {},
   "outputs": [],
   "source": [
    "train_loader = torch.utils.data.DataLoader(\n",
    "  torchvision.datasets.MNIST('./datasets/MNIST/', train=True, download=True,\n",
    "                             transform=torchvision.transforms.Compose([\n",
    "                               torchvision.transforms.ToTensor(),\n",
    "                               torchvision.transforms.Normalize(\n",
    "                                 (0.1307,), (0.3081,))\n",
    "                             ])),\n",
    "  batch_size=batch_size_train, shuffle=True)\n",
    "train_loader_negative = torch.utils.data.DataLoader(MergedDataset(torchvision.datasets.MNIST('./datasets/MNIST/', train=True, download=True,\n",
    "                             transform=torchvision.transforms.Compose([\n",
    "                               torchvision.transforms.ToTensor(),\n",
    "                               torchvision.transforms.Normalize(\n",
    "                                 (0.1307,), (0.3081,))\n",
    "                             ]))), batch_size=batch_size_train, shuffle=True)"
   ]
  },
  {
   "cell_type": "code",
   "execution_count": 5,
   "id": "1f0f5681",
   "metadata": {},
   "outputs": [],
   "source": [
    "test_loader = torch.utils.data.DataLoader(\n",
    "  torchvision.datasets.MNIST('./datasets/MNIST/', train=False, download=True,\n",
    "                             transform=torchvision.transforms.Compose([\n",
    "                               torchvision.transforms.ToTensor(),\n",
    "                               torchvision.transforms.Normalize(\n",
    "                                 (0.1307,), (0.3081,))\n",
    "                             ])),\n",
    "  batch_size=batch_size_test, shuffle=True)\n",
    "  "
   ]
  },
  {
   "cell_type": "code",
   "execution_count": 6,
   "id": "65901119",
   "metadata": {},
   "outputs": [],
   "source": [
    "squared_error = lambda x: x.pow(2).mean(1)\n",
    "deviation_error = lambda x: -((x - x.mean(1).unsqueeze(1)).pow(2).mean(1))\n"
   ]
  },
  {
   "cell_type": "code",
   "execution_count": 10,
   "id": "bac009c4",
   "metadata": {},
   "outputs": [],
   "source": [
    "threshold = 1.5\n",
    "epochs_per_layer = 50\n",
    "model = FF(logging=False, device=device)\n",
    "optim_config = {\n",
    "    \"lr\": 0.001,\n",
    "}\n",
    "positive_optim_config = {\n",
    "    \"lr\": 0.001,\n",
    "\n",
    "}\n",
    "negative_optim_config = {\n",
    "    \"lr\": 0.001,\n",
    "}\n",
    "\n",
    "goodness_function = squared_error\n",
    "awake_period = 4\n",
    "sleep_period = 4\n",
    "\n",
    "model.add_layer(FFEncoder(FFLayer(nn.Linear(784, 500).to(device), optimizer=torch.optim.Adam, epochs=epochs_per_layer, threshold=threshold, activation=nn.ReLU(), optim_config=optim_config, positive_optim_config=positive_optim_config, negative_optim_config=negative_optim_config, logging=False, name=\"layer 1\", device = device, goodness_function=goodness_function).to(device),784,10,784,device).to(device))\n",
    "model.add_layer(FFEncoder(FFLayer(nn.Linear(500, 500).to(device), optimizer=torch.optim.Adam, epochs=epochs_per_layer, threshold=threshold, activation=nn.ReLU(), optim_config=optim_config, positive_optim_config=positive_optim_config, negative_optim_config=negative_optim_config, logging=False, name=\"layer 2\", device = device, goodness_function=goodness_function).to(device),500,10,500,device).to(device))\n",
    "model.add_layer(FFEncoder(FFLayer(nn.Linear(500, 500).to(device), optimizer=torch.optim.Adam, epochs=epochs_per_layer, threshold=threshold, activation=nn.ReLU(), optim_config=optim_config, positive_optim_config=positive_optim_config, negative_optim_config=negative_optim_config, logging=False, name=\"layer 3\", device = device, goodness_function=goodness_function).to(device),500,10,500,device).to(device))"
   ]
  },
  {
   "cell_type": "markdown",
   "id": "7d0e781e",
   "metadata": {},
   "source": [
    "# Training"
   ]
  },
  {
   "cell_type": "code",
   "execution_count": 11,
   "id": "dfd050f6",
   "metadata": {},
   "outputs": [
    {
     "data": {
      "text/html": [
       "Tracking run with wandb version 0.13.10"
      ],
      "text/plain": [
       "<IPython.core.display.HTML object>"
      ]
     },
     "metadata": {},
     "output_type": "display_data"
    },
    {
     "data": {
      "text/html": [
       "Run data is saved locally in <code>c:\\Users\\rdyt2\\Desktop\\FF\\wandb\\run-20230220_072500-37ju9zj5</code>"
      ],
      "text/plain": [
       "<IPython.core.display.HTML object>"
      ]
     },
     "metadata": {},
     "output_type": "display_data"
    },
    {
     "data": {
      "text/html": [
       "Syncing run <strong><a href='https://wandb.ai/ffalgo/MNIST/runs/37ju9zj5' target=\"_blank\">autoencoder-fixed_negative_data-2-awake-1-sleep</a></strong> to <a href='https://wandb.ai/ffalgo/MNIST' target=\"_blank\">Weights & Biases</a> (<a href='https://wandb.me/run' target=\"_blank\">docs</a>)<br/>"
      ],
      "text/plain": [
       "<IPython.core.display.HTML object>"
      ]
     },
     "metadata": {},
     "output_type": "display_data"
    },
    {
     "data": {
      "text/html": [
       " View project at <a href='https://wandb.ai/ffalgo/MNIST' target=\"_blank\">https://wandb.ai/ffalgo/MNIST</a>"
      ],
      "text/plain": [
       "<IPython.core.display.HTML object>"
      ]
     },
     "metadata": {},
     "output_type": "display_data"
    },
    {
     "data": {
      "text/html": [
       " View run at <a href='https://wandb.ai/ffalgo/MNIST/runs/37ju9zj5' target=\"_blank\">https://wandb.ai/ffalgo/MNIST/runs/37ju9zj5</a>"
      ],
      "text/plain": [
       "<IPython.core.display.HTML object>"
      ]
     },
     "metadata": {},
     "output_type": "display_data"
    }
   ],
   "source": [
    "wandb.init(project=\"MNIST\", entity=\"ffalgo\", name=\"autoencoder-fixed_negative_data-4-awake-4-sleep\")\n",
    "wandb.config = {\n",
    "  \"learning_rate\": 0.01,\n",
    "  \"awake_period\": awake_period,\n",
    "  \"sleep_period\": sleep_period,\n",
    "  \"epochs_per_layer\": epochs_per_layer,\n",
    "  \"batch_size\": 512,\n",
    "  \"activation\": \"relu\",\n",
    "  \"positive_lr\": 0.0001,\n",
    "  \"negative_lr\": 0.0001,\n",
    "  \"threshold\": threshold,\n",
    "  \"optimizer\": torch.optim.Adam,\n",
    "  \"device\": device\n",
    "}"
   ]
  },
  {
   "cell_type": "code",
   "execution_count": 12,
   "id": "12e5ff4e",
   "metadata": {},
   "outputs": [
    {
     "name": "stderr",
     "output_type": "stream",
     "text": [
      "100%|██████████| 500/500 [8:38:49<00:00, 62.26s/it]  \n"
     ]
    },
    {
     "data": {
      "text/html": [
       "Waiting for W&B process to finish... <strong style=\"color:green\">(success).</strong>"
      ],
      "text/plain": [
       "<IPython.core.display.HTML object>"
      ]
     },
     "metadata": {},
     "output_type": "display_data"
    },
    {
     "data": {
      "text/html": [
       "<style>\n",
       "    table.wandb td:nth-child(1) { padding: 0 10px; text-align: left ; width: auto;} td:nth-child(2) {text-align: left ; width: 100%}\n",
       "    .wandb-row { display: flex; flex-direction: row; flex-wrap: wrap; justify-content: flex-start; width: 100% }\n",
       "    .wandb-col { display: flex; flex-direction: column; flex-basis: 100%; flex: 1; padding: 10px; }\n",
       "    </style>\n",
       "<div class=\"wandb-row\"><div class=\"wandb-col\"><h3>Run history:</h3><br/><table class=\"wandb\"><tr><td>Accuracy on test data</td><td>▁▁▁▂▂▂▃▄▄▅▅▆▆▇▇▇▇██████▁▁▁▁▁▁▁▁▁▁▁▁▁▁▁▁▁</td></tr><tr><td>Accuracy on train data</td><td>▁▁▁▂▂▂▃▄▄▅▆▆▆▇▇▇▇██████▁▁▁▁▁▁▁▁▁▁▁▁▁▁▁▁▁</td></tr></table><br/></div><div class=\"wandb-col\"><h3>Run summary:</h3><br/><table class=\"wandb\"><tr><td>Accuracy on test data</td><td>0.098</td></tr><tr><td>Accuracy on train data</td><td>0.09872</td></tr></table><br/></div></div>"
      ],
      "text/plain": [
       "<IPython.core.display.HTML object>"
      ]
     },
     "metadata": {},
     "output_type": "display_data"
    },
    {
     "data": {
      "text/html": [
       " View run <strong style=\"color:#cdcd00\">autoencoder-fixed_negative_data-2-awake-1-sleep</strong> at: <a href='https://wandb.ai/ffalgo/MNIST/runs/37ju9zj5' target=\"_blank\">https://wandb.ai/ffalgo/MNIST/runs/37ju9zj5</a><br/>Synced 5 W&B file(s), 0 media file(s), 0 artifact file(s) and 0 other file(s)"
      ],
      "text/plain": [
       "<IPython.core.display.HTML object>"
      ]
     },
     "metadata": {},
     "output_type": "display_data"
    },
    {
     "data": {
      "text/html": [
       "Find logs at: <code>.\\wandb\\run-20230220_072500-37ju9zj5\\logs</code>"
      ],
      "text/plain": [
       "<IPython.core.display.HTML object>"
      ]
     },
     "metadata": {},
     "output_type": "display_data"
    }
   ],
   "source": [
    "model = model.to(device)\n",
    "epochs = 500\n",
    "best_acc = 0.0\n",
    "hour = 0\n",
    "def get_random_number_besides(x):\n",
    "    import random\n",
    "    num = random.randint(0,9)\n",
    "    if num==x: return get_random_number_besides(x)\n",
    "    return num\n",
    "def get_negative_y(y):\n",
    "    return torch.tensor([get_random_number_besides(i) for i in y], dtype = torch.long).to(device)\n",
    "\n",
    "for i in tqdm(range(epochs)):\n",
    "    if i % 4 == 1:\n",
    "        predictions, real = MNIST.predict(test_loader, model, device)\n",
    "        acc = np.sum(predictions == real)/len(real)\n",
    "        wandb.log({\"Accuracy on test data\": acc})\n",
    "        if acc > best_acc and acc > 0.8:\n",
    "            best_acc = acc\n",
    "            # torch.save(model.state_dict(), 'best_mnist_80%.ph')\n",
    "        \n",
    "    predictions, real = MNIST.predict(train_loader, model, device)\n",
    "    acc = np.sum(predictions == real)/len(real)\n",
    "    wandb.log({\"Accuracy on train data\": acc})\n",
    "    model.train()\n",
    "    for _, (x, y) in enumerate(train_loader):\n",
    "        x_pos, _ = MNIST.overlay_y_on_x(x, y)\n",
    "        x_neg, _ = MNIST.overlay_y_on_x(x, get_negative_y(y))\n",
    "        x_pos, x_neg = x_pos.to(device), x_neg.to(device)\n",
    "        if hour % (awake_period + sleep_period) < awake_period:\n",
    "            model.forward_positive(x_pos)\n",
    "        else:\n",
    "            model.forward_negative(x_neg)\n",
    "        # model.forward(x_pos, x_neg)\n",
    "        \n",
    "        hour += 1\n",
    "\n",
    "        \n",
    "wandb.finish()"
   ]
  },
  {
   "cell_type": "code",
   "execution_count": null,
   "id": "a0012acc",
   "metadata": {},
   "outputs": [],
   "source": []
  }
 ],
 "metadata": {
  "kernelspec": {
   "display_name": "Python 3",
   "language": "python",
   "name": "python3"
  },
  "language_info": {
   "codemirror_mode": {
    "name": "ipython",
    "version": 3
   },
   "file_extension": ".py",
   "mimetype": "text/x-python",
   "name": "python",
   "nbconvert_exporter": "python",
   "pygments_lexer": "ipython3",
   "version": "3.10.10"
  },
  "vscode": {
   "interpreter": {
    "hash": "d6f8d400343bb3f57bd29c3eb1404dce9b47f9b5dee6203cb0f40ad0e600826b"
   }
  }
 },
 "nbformat": 4,
 "nbformat_minor": 5
}

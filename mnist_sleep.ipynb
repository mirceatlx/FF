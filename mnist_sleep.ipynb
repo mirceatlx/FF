{
 "cells": [
  {
   "cell_type": "code",
   "execution_count": 1,
   "id": "164a8e66",
   "metadata": {},
   "outputs": [
    {
     "name": "stderr",
     "output_type": "stream",
     "text": [
      "C:\\Users\\rdyt2\\AppData\\Local\\Packages\\PythonSoftwareFoundation.Python.3.10_qbz5n2kfra8p0\\LocalCache\\local-packages\\Python310\\site-packages\\tqdm\\auto.py:22: TqdmWarning: IProgress not found. Please update jupyter and ipywidgets. See https://ipywidgets.readthedocs.io/en/stable/user_install.html\n",
      "  from .autonotebook import tqdm as notebook_tqdm\n"
     ]
    }
   ],
   "source": [
    "import torch\n",
    "import torchvision\n",
    "import torch.nn as nn\n",
    "import torch.nn.functional as F\n",
    "import numpy as np\n",
    "import wandb\n",
    "from ff import FF, FFLayer, FFEncoder\n",
    "from data import MNIST, MergedDataset\n",
    "from tqdm import tqdm\n",
    "# pip install lion-pytorch\n",
    "from lion_pytorch import Lion\n"
   ]
  },
  {
   "cell_type": "code",
   "execution_count": 2,
   "id": "7c9bec64",
   "metadata": {},
   "outputs": [],
   "source": [
    "# device = \"mps\" if torch.backends.mps.is_available() else \"cpu\"\n",
    "device = \"cuda\" if torch.cuda.is_available() else \"cpu\""
   ]
  },
  {
   "cell_type": "code",
   "execution_count": 3,
   "id": "60271c94",
   "metadata": {},
   "outputs": [],
   "source": [
    "batch_size_train = 512\n",
    "batch_size_test = 512"
   ]
  },
  {
   "cell_type": "code",
   "execution_count": 4,
   "id": "e80f3a51",
   "metadata": {},
   "outputs": [],
   "source": [
    "train_loader = torch.utils.data.DataLoader(\n",
    "  torchvision.datasets.MNIST('./datasets/MNIST/', train=True, download=True,\n",
    "                             transform=torchvision.transforms.Compose([\n",
    "                               torchvision.transforms.ToTensor(),\n",
    "                               torchvision.transforms.Normalize(\n",
    "                                 (0.1307,), (0.3081,))\n",
    "                             ])),\n",
    "  batch_size=batch_size_train, shuffle=True)\n",
    "train_loader_negative = torch.utils.data.DataLoader(MergedDataset(torchvision.datasets.MNIST('./datasets/MNIST/', train=True, download=True,\n",
    "                             transform=torchvision.transforms.Compose([\n",
    "                               torchvision.transforms.ToTensor(),\n",
    "                               torchvision.transforms.Normalize(\n",
    "                                 (0.1307,), (0.3081,))\n",
    "                             ]))), batch_size=batch_size_train, shuffle=True)"
   ]
  },
  {
   "cell_type": "code",
   "execution_count": 5,
   "id": "1f0f5681",
   "metadata": {},
   "outputs": [],
   "source": [
    "test_loader = torch.utils.data.DataLoader(\n",
    "  torchvision.datasets.MNIST('./datasets/MNIST/', train=False, download=True,\n",
    "                             transform=torchvision.transforms.Compose([\n",
    "                               torchvision.transforms.ToTensor(),\n",
    "                               torchvision.transforms.Normalize(\n",
    "                                 (0.1307,), (0.3081,))\n",
    "                             ])),\n",
    "  batch_size=batch_size_test, shuffle=True)\n",
    "  "
   ]
  },
  {
   "cell_type": "code",
   "execution_count": 6,
   "id": "65901119",
   "metadata": {},
   "outputs": [],
   "source": [
    "squared_error = lambda x: x.pow(2).mean(1)\n",
    "deviation_error = lambda x: -((x - x.mean(1).unsqueeze(1)).pow(2).mean(1))\n"
   ]
  },
  {
   "cell_type": "code",
   "execution_count": 7,
   "id": "bac009c4",
   "metadata": {},
   "outputs": [
    {
     "name": "stdout",
     "output_type": "stream",
     "text": [
      "torch.Size([512, 784]) torch.Size([512, 784])\n",
      "torch.Size([512, 784]) torch.Size([512, 784])\n",
      "torch.Size([512, 784]) torch.Size([512, 784])\n",
      "torch.Size([512, 784]) torch.Size([512, 784])\n",
      "torch.Size([512, 784]) torch.Size([512, 784])\n",
      "torch.Size([512, 784]) torch.Size([512, 784])\n",
      "torch.Size([512, 784]) torch.Size([512, 784])\n",
      "torch.Size([512, 784]) torch.Size([512, 784])\n",
      "torch.Size([512, 784]) torch.Size([512, 784])\n",
      "torch.Size([512, 784]) torch.Size([512, 784])\n",
      "torch.Size([512, 784]) torch.Size([512, 784])\n",
      "torch.Size([512, 784]) torch.Size([512, 784])\n",
      "torch.Size([512, 784]) torch.Size([512, 784])\n",
      "torch.Size([512, 784]) torch.Size([512, 784])\n",
      "torch.Size([512, 784]) torch.Size([512, 784])\n",
      "torch.Size([512, 784]) torch.Size([512, 784])\n",
      "torch.Size([512, 784]) torch.Size([512, 784])\n",
      "torch.Size([512, 784]) torch.Size([512, 784])\n",
      "torch.Size([512, 784]) torch.Size([512, 784])\n",
      "torch.Size([512, 784]) torch.Size([512, 784])\n",
      "torch.Size([512, 784]) torch.Size([512, 784])\n",
      "torch.Size([512, 784]) torch.Size([512, 784])\n",
      "torch.Size([512, 784]) torch.Size([512, 784])\n",
      "torch.Size([512, 784]) torch.Size([512, 784])\n",
      "torch.Size([512, 784]) torch.Size([512, 784])\n",
      "torch.Size([512, 784]) torch.Size([512, 784])\n",
      "torch.Size([512, 784]) torch.Size([512, 784])\n",
      "torch.Size([512, 784]) torch.Size([512, 784])\n",
      "torch.Size([512, 784]) torch.Size([512, 784])\n",
      "torch.Size([512, 784]) torch.Size([512, 784])\n",
      "torch.Size([512, 784]) torch.Size([512, 784])\n",
      "torch.Size([512, 784]) torch.Size([512, 784])\n",
      "torch.Size([512, 784]) torch.Size([512, 784])\n",
      "torch.Size([512, 784]) torch.Size([512, 784])\n",
      "torch.Size([512, 784]) torch.Size([512, 784])\n",
      "torch.Size([512, 784]) torch.Size([512, 784])\n",
      "torch.Size([512, 784]) torch.Size([512, 784])\n",
      "torch.Size([512, 784]) torch.Size([512, 784])\n",
      "torch.Size([512, 784]) torch.Size([512, 784])\n",
      "torch.Size([512, 784]) torch.Size([512, 784])\n",
      "torch.Size([512, 784]) torch.Size([512, 784])\n",
      "torch.Size([512, 784]) torch.Size([512, 784])\n",
      "torch.Size([512, 784]) torch.Size([512, 784])\n",
      "torch.Size([512, 784]) torch.Size([512, 784])\n",
      "torch.Size([512, 784]) torch.Size([512, 784])\n",
      "torch.Size([512, 784]) torch.Size([512, 784])\n",
      "torch.Size([512, 784]) torch.Size([512, 784])\n",
      "torch.Size([512, 784]) torch.Size([512, 784])\n",
      "torch.Size([512, 784]) torch.Size([512, 784])\n",
      "torch.Size([512, 784]) torch.Size([512, 784])\n",
      "torch.Size([512, 784]) torch.Size([512, 784])\n",
      "torch.Size([512, 784]) torch.Size([512, 784])\n",
      "torch.Size([512, 784]) torch.Size([512, 784])\n",
      "torch.Size([512, 784]) torch.Size([512, 784])\n",
      "torch.Size([512, 784]) torch.Size([512, 784])\n",
      "torch.Size([512, 784]) torch.Size([512, 784])\n",
      "torch.Size([512, 784]) torch.Size([512, 784])\n",
      "torch.Size([512, 784]) torch.Size([512, 784])\n",
      "torch.Size([512, 784]) torch.Size([512, 784])\n",
      "torch.Size([512, 784]) torch.Size([512, 784])\n",
      "torch.Size([512, 784]) torch.Size([512, 784])\n",
      "torch.Size([512, 784]) torch.Size([512, 784])\n",
      "torch.Size([512, 784]) torch.Size([512, 784])\n",
      "torch.Size([512, 784]) torch.Size([512, 784])\n",
      "torch.Size([512, 784]) torch.Size([512, 784])\n",
      "torch.Size([512, 784]) torch.Size([512, 784])\n",
      "torch.Size([512, 784]) torch.Size([512, 784])\n",
      "torch.Size([512, 784]) torch.Size([512, 784])\n",
      "torch.Size([512, 784]) torch.Size([512, 784])\n",
      "torch.Size([512, 784]) torch.Size([512, 784])\n",
      "torch.Size([512, 784]) torch.Size([512, 784])\n",
      "torch.Size([512, 784]) torch.Size([512, 784])\n",
      "torch.Size([512, 784]) torch.Size([512, 784])\n",
      "torch.Size([512, 784]) torch.Size([512, 784])\n",
      "torch.Size([512, 784]) torch.Size([512, 784])\n",
      "torch.Size([512, 784]) torch.Size([512, 784])\n",
      "torch.Size([512, 784]) torch.Size([512, 784])\n",
      "torch.Size([512, 784]) torch.Size([512, 784])\n",
      "torch.Size([512, 784]) torch.Size([512, 784])\n",
      "torch.Size([512, 784]) torch.Size([512, 784])\n",
      "torch.Size([512, 784]) torch.Size([512, 784])\n",
      "torch.Size([512, 784]) torch.Size([512, 784])\n",
      "torch.Size([512, 784]) torch.Size([512, 784])\n",
      "torch.Size([512, 784]) torch.Size([512, 784])\n",
      "torch.Size([512, 784]) torch.Size([512, 784])\n",
      "torch.Size([512, 784]) torch.Size([512, 784])\n",
      "torch.Size([512, 784]) torch.Size([512, 784])\n",
      "torch.Size([512, 784]) torch.Size([512, 784])\n",
      "torch.Size([512, 784]) torch.Size([512, 784])\n",
      "torch.Size([512, 784]) torch.Size([512, 784])\n",
      "torch.Size([512, 784]) torch.Size([512, 784])\n",
      "torch.Size([512, 784]) torch.Size([512, 784])\n",
      "torch.Size([512, 784]) torch.Size([512, 784])\n",
      "torch.Size([512, 784]) torch.Size([512, 784])\n",
      "torch.Size([512, 784]) torch.Size([512, 784])\n",
      "torch.Size([512, 784]) torch.Size([512, 784])\n",
      "torch.Size([512, 784]) torch.Size([512, 784])\n",
      "torch.Size([512, 784]) torch.Size([512, 784])\n",
      "torch.Size([512, 784]) torch.Size([512, 784])\n",
      "torch.Size([512, 784]) torch.Size([512, 784])\n",
      "torch.Size([512, 784]) torch.Size([512, 784])\n",
      "torch.Size([512, 784]) torch.Size([512, 784])\n",
      "torch.Size([512, 784]) torch.Size([512, 784])\n",
      "torch.Size([512, 784]) torch.Size([512, 784])\n",
      "torch.Size([512, 784]) torch.Size([512, 784])\n",
      "torch.Size([512, 784]) torch.Size([512, 784])\n",
      "torch.Size([512, 784]) torch.Size([512, 784])\n",
      "torch.Size([512, 784]) torch.Size([512, 784])\n",
      "torch.Size([512, 784]) torch.Size([512, 784])\n",
      "torch.Size([512, 784]) torch.Size([512, 784])\n",
      "torch.Size([512, 784]) torch.Size([512, 784])\n",
      "torch.Size([512, 784]) torch.Size([512, 784])\n",
      "torch.Size([512, 784]) torch.Size([512, 784])\n",
      "torch.Size([512, 784]) torch.Size([512, 784])\n",
      "torch.Size([512, 784]) torch.Size([512, 784])\n",
      "torch.Size([512, 784]) torch.Size([512, 784])\n",
      "torch.Size([512, 784]) torch.Size([512, 784])\n",
      "torch.Size([96, 784]) torch.Size([96, 784])\n",
      "0.2079\n"
     ]
    }
   ],
   "source": [
    "threshold = 1.5\n",
    "epochs_per_layer = 50\n",
    "model = FF(logging=False, device=device)\n",
    "optim_config = {\n",
    "    \"lr\": 0.01,\n",
    "}\n",
    "positive_optim_config = {\n",
    "    \"lr\": 0.001,\n",
    "\n",
    "}\n",
    "negative_optim_config = {\n",
    "    \"lr\": 0.001,\n",
    "}\n",
    "\n",
    "goodness_function = squared_error\n",
    "awake_period = 1\n",
    "sleep_period = 1\n",
    "\n",
    "model.add_layer(FFLayer(nn.Linear(784, 500).to(device), optimizer=torch.optim.Adam, epochs=epochs_per_layer, threshold=threshold, activation=nn.ReLU(), optim_config=optim_config, positive_optim_config=positive_optim_config, negative_optim_config=negative_optim_config, logging=False, name=\"layer 1\", device = device, goodness_function=goodness_function).to(device))\n",
    "model.add_layer(FFLayer(nn.Linear(500, 500).to(device), optimizer=torch.optim.Adam, epochs=epochs_per_layer, threshold=threshold, activation=nn.ReLU(), optim_config=optim_config, positive_optim_config=positive_optim_config, negative_optim_config=negative_optim_config, logging=False, name=\"layer 2\", device = device, goodness_function=goodness_function).to(device))\n",
    "model.add_layer(FFLayer(nn.Linear(500, 500).to(device), optimizer=torch.optim.Adam, epochs=epochs_per_layer, threshold=threshold, activation=nn.ReLU(), optim_config=optim_config, positive_optim_config=positive_optim_config, negative_optim_config=negative_optim_config, logging=False, name=\"layer 3\", device = device, goodness_function=goodness_function).to(device))\n",
    "\n",
    "for a, b in zip(enumerate(train_loader), enumerate(train_loader_negative)):\n",
    "    _, (x,y) = a\n",
    "    _, x2 = b\n",
    "    x_pos, _ = MNIST.overlay_y_on_x(x, y)\n",
    "\n",
    "    rnd = torch.randperm(x.size(0))\n",
    "    x_neg = x2\n",
    "    print(x_neg.shape)\n",
    "    print(x_pos.shape)\n",
    "    x_pos, x_neg = x_pos.to(device), x_neg.to(device)\n",
    "    model.forward(x_pos, x_neg)\n",
    "\n",
    "predictions, real = MNIST.predict(test_loader, model, device)\n",
    "acc = np.sum(predictions == real)/len(real)\n",
    "print(acc)"
   ]
  },
  {
   "cell_type": "markdown",
   "id": "7d0e781e",
   "metadata": {},
   "source": [
    "# Training"
   ]
  },
  {
   "cell_type": "code",
   "execution_count": 8,
   "id": "dfd050f6",
   "metadata": {},
   "outputs": [
    {
     "name": "stderr",
     "output_type": "stream",
     "text": [
      "Failed to detect the name of this notebook, you can set it manually with the WANDB_NOTEBOOK_NAME environment variable to enable code saving.\n",
      "\u001b[34m\u001b[1mwandb\u001b[0m: Currently logged in as: \u001b[33mrd211\u001b[0m (\u001b[33mffalgo\u001b[0m). Use \u001b[1m`wandb login --relogin`\u001b[0m to force relogin\n"
     ]
    },
    {
     "data": {
      "text/html": [
       "Tracking run with wandb version 0.13.10"
      ],
      "text/plain": [
       "<IPython.core.display.HTML object>"
      ]
     },
     "metadata": {},
     "output_type": "display_data"
    },
    {
     "data": {
      "text/html": [
       "Run data is saved locally in <code>c:\\Users\\rdyt2\\Desktop\\FF\\wandb\\run-20230218_173150-fpsoz2bp</code>"
      ],
      "text/plain": [
       "<IPython.core.display.HTML object>"
      ]
     },
     "metadata": {},
     "output_type": "display_data"
    },
    {
     "data": {
      "text/html": [
       "Syncing run <strong><a href='https://wandb.ai/ffalgo/MNIST/runs/fpsoz2bp' target=\"_blank\">Pretrained-model-1-awake-1-sleep-0.001</a></strong> to <a href='https://wandb.ai/ffalgo/MNIST' target=\"_blank\">Weights & Biases</a> (<a href='https://wandb.me/run' target=\"_blank\">docs</a>)<br/>"
      ],
      "text/plain": [
       "<IPython.core.display.HTML object>"
      ]
     },
     "metadata": {},
     "output_type": "display_data"
    },
    {
     "data": {
      "text/html": [
       " View project at <a href='https://wandb.ai/ffalgo/MNIST' target=\"_blank\">https://wandb.ai/ffalgo/MNIST</a>"
      ],
      "text/plain": [
       "<IPython.core.display.HTML object>"
      ]
     },
     "metadata": {},
     "output_type": "display_data"
    },
    {
     "data": {
      "text/html": [
       " View run at <a href='https://wandb.ai/ffalgo/MNIST/runs/fpsoz2bp' target=\"_blank\">https://wandb.ai/ffalgo/MNIST/runs/fpsoz2bp</a>"
      ],
      "text/plain": [
       "<IPython.core.display.HTML object>"
      ]
     },
     "metadata": {},
     "output_type": "display_data"
    }
   ],
   "source": [
    "wandb.init(project=\"MNIST\", entity=\"ffalgo\", name=\"Pretrained-model-1-awake-1-sleep-0.001\")\n",
    "wandb.config = {\n",
    "  \"learning_rate\": 0.01,\n",
    "  \"awake_period\": awake_period,\n",
    "  \"sleep_period\": sleep_period,\n",
    "  \"epochs_per_layer\": epochs_per_layer,\n",
    "  \"batch_size\": 512,\n",
    "  \"activation\": \"relu\",\n",
    "  \"positive_lr\": 0.001,\n",
    "  \"negative_lr\": 0.001,\n",
    "  \"threshold\": threshold,\n",
    "  \"optimizer\": torch.optim.Adam,\n",
    "  \"device\": device\n",
    "}"
   ]
  },
  {
   "cell_type": "code",
   "execution_count": 9,
   "id": "12e5ff4e",
   "metadata": {},
   "outputs": [
    {
     "name": "stderr",
     "output_type": "stream",
     "text": [
      "  0%|          | 1/500 [01:26<12:03:07, 86.95s/it]\n"
     ]
    },
    {
     "ename": "KeyboardInterrupt",
     "evalue": "",
     "output_type": "error",
     "traceback": [
      "\u001b[1;31m---------------------------------------------------------------------------\u001b[0m",
      "\u001b[1;31mKeyboardInterrupt\u001b[0m                         Traceback (most recent call last)",
      "Cell \u001b[1;32mIn[9], line 26\u001b[0m\n\u001b[0;32m     24\u001b[0m     model\u001b[39m.\u001b[39mforward_positive(x_pos)\n\u001b[0;32m     25\u001b[0m \u001b[39melse\u001b[39;00m:\n\u001b[1;32m---> 26\u001b[0m     model\u001b[39m.\u001b[39;49mforward_negative(x_neg)\n\u001b[0;32m     27\u001b[0m \u001b[39m# model.forward(x_pos, x_neg)\u001b[39;00m\n\u001b[0;32m     29\u001b[0m hour \u001b[39m+\u001b[39m\u001b[39m=\u001b[39m \u001b[39m1\u001b[39m\n",
      "File \u001b[1;32mc:\\Users\\rdyt2\\Desktop\\FF\\ff.py:144\u001b[0m, in \u001b[0;36mFF.forward_negative\u001b[1;34m(self, x_neg)\u001b[0m\n\u001b[0;32m    142\u001b[0m losses \u001b[39m=\u001b[39m []\n\u001b[0;32m    143\u001b[0m \u001b[39mfor\u001b[39;00m _, layer \u001b[39min\u001b[39;00m \u001b[39menumerate\u001b[39m(\u001b[39mself\u001b[39m\u001b[39m.\u001b[39mlayers):\n\u001b[1;32m--> 144\u001b[0m     x_neg, loss \u001b[39m=\u001b[39m layer\u001b[39m.\u001b[39;49mforward_negative(x_neg)\n\u001b[0;32m    145\u001b[0m     losses\u001b[39m.\u001b[39mappend(loss)\n\u001b[0;32m    146\u001b[0m \u001b[39mreturn\u001b[39;00m np\u001b[39m.\u001b[39mmean(losses)\n",
      "File \u001b[1;32mc:\\Users\\rdyt2\\Desktop\\FF\\ff.py:76\u001b[0m, in \u001b[0;36mFFLayer.forward_negative\u001b[1;34m(self, x_neg)\u001b[0m\n\u001b[0;32m     74\u001b[0m     loss \u001b[39m=\u001b[39m torch\u001b[39m.\u001b[39mlog(torch\u001b[39m.\u001b[39madd(\u001b[39m1\u001b[39m, torch\u001b[39m.\u001b[39mexp(torch\u001b[39m.\u001b[39madd(neg_good,  \u001b[39m-\u001b[39m\u001b[39mself\u001b[39m\u001b[39m.\u001b[39mthreshold))))\u001b[39m.\u001b[39mmean()\n\u001b[0;32m     75\u001b[0m     losses\u001b[39m.\u001b[39mappend(loss\u001b[39m.\u001b[39mitem())\n\u001b[1;32m---> 76\u001b[0m     loss\u001b[39m.\u001b[39;49mbackward()\n\u001b[0;32m     77\u001b[0m     \u001b[39mself\u001b[39m\u001b[39m.\u001b[39moptim_neg\u001b[39m.\u001b[39mstep()\n\u001b[0;32m     78\u001b[0m \u001b[39mwith\u001b[39;00m torch\u001b[39m.\u001b[39mno_grad():\n",
      "File \u001b[1;32m~\\AppData\\Local\\Packages\\PythonSoftwareFoundation.Python.3.10_qbz5n2kfra8p0\\LocalCache\\local-packages\\Python310\\site-packages\\torch\\_tensor.py:488\u001b[0m, in \u001b[0;36mTensor.backward\u001b[1;34m(self, gradient, retain_graph, create_graph, inputs)\u001b[0m\n\u001b[0;32m    478\u001b[0m \u001b[39mif\u001b[39;00m has_torch_function_unary(\u001b[39mself\u001b[39m):\n\u001b[0;32m    479\u001b[0m     \u001b[39mreturn\u001b[39;00m handle_torch_function(\n\u001b[0;32m    480\u001b[0m         Tensor\u001b[39m.\u001b[39mbackward,\n\u001b[0;32m    481\u001b[0m         (\u001b[39mself\u001b[39m,),\n\u001b[1;32m   (...)\u001b[0m\n\u001b[0;32m    486\u001b[0m         inputs\u001b[39m=\u001b[39minputs,\n\u001b[0;32m    487\u001b[0m     )\n\u001b[1;32m--> 488\u001b[0m torch\u001b[39m.\u001b[39;49mautograd\u001b[39m.\u001b[39;49mbackward(\n\u001b[0;32m    489\u001b[0m     \u001b[39mself\u001b[39;49m, gradient, retain_graph, create_graph, inputs\u001b[39m=\u001b[39;49minputs\n\u001b[0;32m    490\u001b[0m )\n",
      "File \u001b[1;32m~\\AppData\\Local\\Packages\\PythonSoftwareFoundation.Python.3.10_qbz5n2kfra8p0\\LocalCache\\local-packages\\Python310\\site-packages\\torch\\autograd\\__init__.py:197\u001b[0m, in \u001b[0;36mbackward\u001b[1;34m(tensors, grad_tensors, retain_graph, create_graph, grad_variables, inputs)\u001b[0m\n\u001b[0;32m    192\u001b[0m     retain_graph \u001b[39m=\u001b[39m create_graph\n\u001b[0;32m    194\u001b[0m \u001b[39m# The reason we repeat same the comment below is that\u001b[39;00m\n\u001b[0;32m    195\u001b[0m \u001b[39m# some Python versions print out the first line of a multi-line function\u001b[39;00m\n\u001b[0;32m    196\u001b[0m \u001b[39m# calls in the traceback and some print out the last line\u001b[39;00m\n\u001b[1;32m--> 197\u001b[0m Variable\u001b[39m.\u001b[39;49m_execution_engine\u001b[39m.\u001b[39;49mrun_backward(  \u001b[39m# Calls into the C++ engine to run the backward pass\u001b[39;49;00m\n\u001b[0;32m    198\u001b[0m     tensors, grad_tensors_, retain_graph, create_graph, inputs,\n\u001b[0;32m    199\u001b[0m     allow_unreachable\u001b[39m=\u001b[39;49m\u001b[39mTrue\u001b[39;49;00m, accumulate_grad\u001b[39m=\u001b[39;49m\u001b[39mTrue\u001b[39;49;00m)\n",
      "\u001b[1;31mKeyboardInterrupt\u001b[0m: "
     ]
    }
   ],
   "source": [
    "model = model.to(device)\n",
    "epochs = 500\n",
    "best_acc = 0.0\n",
    "hour = 0\n",
    "for i in tqdm(range(epochs)):\n",
    "    if i % 1 == 0:\n",
    "        predictions, real = MNIST.predict(test_loader, model, device)\n",
    "        acc = np.sum(predictions == real)/len(real)\n",
    "        wandb.log({\"Accuracy on test data\": acc})\n",
    "        if acc > best_acc and acc > 0.8:\n",
    "            best_acc = acc\n",
    "            # torch.save(model.state_dict(), 'best_mnist_80%.ph')\n",
    "        \n",
    "    predictions, real = MNIST.predict(train_loader, model, device)\n",
    "    acc = np.sum(predictions == real)/len(real)\n",
    "    wandb.log({\"Accuracy on train data\": acc})\n",
    "    model.train()\n",
    "    for _, (x, y) in enumerate(train_loader):\n",
    "        x_pos, _ = MNIST.overlay_y_on_x(x, y)\n",
    "        rnd = torch.randperm(x.size(0))\n",
    "        x_neg, _ = MNIST.overlay_y_on_x(x, y[rnd])\n",
    "        x_pos, x_neg = x_pos.to(device), x_neg.to(device)\n",
    "        if hour % (awake_period + sleep_period) < awake_period:\n",
    "            model.forward_positive(x_pos)\n",
    "        else:\n",
    "            model.forward_negative(x_neg)\n",
    "        # model.forward(x_pos, x_neg)\n",
    "        \n",
    "        hour += 1\n",
    "\n",
    "        \n",
    "wandb.finish()"
   ]
  },
  {
   "cell_type": "code",
   "execution_count": null,
   "id": "a0012acc",
   "metadata": {},
   "outputs": [],
   "source": []
  }
 ],
 "metadata": {
  "kernelspec": {
   "display_name": "Python 3",
   "language": "python",
   "name": "python3"
  },
  "language_info": {
   "codemirror_mode": {
    "name": "ipython",
    "version": 3
   },
   "file_extension": ".py",
   "mimetype": "text/x-python",
   "name": "python",
   "nbconvert_exporter": "python",
   "pygments_lexer": "ipython3",
   "version": "3.10.10"
  },
  "vscode": {
   "interpreter": {
    "hash": "d6f8d400343bb3f57bd29c3eb1404dce9b47f9b5dee6203cb0f40ad0e600826b"
   }
  }
 },
 "nbformat": 4,
 "nbformat_minor": 5
}

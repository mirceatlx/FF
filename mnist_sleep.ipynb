{
 "cells": [
  {
   "cell_type": "code",
   "execution_count": 12,
   "id": "164a8e66",
   "metadata": {},
   "outputs": [],
   "source": [
    "import torch\n",
    "import torchvision\n",
    "import torch.nn as nn\n",
    "import torch.nn.functional as F\n",
    "import numpy as np\n",
    "import wandb\n",
    "from ff import FF, FFLayer\n",
    "from data import MNIST\n",
    "from tqdm import tqdm"
   ]
  },
  {
   "cell_type": "code",
   "execution_count": 13,
   "id": "7c9bec64",
   "metadata": {},
   "outputs": [],
   "source": [
    "# device = \"mps\" if torch.backends.mps.is_available() else \"cpu\"\n",
    "device = \"cuda\" if torch.cuda.is_available() else \"cpu\""
   ]
  },
  {
   "cell_type": "code",
   "execution_count": 14,
   "id": "60271c94",
   "metadata": {},
   "outputs": [],
   "source": [
    "batch_size_train = 512\n",
    "batch_size_test = 512"
   ]
  },
  {
   "cell_type": "code",
   "execution_count": 15,
   "id": "e80f3a51",
   "metadata": {},
   "outputs": [],
   "source": [
    "train_loader = torch.utils.data.DataLoader(\n",
    "  torchvision.datasets.MNIST('./datasets/MNIST/', train=True, download=True,\n",
    "                             transform=torchvision.transforms.Compose([\n",
    "                               torchvision.transforms.ToTensor(),\n",
    "                               torchvision.transforms.Normalize(\n",
    "                                 (0.1307,), (0.3081,))\n",
    "                             ])),\n",
    "  batch_size=batch_size_train, shuffle=True)"
   ]
  },
  {
   "cell_type": "code",
   "execution_count": 16,
   "id": "1f0f5681",
   "metadata": {},
   "outputs": [],
   "source": [
    "test_loader = torch.utils.data.DataLoader(\n",
    "  torchvision.datasets.MNIST('./datasets/MNIST/', train=False, download=True,\n",
    "                             transform=torchvision.transforms.Compose([\n",
    "                               torchvision.transforms.ToTensor(),\n",
    "                               torchvision.transforms.Normalize(\n",
    "                                 (0.1307,), (0.3081,))\n",
    "                             ])),\n",
    "  batch_size=batch_size_test, shuffle=True)"
   ]
  },
  {
   "cell_type": "code",
   "execution_count": 17,
   "id": "65901119",
   "metadata": {},
   "outputs": [],
   "source": [
    "squared_error = lambda x: x.pow(2).mean(1)\n",
    "deviation_error = lambda x: -((x - x.mean(1).unsqueeze(1)).pow(2).mean(1))\n",
    "mean_error = lambda x: x.mean(1)\n",
    "#samples sin at 15 degree intervals and computes the mean squared error\n",
    "sin_error = lambda x: -(((torch.sin(torch.FloatTensor([i * 2 * np.pi / 15 for i in range(x.shape[1])]).to(device)).to(device) - x).pow(2)).mean(1))"
   ]
  },
  {
   "cell_type": "code",
   "execution_count": 18,
   "id": "bac009c4",
   "metadata": {},
   "outputs": [],
   "source": [
    "threshold = 1.5\n",
    "epochs_per_layer = 5\n",
    "model = FF(logging=False, device=device)\n",
    "optim_config = {\n",
    "    \"lr\": 0.01,\n",
    "}\n",
    "positive_optim_config = {\n",
    "    \"lr\": 0.001,\n",
    "\n",
    "}\n",
    "negative_optim_config = {\n",
    "    \"lr\": 0.001,\n",
    "}\n",
    "\n",
    "goodness_function = squared_error\n",
    "awake_period = 1\n",
    "sleep_period = 1\n",
    "\n",
    "model.add_layer(FFLayer(nn.Linear(784, 500).to(device), optimizer=torch.optim.Adam, epochs=epochs_per_layer, threshold=threshold, activation=nn.ReLU(), optim_config=optim_config, positive_optim_config=positive_optim_config, negative_optim_config=negative_optim_config, logging=False, name=\"layer 1\", device = device, goodness_function=goodness_function).to(device))\n",
    "model.add_layer(FFLayer(nn.Linear(500, 500).to(device), optimizer=torch.optim.Adam, epochs=epochs_per_layer, threshold=threshold, activation=nn.ReLU(), optim_config=optim_config, positive_optim_config=positive_optim_config, negative_optim_config=negative_optim_config, logging=False, name=\"layer 2\", device = device, goodness_function=goodness_function).to(device))\n",
    "model.add_layer(FFLayer(nn.Linear(500, 500).to(device), optimizer=torch.optim.Adam, epochs=epochs_per_layer, threshold=threshold, activation=nn.ReLU(), optim_config=optim_config, positive_optim_config=positive_optim_config, negative_optim_config=negative_optim_config, logging=False, name=\"layer 3\", device = device, goodness_function=goodness_function).to(device))"
   ]
  },
  {
   "cell_type": "markdown",
   "id": "7d0e781e",
   "metadata": {},
   "source": [
    "# Training"
   ]
  },
  {
   "cell_type": "code",
   "execution_count": 19,
   "id": "dfd050f6",
   "metadata": {},
   "outputs": [
    {
     "name": "stderr",
     "output_type": "stream",
     "text": [
      "Failed to detect the name of this notebook, you can set it manually with the WANDB_NOTEBOOK_NAME environment variable to enable code saving.\n",
      "\u001b[34m\u001b[1mwandb\u001b[0m: Currently logged in as: \u001b[33mrd211\u001b[0m (\u001b[33mffalgo\u001b[0m). Use \u001b[1m`wandb login --relogin`\u001b[0m to force relogin\n"
     ]
    },
    {
     "data": {
      "text/html": [
       "Tracking run with wandb version 0.13.10"
      ],
      "text/plain": [
       "<IPython.core.display.HTML object>"
      ]
     },
     "metadata": {},
     "output_type": "display_data"
    },
    {
     "data": {
      "text/html": [
       "Run data is saved locally in <code>/mnt/batch/tasks/shared/LS_root/mounts/clusters/essex/code/FF/wandb/run-20230215_190533-g46qxw7b</code>"
      ],
      "text/plain": [
       "<IPython.core.display.HTML object>"
      ]
     },
     "metadata": {},
     "output_type": "display_data"
    },
    {
     "data": {
      "text/html": [
       "Syncing run <strong><a href='https://wandb.ai/ffalgo/MNIST/runs/g46qxw7b' target=\"_blank\">MNIST-FF-3L-500-500-500-relu-awake-1-sleep-1-epochs-5-threshold-1.5-lr-0.01-0.001-0.001-squared_error</a></strong> to <a href='https://wandb.ai/ffalgo/MNIST' target=\"_blank\">Weights & Biases</a> (<a href='https://wandb.me/run' target=\"_blank\">docs</a>)<br/>"
      ],
      "text/plain": [
       "<IPython.core.display.HTML object>"
      ]
     },
     "metadata": {},
     "output_type": "display_data"
    },
    {
     "data": {
      "text/html": [
       " View project at <a href='https://wandb.ai/ffalgo/MNIST' target=\"_blank\">https://wandb.ai/ffalgo/MNIST</a>"
      ],
      "text/plain": [
       "<IPython.core.display.HTML object>"
      ]
     },
     "metadata": {},
     "output_type": "display_data"
    },
    {
     "data": {
      "text/html": [
       " View run at <a href='https://wandb.ai/ffalgo/MNIST/runs/g46qxw7b' target=\"_blank\">https://wandb.ai/ffalgo/MNIST/runs/g46qxw7b</a>"
      ],
      "text/plain": [
       "<IPython.core.display.HTML object>"
      ]
     },
     "metadata": {},
     "output_type": "display_data"
    }
   ],
   "source": [
    "wandb.init(project=\"MNIST\", entity=\"ffalgo\", name=\"MNIST-FF-3L-500-500-500-relu-awake-1-sleep-1-epochs-5-threshold-1.5-lr-0.01-0.001-0.001-squared_error\")\n",
    "wandb.config = {\n",
    "  \"learning_rate\": 0.01,\n",
    "  \"awake_period\": awake_period,\n",
    "  \"sleep_period\": sleep_period,\n",
    "  \"epochs_per_layer\": epochs_per_layer,\n",
    "  \"batch_size\": 32,\n",
    "  \"activation\": \"relu\",\n",
    "  \"positive_lr\": 0.005,\n",
    "  \"negative_lr\": 0.01,\n",
    "  \"threshold\": threshold,\n",
    "  \"optimizer\": torch.optim.Adam,\n",
    "  \"device\": device\n",
    "}"
   ]
  },
  {
   "cell_type": "code",
   "execution_count": 20,
   "id": "12e5ff4e",
   "metadata": {},
   "outputs": [
    {
     "name": "stderr",
     "output_type": "stream",
     "text": [
      "100%|██████████████████████████████████████████████████████████████████████████████████████████████████████████████████████████████████████████████████████████████████████████████████████████████████████████████████████████████████████████████████████████████████████████████████████████████████████████████████████████████████████████████████████████████████████████████████████████████████████████████████████████████████████████████████████████████████████████████████████████████████████████████████████████████████████████████████████████████████████████████████████████████████████████████████████████████████████████████████████████████████████████████████████████████████████████████████████████████████████████████████████████████████████████████████████████████████████████████████████████████████████████████████████████████████████████████████████████████████████████████████████████████████████████████████████████████████████████████████████████████████| 25/25 [13:28<00:00, 32.32s/it]\n"
     ]
    },
    {
     "data": {
      "text/html": [
       "Waiting for W&B process to finish... <strong style=\"color:green\">(success).</strong>"
      ],
      "text/plain": [
       "<IPython.core.display.HTML object>"
      ]
     },
     "metadata": {},
     "output_type": "display_data"
    },
    {
     "data": {
      "text/html": [
       "<style>\n",
       "    table.wandb td:nth-child(1) { padding: 0 10px; text-align: left ; width: auto;} td:nth-child(2) {text-align: left ; width: 100%}\n",
       "    .wandb-row { display: flex; flex-direction: row; flex-wrap: wrap; justify-content: flex-start; width: 100% }\n",
       "    .wandb-col { display: flex; flex-direction: column; flex-basis: 100%; flex: 1; padding: 10px; }\n",
       "    </style>\n",
       "<div class=\"wandb-row\"><div class=\"wandb-col\"><h3>Run history:</h3><br/><table class=\"wandb\"><tr><td>Accuracy on test data</td><td>▁▇█</td></tr><tr><td>Accuracy on train data</td><td>▁▅▄▃▂▄▅▅▆▆▆▆▆▆▆▇▇▇▇▇▇▇███</td></tr></table><br/></div><div class=\"wandb-col\"><h3>Run summary:</h3><br/><table class=\"wandb\"><tr><td>Accuracy on test data</td><td>0.5746</td></tr><tr><td>Accuracy on train data</td><td>0.6316</td></tr></table><br/></div></div>"
      ],
      "text/plain": [
       "<IPython.core.display.HTML object>"
      ]
     },
     "metadata": {},
     "output_type": "display_data"
    },
    {
     "data": {
      "text/html": [
       " View run <strong style=\"color:#cdcd00\">MNIST-FF-3L-500-500-500-relu-awake-1-sleep-1-epochs-5-threshold-1.5-lr-0.01-0.001-0.001-squared_error</strong> at: <a href='https://wandb.ai/ffalgo/MNIST/runs/g46qxw7b' target=\"_blank\">https://wandb.ai/ffalgo/MNIST/runs/g46qxw7b</a><br/>Synced 6 W&B file(s), 0 media file(s), 0 artifact file(s) and 0 other file(s)"
      ],
      "text/plain": [
       "<IPython.core.display.HTML object>"
      ]
     },
     "metadata": {},
     "output_type": "display_data"
    },
    {
     "data": {
      "text/html": [
       "Find logs at: <code>./wandb/run-20230215_190533-g46qxw7b/logs</code>"
      ],
      "text/plain": [
       "<IPython.core.display.HTML object>"
      ]
     },
     "metadata": {},
     "output_type": "display_data"
    },
    {
     "name": "stderr",
     "output_type": "stream",
     "text": [
      "Exception in thread SockSrvRdThr:\n",
      "Traceback (most recent call last):\n",
      "  File \"/anaconda/envs/azureml_py38_PT_TF/lib/python3.8/threading.py\", line 932, in _bootstrap_inner\n",
      "    self.run()\n",
      "  File \"/anaconda/envs/azureml_py38_PT_TF/lib/python3.8/site-packages/wandb/sdk/service/server_sock.py\", line 100, in run\n",
      "    sreq = self._sock_client.read_server_request()\n",
      "  File \"/anaconda/envs/azureml_py38_PT_TF/lib/python3.8/site-packages/wandb/sdk/lib/sock_client.py\", line 274, in read_server_request\n",
      "    data = self._read_packet_bytes()\n",
      "  File \"/anaconda/envs/azureml_py38_PT_TF/lib/python3.8/site-packages/wandb/sdk/lib/sock_client.py\", line 248, in _read_packet_bytes\n",
      "    rec = self._extract_packet_bytes()\n",
      "  File \"/anaconda/envs/azureml_py38_PT_TF/lib/python3.8/site-packages/wandb/sdk/lib/sock_client.py\", line 230, in _extract_packet_bytes\n",
      "    assert magic == ord(\"W\")\n",
      "AssertionError\n",
      "Exception in thread SockSrvRdThr:\n",
      "Traceback (most recent call last):\n",
      "  File \"/anaconda/envs/azureml_py38_PT_TF/lib/python3.8/threading.py\", line 932, in _bootstrap_inner\n",
      "    self.run()\n",
      "  File \"/anaconda/envs/azureml_py38_PT_TF/lib/python3.8/site-packages/wandb/sdk/service/server_sock.py\", line 100, in run\n",
      "    sreq = self._sock_client.read_server_request()\n",
      "  File \"/anaconda/envs/azureml_py38_PT_TF/lib/python3.8/site-packages/wandb/sdk/lib/sock_client.py\", line 274, in read_server_request\n",
      "    data = self._read_packet_bytes()\n",
      "  File \"/anaconda/envs/azureml_py38_PT_TF/lib/python3.8/site-packages/wandb/sdk/lib/sock_client.py\", line 248, in _read_packet_bytes\n",
      "    rec = self._extract_packet_bytes()\n",
      "  File \"/anaconda/envs/azureml_py38_PT_TF/lib/python3.8/site-packages/wandb/sdk/lib/sock_client.py\", line 230, in _extract_packet_bytes\n",
      "    assert magic == ord(\"W\")\n",
      "AssertionError\n",
      "Exception in thread SockSrvRdThr:\n",
      "Traceback (most recent call last):\n",
      "  File \"/anaconda/envs/azureml_py38_PT_TF/lib/python3.8/threading.py\", line 932, in _bootstrap_inner\n",
      "    self.run()\n",
      "  File \"/anaconda/envs/azureml_py38_PT_TF/lib/python3.8/site-packages/wandb/sdk/service/server_sock.py\", line 100, in run\n",
      "    sreq = self._sock_client.read_server_request()\n",
      "  File \"/anaconda/envs/azureml_py38_PT_TF/lib/python3.8/site-packages/wandb/sdk/lib/sock_client.py\", line 274, in read_server_request\n",
      "    data = self._read_packet_bytes()\n",
      "  File \"/anaconda/envs/azureml_py38_PT_TF/lib/python3.8/site-packages/wandb/sdk/lib/sock_client.py\", line 248, in _read_packet_bytes\n",
      "    rec = self._extract_packet_bytes()\n",
      "  File \"/anaconda/envs/azureml_py38_PT_TF/lib/python3.8/site-packages/wandb/sdk/lib/sock_client.py\", line 230, in _extract_packet_bytes\n",
      "    assert magic == ord(\"W\")\n",
      "AssertionError\n",
      "Exception in thread SockSrvRdThr:\n",
      "Traceback (most recent call last):\n",
      "  File \"/anaconda/envs/azureml_py38_PT_TF/lib/python3.8/threading.py\", line 932, in _bootstrap_inner\n",
      "    self.run()\n",
      "  File \"/anaconda/envs/azureml_py38_PT_TF/lib/python3.8/site-packages/wandb/sdk/service/server_sock.py\", line 100, in run\n",
      "    sreq = self._sock_client.read_server_request()\n",
      "  File \"/anaconda/envs/azureml_py38_PT_TF/lib/python3.8/site-packages/wandb/sdk/lib/sock_client.py\", line 274, in read_server_request\n",
      "    data = self._read_packet_bytes()\n",
      "  File \"/anaconda/envs/azureml_py38_PT_TF/lib/python3.8/site-packages/wandb/sdk/lib/sock_client.py\", line 248, in _read_packet_bytes\n",
      "    rec = self._extract_packet_bytes()\n",
      "  File \"/anaconda/envs/azureml_py38_PT_TF/lib/python3.8/site-packages/wandb/sdk/lib/sock_client.py\", line 230, in _extract_packet_bytes\n",
      "    assert magic == ord(\"W\")\n",
      "AssertionError\n",
      "Exception in thread SockSrvRdThr:\n",
      "Traceback (most recent call last):\n",
      "  File \"/anaconda/envs/azureml_py38_PT_TF/lib/python3.8/threading.py\", line 932, in _bootstrap_inner\n",
      "    self.run()\n",
      "  File \"/anaconda/envs/azureml_py38_PT_TF/lib/python3.8/site-packages/wandb/sdk/service/server_sock.py\", line 100, in run\n",
      "    sreq = self._sock_client.read_server_request()\n",
      "  File \"/anaconda/envs/azureml_py38_PT_TF/lib/python3.8/site-packages/wandb/sdk/lib/sock_client.py\", line 274, in read_server_request\n",
      "    data = self._read_packet_bytes()\n",
      "  File \"/anaconda/envs/azureml_py38_PT_TF/lib/python3.8/site-packages/wandb/sdk/lib/sock_client.py\", line 248, in _read_packet_bytes\n",
      "    rec = self._extract_packet_bytes()\n",
      "  File \"/anaconda/envs/azureml_py38_PT_TF/lib/python3.8/site-packages/wandb/sdk/lib/sock_client.py\", line 230, in _extract_packet_bytes\n",
      "    assert magic == ord(\"W\")\n",
      "AssertionError\n",
      "Exception in thread SockSrvRdThr:\n",
      "Traceback (most recent call last):\n",
      "  File \"/anaconda/envs/azureml_py38_PT_TF/lib/python3.8/threading.py\", line 932, in _bootstrap_inner\n",
      "    self.run()\n",
      "  File \"/anaconda/envs/azureml_py38_PT_TF/lib/python3.8/site-packages/wandb/sdk/service/server_sock.py\", line 100, in run\n",
      "    sreq = self._sock_client.read_server_request()\n",
      "  File \"/anaconda/envs/azureml_py38_PT_TF/lib/python3.8/site-packages/wandb/sdk/lib/sock_client.py\", line 274, in read_server_request\n",
      "    data = self._read_packet_bytes()\n",
      "  File \"/anaconda/envs/azureml_py38_PT_TF/lib/python3.8/site-packages/wandb/sdk/lib/sock_client.py\", line 248, in _read_packet_bytes\n",
      "    rec = self._extract_packet_bytes()\n",
      "  File \"/anaconda/envs/azureml_py38_PT_TF/lib/python3.8/site-packages/wandb/sdk/lib/sock_client.py\", line 230, in _extract_packet_bytes\n",
      "    assert magic == ord(\"W\")\n",
      "AssertionError\n",
      "Exception in thread SockSrvRdThr:\n",
      "Traceback (most recent call last):\n",
      "  File \"/anaconda/envs/azureml_py38_PT_TF/lib/python3.8/threading.py\", line 932, in _bootstrap_inner\n",
      "    self.run()\n",
      "  File \"/anaconda/envs/azureml_py38_PT_TF/lib/python3.8/site-packages/wandb/sdk/service/server_sock.py\", line 100, in run\n",
      "    sreq = self._sock_client.read_server_request()\n",
      "  File \"/anaconda/envs/azureml_py38_PT_TF/lib/python3.8/site-packages/wandb/sdk/lib/sock_client.py\", line 274, in read_server_request\n",
      "    data = self._read_packet_bytes()\n",
      "  File \"/anaconda/envs/azureml_py38_PT_TF/lib/python3.8/site-packages/wandb/sdk/lib/sock_client.py\", line 248, in _read_packet_bytes\n",
      "    rec = self._extract_packet_bytes()\n",
      "  File \"/anaconda/envs/azureml_py38_PT_TF/lib/python3.8/site-packages/wandb/sdk/lib/sock_client.py\", line 230, in _extract_packet_bytes\n",
      "    assert magic == ord(\"W\")\n",
      "AssertionError\n",
      "Exception in thread SockSrvRdThr:\n",
      "Traceback (most recent call last):\n",
      "  File \"/anaconda/envs/azureml_py38_PT_TF/lib/python3.8/threading.py\", line 932, in _bootstrap_inner\n",
      "    self.run()\n",
      "  File \"/anaconda/envs/azureml_py38_PT_TF/lib/python3.8/site-packages/wandb/sdk/service/server_sock.py\", line 100, in run\n",
      "    sreq = self._sock_client.read_server_request()\n",
      "  File \"/anaconda/envs/azureml_py38_PT_TF/lib/python3.8/site-packages/wandb/sdk/lib/sock_client.py\", line 274, in read_server_request\n",
      "    data = self._read_packet_bytes()\n",
      "  File \"/anaconda/envs/azureml_py38_PT_TF/lib/python3.8/site-packages/wandb/sdk/lib/sock_client.py\", line 248, in _read_packet_bytes\n",
      "    rec = self._extract_packet_bytes()\n",
      "  File \"/anaconda/envs/azureml_py38_PT_TF/lib/python3.8/site-packages/wandb/sdk/lib/sock_client.py\", line 230, in _extract_packet_bytes\n",
      "    assert magic == ord(\"W\")\n",
      "AssertionError\n",
      "Exception in thread SockSrvRdThr:\n",
      "Traceback (most recent call last):\n",
      "  File \"/anaconda/envs/azureml_py38_PT_TF/lib/python3.8/threading.py\", line 932, in _bootstrap_inner\n",
      "    self.run()\n",
      "  File \"/anaconda/envs/azureml_py38_PT_TF/lib/python3.8/site-packages/wandb/sdk/service/server_sock.py\", line 100, in run\n",
      "    sreq = self._sock_client.read_server_request()\n",
      "  File \"/anaconda/envs/azureml_py38_PT_TF/lib/python3.8/site-packages/wandb/sdk/lib/sock_client.py\", line 274, in read_server_request\n",
      "    data = self._read_packet_bytes()\n",
      "  File \"/anaconda/envs/azureml_py38_PT_TF/lib/python3.8/site-packages/wandb/sdk/lib/sock_client.py\", line 248, in _read_packet_bytes\n",
      "    rec = self._extract_packet_bytes()\n",
      "  File \"/anaconda/envs/azureml_py38_PT_TF/lib/python3.8/site-packages/wandb/sdk/lib/sock_client.py\", line 230, in _extract_packet_bytes\n",
      "    assert magic == ord(\"W\")\n",
      "AssertionError\n",
      "Exception in thread SockSrvRdThr:\n",
      "Traceback (most recent call last):\n",
      "  File \"/anaconda/envs/azureml_py38_PT_TF/lib/python3.8/threading.py\", line 932, in _bootstrap_inner\n",
      "    self.run()\n",
      "  File \"/anaconda/envs/azureml_py38_PT_TF/lib/python3.8/site-packages/wandb/sdk/service/server_sock.py\", line 100, in run\n",
      "    sreq = self._sock_client.read_server_request()\n",
      "  File \"/anaconda/envs/azureml_py38_PT_TF/lib/python3.8/site-packages/wandb/sdk/lib/sock_client.py\", line 274, in read_server_request\n",
      "    data = self._read_packet_bytes()\n",
      "  File \"/anaconda/envs/azureml_py38_PT_TF/lib/python3.8/site-packages/wandb/sdk/lib/sock_client.py\", line 248, in _read_packet_bytes\n",
      "    rec = self._extract_packet_bytes()\n",
      "  File \"/anaconda/envs/azureml_py38_PT_TF/lib/python3.8/site-packages/wandb/sdk/lib/sock_client.py\", line 230, in _extract_packet_bytes\n",
      "    assert magic == ord(\"W\")\n",
      "AssertionError\n",
      "Exception in thread SockSrvRdThr:\n",
      "Traceback (most recent call last):\n",
      "  File \"/anaconda/envs/azureml_py38_PT_TF/lib/python3.8/threading.py\", line 932, in _bootstrap_inner\n",
      "    self.run()\n",
      "  File \"/anaconda/envs/azureml_py38_PT_TF/lib/python3.8/site-packages/wandb/sdk/service/server_sock.py\", line 100, in run\n",
      "    sreq = self._sock_client.read_server_request()\n",
      "  File \"/anaconda/envs/azureml_py38_PT_TF/lib/python3.8/site-packages/wandb/sdk/lib/sock_client.py\", line 274, in read_server_request\n",
      "    data = self._read_packet_bytes()\n",
      "  File \"/anaconda/envs/azureml_py38_PT_TF/lib/python3.8/site-packages/wandb/sdk/lib/sock_client.py\", line 248, in _read_packet_bytes\n",
      "    rec = self._extract_packet_bytes()\n",
      "  File \"/anaconda/envs/azureml_py38_PT_TF/lib/python3.8/site-packages/wandb/sdk/lib/sock_client.py\", line 230, in _extract_packet_bytes\n",
      "    assert magic == ord(\"W\")\n",
      "AssertionError\n",
      "Exception in thread SockSrvRdThr:\n",
      "Traceback (most recent call last):\n",
      "  File \"/anaconda/envs/azureml_py38_PT_TF/lib/python3.8/threading.py\", line 932, in _bootstrap_inner\n",
      "    self.run()\n",
      "  File \"/anaconda/envs/azureml_py38_PT_TF/lib/python3.8/site-packages/wandb/sdk/service/server_sock.py\", line 100, in run\n",
      "    sreq = self._sock_client.read_server_request()\n",
      "  File \"/anaconda/envs/azureml_py38_PT_TF/lib/python3.8/site-packages/wandb/sdk/lib/sock_client.py\", line 274, in read_server_request\n",
      "    data = self._read_packet_bytes()\n",
      "  File \"/anaconda/envs/azureml_py38_PT_TF/lib/python3.8/site-packages/wandb/sdk/lib/sock_client.py\", line 248, in _read_packet_bytes\n",
      "    rec = self._extract_packet_bytes()\n",
      "  File \"/anaconda/envs/azureml_py38_PT_TF/lib/python3.8/site-packages/wandb/sdk/lib/sock_client.py\", line 230, in _extract_packet_bytes\n",
      "    assert magic == ord(\"W\")\n",
      "AssertionError\n",
      "Bad pipe message: %s [b'|\\xd4\\x18\\xfe\\xdc\\xefk4\\xc0\\xbeis\\xd0\\x92\\xed\\xc5\\xf5? {I`%\\xd1\\x0b,\\x10\\x9b\\xcdU\\xebCC\\x82\\xe5\\xb2\\xf4\\x0ep1\\xfc\\xb6?\\xbf\\xb5\\t\\xa2\\x91\\xd28)\\x00\\x08\\x13\\x02\\x13\\x03\\x13\\x01\\x00\\xff\\x01\\x00\\x00\\x8f\\x00\\x00\\x00\\x0e\\x00\\x0c\\x00\\x00\\t127.0.0.1\\x00\\x0b\\x00\\x04\\x03\\x00\\x01\\x02\\x00\\n\\x00\\x0c\\x00\\n\\x00\\x1d\\x00\\x17\\x00\\x1e\\x00\\x19\\x00\\x18\\x00#\\x00\\x00\\x00\\x16\\x00\\x00\\x00\\x17\\x00\\x00\\x00\\r\\x00\\x1e\\x00\\x1c\\x04\\x03\\x05\\x03\\x06']\n",
      "Bad pipe message: %s [b'\\x07\\x08']\n",
      "Bad pipe message: %s [b'\\t\\x08\\n\\x08\\x0b\\x08\\x04']\n",
      "Bad pipe message: %s [b\"\\xa7\\x95\\x97\\xff\\x0ff\\x83\\x90\\xcaw\\xfe\\xfb\\x0f\\x8a\\xd4\\xe3o\\xe2 '0\\xc1\"]\n",
      "Bad pipe message: %s [b'\\x08\\x06\\x04\\x01\\x05\\x01\\x06', b'']\n",
      "Bad pipe message: %s [b'g\\x1c\\x94\\xe4U\\xf60\\xecqb\\x1c\\xb3']\n",
      "Bad pipe message: %s [b\"\\x7f\\x18\\x14;\\xe6\\xeee\\xaa\\x05\\xdb\\x0f0\\x96\\x07\\x96\\xd9\\xba\\xb8\\x00\\x00|\\xc0,\\xc00\\x00\\xa3\\x00\\x9f\\xcc\\xa9\\xcc\\xa8\\xcc\\xaa\\xc0\\xaf\\xc0\\xad\\xc0\\xa3\\xc0\\x9f\\xc0]\\xc0a\\xc0W\\xc0S\\xc0+\\xc0/\\x00\\xa2\\x00\\x9e\\xc0\\xae\\xc0\\xac\\xc0\\xa2\\xc0\\x9e\\xc0\\\\\\xc0`\\xc0V\\xc0R\\xc0$\\xc0(\\x00k\\x00j\\xc0#\\xc0'\\x00g\\x00@\\xc0\\n\\xc0\\x14\\x009\\x008\\xc0\\t\\xc0\\x13\\x003\\x002\\x00\\x9d\\xc0\\xa1\\xc0\\x9d\\xc0Q\\x00\\x9c\\xc0\\xa0\\xc0\\x9c\\xc0P\\x00=\\x00<\\x005\\x00/\\x00\\x9a\\x00\\x99\\xc0\\x07\\xc0\\x11\\x00\\x96\\x00\\x05\\x00\\xff\\x01\\x00\\x00j\\x00\\x00\\x00\\x0e\\x00\\x0c\\x00\\x00\\t127.0.0.\"]\n",
      "Bad pipe message: %s [b'\\x03\\x02\\x03\\x04\\x00-\\x00\\x02\\x01\\x01\\x003\\x00&\\x00$\\x00\\x1d\\x00 pK^/\\x1d,,\\x00|S\\x92T\\x05\\xf7\\xa8\\x86gN{\\x06<\\xfe']\n",
      "Bad pipe message: %s [b'\\xe8\\xa21\\xfb\\x83\\x99\\x13\\xc2\\xfa\\xd1\\x95\\xa6\\xd8\\x00\\x08\\x13\\x02\\x13\\x03\\x13\\x01\\x00\\xff\\x01\\x00\\x00\\x8f\\x00\\x00\\x00\\x0e\\x00\\x0c\\x00\\x00\\t127.0.0.1\\x00\\x0b\\x00\\x04\\x03\\x00\\x01\\x02\\x00\\n\\x00\\x0c\\x00\\n\\x00\\x1d\\x00\\x17\\x00', b'\\x19\\x00\\x18\\x00#\\x00\\x00\\x00\\x16\\x00\\x00\\x00\\x17\\x00\\x00\\x00\\r\\x00\\x1e\\x00\\x1c\\x04\\x03\\x05\\x03\\x06\\x03\\x08\\x07']\n",
      "Bad pipe message: %s [b'\\x0b\\x00\\x04\\x03\\x00\\x01\\x02\\x00\\n\\x00\\x0c\\x00\\n\\x00\\x1d\\x00\\x17\\x00\\x1e\\x00\\x19\\x00\\x18\\x00#\\x00\\x00\\x00\\x16\\x00\\x00\\x00\\x17\\x00\\x00\\x00\\r\\x000\\x00.\\x04\\x03\\x05\\x03\\x06\\x03\\x08']\n",
      "Bad pipe message: %s [b\"+\\xcdJT\\xd2\\x8a\\xee\\xc5`\\x03\\xc9Y0\\x15\\x88\\xa3K\\x96\\x00\\x00\\xa6\\xc0,\\xc00\\x00\\xa3\\x00\\x9f\\xcc\\xa9\\xcc\\xa8\\xcc\\xaa\\xc0\\xaf\\xc0\\xad\\xc0\\xa3\\xc0\\x9f\\xc0]\\xc0a\\xc0W\\xc0S\\xc0+\\xc0/\\x00\\xa2\\x00\\x9e\\xc0\\xae\\xc0\\xac\\xc0\\xa2\\xc0\\x9e\\xc0\\\\\\xc0`\\xc0V\\xc0R\\xc0$\\xc0(\\x00k\\x00j\\xc0s\\xc0w\\x00\\xc4\\x00\\xc3\\xc0#\\xc0'\\x00g\\x00@\\xc0r\\xc0v\\x00\\xbe\\x00\\xbd\\xc0\\n\\xc0\\x14\\x009\\x008\\x00\\x88\\x00\\x87\\xc0\\t\\xc0\\x13\\x003\\x002\\x00\\x9a\\x00\"]\n",
      "Bad pipe message: %s [b'\\xe9\\x96\\xc00X\\xa7\\xcc\\x87K\\xfd\\xf1\\x8a\\xc8\\x8a\\xb9\\x92\\xbe\\x80\\x00\\x00>\\xc0\\x14\\xc0\\n\\x009\\x008\\x007\\x006\\xc0\\x0f\\xc0\\x05\\x005\\xc0\\x13\\xc0\\t\\x003\\x002\\x001\\x000\\xc0\\x0e\\xc0\\x04\\x00/\\x00\\x9a\\x00']\n",
      "Bad pipe message: %s [b'E\\x00D\\xc0\\x07\\xc0\\x11\\xc0\\x08\\xc0\\x12\\x00\\x16\\x00\\x13\\x00\\x9d\\xc0\\xa1\\xc0\\x9d\\xc0Q\\x00\\x9c\\xc0\\xa0\\xc0\\x9c\\xc0P\\x00=\\x00\\xc0\\x00<\\x00\\xba\\x005\\x00\\x84\\x00/\\x00\\x96\\x00A\\x00\\x05\\x00\\n\\x00\\xff\\x01\\x00\\x00j\\x00\\x00\\x00\\x0e\\x00\\x0c\\x00\\x00\\t127.0.0.1\\x00\\x0b\\x00\\x04\\x03\\x00\\x01\\x02\\x00\\n\\x00\\x0c\\x00\\n\\x00\\x1d\\x00\\x17\\x00\\x1e\\x00\\x19\\x00\\x18\\x00#\\x00\\x00\\x00\\x16\\x00\\x00\\x00\\x17\\x00\\x00\\x00\\r\\x000\\x00.\\x04\\x03\\x05\\x03\\x06\\x03\\x08\\x07\\x08\\x08\\x08\\t\\x08\\n\\x08\\x0b\\x08\\x04\\x08\\x05\\x08\\x06\\x04\\x01\\x05\\x01\\x06\\x01\\x03\\x03\\x02\\x03\\x03']\n",
      "Bad pipe message: %s [b'\\x08\\t\\x08\\n\\x08\\x0b\\x08']\n",
      "Bad pipe message: %s [b'\\x08\\x08\\t\\x08\\n\\x08']\n",
      "Bad pipe message: %s [b\"jh'{\\xe7\\xbcl\\xccZ\\xf5\\x19\\xd5\\x0c\\x90\\xeb9g\\x8e\\x00\\x00\\xa2\\xc0\\x14\\xc0\\n\\x009\\x008\\x007\\x006\\x00\\x88\\x00\\x87\\x00\\x86\\x00\\x85\\xc0\\x19\\x00:\\x00\\x89\\xc0\\x0f\\xc0\\x05\\x005\\x00\\x84\\xc0\\x13\\xc0\\t\\x003\\x002\\x001\\x000\\x00\\x9a\\x00\\x99\\x00\\x98\\x00\\x97\\x00E\\x00D\\x00C\\x00B\\xc0\\x18\\x004\\x00\\x9b\\x00F\\xc0\\x0e\\xc0\\x04\\x00/\\x00\\x96\\x00A\\x00\\x07\\xc0\\x11\\xc0\\x07\\xc0\\x16\\x00\\x18\\xc0\\x0c\\xc0\\x02\\x00\\x05\\x00\\x04\\xc0\\x12\\xc0\\x08\\x00\\x16\\x00\\x13\\x00\\x10\\x00\\r\\xc0\\x17\\x00\\x1b\\xc0\\r\\xc0\\x03\\x00\\n\\x00\\x15\\x00\\x12\\x00\\x0f\\x00\\x0c\\x00\\x1a\\x00\\t\\x00\\x14\\x00\\x11\\x00\\x19\\x00\\x08\\x00\\x06\\x00\\x17\\x00\\x03\\xc0\\x10\\xc0\\x06\\xc0\\x15\\xc0\\x0b\\xc0\\x01\\x00\\x02\\x00\\x01\\x00\\xff\\x02\\x01\\x00\\x00C\\x00\\x00\\x00\\x0e\\x00\\x0c\\x00\\x00\\t127.0.0.1\\x00\\x0b\\x00\\x04\\x03\\x00\\x01\\x02\\x00\\n\\x00\\x1c\\x00\\x1a\"]\n",
      "Bad pipe message: %s [b'']\n",
      "Bad pipe message: %s [b'\\x05\\x08\\x06']\n",
      "Bad pipe message: %s [b'\\x04\\x08\\x05\\x08\\x06\\x04\\x01\\x05\\x01\\x06']\n",
      "Bad pipe message: %s [b'', b'\\x02']\n",
      "Bad pipe message: %s [b'\\x05\\x01\\x06', b'']\n",
      "Bad pipe message: %s [b'', b'\\x03\\x03']\n",
      "Bad pipe message: %s [b'\\xc0\\x93O\\x8b[=\\x142F\\xcd\"\\xaa\\x87\\xe2\\x905n\\'\\x00\\x00\\xa2\\xc0\\x14\\xc0\\n\\x009\\x008\\x007\\x006\\x00\\x88\\x00\\x87\\x00\\x86\\x00\\x85\\xc0\\x19\\x00:\\x00\\x89\\xc0\\x0f\\xc0\\x05\\x005\\x00\\x84\\xc0\\x13\\xc0\\t\\x003\\x002\\x001\\x000\\x00\\x9a\\x00\\x99\\x00\\x98\\x00\\x97\\x00E\\x00D\\x00C\\x00B\\xc0\\x18\\x004\\x00\\x9b\\x00F\\xc0\\x0e\\xc0\\x04\\x00/\\x00\\x96\\x00A\\x00\\x07\\xc0\\x11\\xc0\\x07\\xc0\\x16\\x00\\x18\\xc0\\x0c\\xc0\\x02\\x00\\x05\\x00\\x04\\xc0\\x12\\xc0\\x08\\x00\\x16\\x00\\x13\\x00\\x10\\x00\\r\\xc0\\x17\\x00\\x1b\\xc0\\r\\xc0\\x03\\x00\\n\\x00\\x15\\x00\\x12\\x00\\x0f\\x00\\x0c\\x00\\x1a\\x00\\t\\x00\\x14\\x00\\x11\\x00\\x19\\x00\\x08\\x00\\x06\\x00\\x17\\x00\\x03\\xc0\\x10\\xc0\\x06\\xc0\\x15\\xc0']\n",
      "Bad pipe message: %s [b'\\x05\\x02\\x06']\n",
      "Bad pipe message: %s [b'\\x03\\x02\\x03\\x04\\x00-\\x00\\x02\\x01\\x01\\x003\\x00&\\x00$\\x00\\x1d\\x00 ,YvR\\xaf\\x91\\xb8-P\\x08\\xf6\\x8f\\xcf5\\xcep\\xe9bI\\xd8U\\x89']\n",
      "Bad pipe message: %s [b'']\n",
      "Bad pipe message: %s [b'\\x01\\x00\\x02\\x00\\x01\\x00\\xff\\x02\\x01\\x00']\n",
      "Bad pipe message: %s [b'\\xeb\\x7f+r\\xf4\\x05\\x89\\x13\\xdd\\x9aP\\xb3\\xba9b\\x9dM\\xe4\\x00\\x00\\xa2\\xc0\\x14\\xc0\\n\\x009\\x008\\x007\\x006\\x00\\x88\\x00\\x87\\x00\\x86\\x00\\x85\\xc0\\x19\\x00:\\x00\\x89\\xc0\\x0f\\xc0\\x05\\x005\\x00\\x84\\xc0\\x13\\xc0\\t\\x00', b'2\\x001\\x000\\x00\\x9a\\x00\\x99\\x00\\x98\\x00\\x97\\x00E\\x00D\\x00C\\x00B\\xc0\\x18\\x004\\x00\\x9b\\x00F\\xc0\\x0e\\xc0\\x04\\x00/\\x00\\x96\\x00A\\x00\\x07\\xc0\\x11\\xc0\\x07\\xc0\\x16\\x00\\x18\\xc0']\n",
      "Bad pipe message: %s [b'\\x02\\x00\\x05\\x00\\x04\\xc0\\x12\\xc0\\x08\\x00\\x16']\n",
      "Bad pipe message: %s [b\"-\\x10\\xfc\\xdc\\x1f\\xa3\\x8b\\x1au\\xf97_\\x115\\x8fh\\x89\\xac\\x00\\x00\\x86\\xc00\\xc0,\\xc0(\\xc0$\\xc0\\x14\\xc0\\n\\x00\\xa5\\x00\\xa3\\x00\\xa1\\x00\\x9f\\x00k\\x00j\\x00i\\x00h\\x009\\x008\\x007\\x006\\xc02\\xc0.\\xc0*\\xc0&\\xc0\\x0f\\xc0\\x05\\x00\\x9d\\x00=\\x005\\xc0/\\xc0+\\xc0'\\xc0#\\xc0\\x13\\xc0\\t\\x00\\xa4\\x00\\xa2\\x00\\xa0\\x00\\x9e\\x00g\\x00@\\x00?\\x00>\\x003\\x002\\x001\\x000\\xc01\\xc0-\\xc0)\\xc0%\\xc0\\x0e\\xc0\\x04\\x00\\x9c\\x00<\\x00/\\x00\\x9a\\x00\\x99\\x00\\x98\\x00\\x97\\x00\\x96\\x00\\x07\\xc0\\x11\\xc0\\x07\\xc0\\x0c\\xc0\\x02\\x00\\x05\\x00\\x04\\x00\\xff\\x02\\x01\\x00\\x00g\\x00\\x00\\x00\\x0e\\x00\\x0c\\x00\\x00\\t127.0.0.1\\x00\\x0b\"]\n",
      "Bad pipe message: %s [b'', b'\\x02']\n",
      "Bad pipe message: %s [b'\\x05\\x02\\x06']\n",
      "Bad pipe message: %s [b\"\\xe1w_/kN\\xfd\\xf7\\xedM\\xe6\\xc3\\xd1\\xee]\\xd5\\x91i\\x00\\x00\\xf4\\xc00\\xc0,\\xc0(\\xc0$\\xc0\\x14\\xc0\\n\\x00\\xa5\\x00\\xa3\\x00\\xa1\\x00\\x9f\\x00k\\x00j\\x00i\\x00h\\x009\\x008\\x007\\x006\\x00\\x88\\x00\\x87\\x00\\x86\\x00\\x85\\xc0\\x19\\x00\\xa7\\x00m\\x00:\\x00\\x89\\xc02\\xc0.\\xc0*\\xc0&\\xc0\\x0f\\xc0\\x05\\x00\\x9d\\x00=\\x005\\x00\\x84\\xc0/\\xc0+\\xc0'\\xc0#\\xc0\\x13\\xc0\\t\\x00\\xa4\\x00\\xa2\\x00\\xa0\\x00\\x9e\\x00g\\x00@\\x00?\\x00>\\x00\", b'2\\x001\\x000\\x00\\x9a\\x00\\x99\\x00\\x98\\x00\\x97\\x00E\\x00D\\x00C\\x00B\\xc0\\x18\\x00\\xa6\\x00l\\x004\\x00\\x9b\\x00F\\xc01\\xc0-\\xc0)\\xc0%\\xc0\\x0e\\xc0\\x04\\x00\\x9c\\x00<\\x00']\n",
      "Bad pipe message: %s [b'\\x96\\x00A\\x00\\x07\\xc0\\x11\\xc0\\x07\\xc0\\x16\\x00\\x18\\xc0\\x0c\\xc0\\x02\\x00\\x05\\x00\\x04\\xc0\\x12\\xc0\\x08\\x00\\x16\\x00\\x13\\x00\\x10\\x00\\r\\xc0\\x17\\x00\\x1b\\xc0\\r\\xc0\\x03\\x00\\n\\x00\\x15\\x00']\n",
      "Bad pipe message: %s [b'\\x0f\\x00\\x0c\\x00\\x1a\\x00\\t\\x00\\x14\\x00\\x11\\x00\\x19\\x00\\x08\\x00\\x06']\n",
      "Exception in thread SockSrvRdThr:\n",
      "Traceback (most recent call last):\n",
      "  File \"/anaconda/envs/azureml_py38_PT_TF/lib/python3.8/threading.py\", line 932, in _bootstrap_inner\n",
      "    self.run()\n",
      "  File \"/anaconda/envs/azureml_py38_PT_TF/lib/python3.8/site-packages/wandb/sdk/service/server_sock.py\", line 100, in run\n",
      "    sreq = self._sock_client.read_server_request()\n",
      "  File \"/anaconda/envs/azureml_py38_PT_TF/lib/python3.8/site-packages/wandb/sdk/lib/sock_client.py\", line 274, in read_server_request\n",
      "    data = self._read_packet_bytes()\n",
      "  File \"/anaconda/envs/azureml_py38_PT_TF/lib/python3.8/site-packages/wandb/sdk/lib/sock_client.py\", line 248, in _read_packet_bytes\n",
      "    rec = self._extract_packet_bytes()\n",
      "  File \"/anaconda/envs/azureml_py38_PT_TF/lib/python3.8/site-packages/wandb/sdk/lib/sock_client.py\", line 230, in _extract_packet_bytes\n",
      "    assert magic == ord(\"W\")\n",
      "AssertionError\n",
      "Exception in thread SockSrvRdThr:\n",
      "Traceback (most recent call last):\n",
      "  File \"/anaconda/envs/azureml_py38_PT_TF/lib/python3.8/threading.py\", line 932, in _bootstrap_inner\n",
      "    self.run()\n",
      "  File \"/anaconda/envs/azureml_py38_PT_TF/lib/python3.8/site-packages/wandb/sdk/service/server_sock.py\", line 100, in run\n",
      "    sreq = self._sock_client.read_server_request()\n",
      "  File \"/anaconda/envs/azureml_py38_PT_TF/lib/python3.8/site-packages/wandb/sdk/lib/sock_client.py\", line 274, in read_server_request\n",
      "    data = self._read_packet_bytes()\n",
      "  File \"/anaconda/envs/azureml_py38_PT_TF/lib/python3.8/site-packages/wandb/sdk/lib/sock_client.py\", line 248, in _read_packet_bytes\n",
      "    rec = self._extract_packet_bytes()\n",
      "  File \"/anaconda/envs/azureml_py38_PT_TF/lib/python3.8/site-packages/wandb/sdk/lib/sock_client.py\", line 230, in _extract_packet_bytes\n",
      "    assert magic == ord(\"W\")\n",
      "AssertionError\n",
      "Exception in thread SockSrvRdThr:\n",
      "Traceback (most recent call last):\n",
      "  File \"/anaconda/envs/azureml_py38_PT_TF/lib/python3.8/threading.py\", line 932, in _bootstrap_inner\n",
      "    self.run()\n",
      "  File \"/anaconda/envs/azureml_py38_PT_TF/lib/python3.8/site-packages/wandb/sdk/service/server_sock.py\", line 100, in run\n",
      "    sreq = self._sock_client.read_server_request()\n",
      "  File \"/anaconda/envs/azureml_py38_PT_TF/lib/python3.8/site-packages/wandb/sdk/lib/sock_client.py\", line 274, in read_server_request\n",
      "    data = self._read_packet_bytes()\n",
      "  File \"/anaconda/envs/azureml_py38_PT_TF/lib/python3.8/site-packages/wandb/sdk/lib/sock_client.py\", line 248, in _read_packet_bytes\n",
      "    rec = self._extract_packet_bytes()\n",
      "  File \"/anaconda/envs/azureml_py38_PT_TF/lib/python3.8/site-packages/wandb/sdk/lib/sock_client.py\", line 230, in _extract_packet_bytes\n",
      "    assert magic == ord(\"W\")\n",
      "AssertionError\n",
      "Exception in thread SockSrvRdThr:\n",
      "Traceback (most recent call last):\n",
      "  File \"/anaconda/envs/azureml_py38_PT_TF/lib/python3.8/threading.py\", line 932, in _bootstrap_inner\n",
      "    self.run()\n",
      "  File \"/anaconda/envs/azureml_py38_PT_TF/lib/python3.8/site-packages/wandb/sdk/service/server_sock.py\", line 100, in run\n",
      "    sreq = self._sock_client.read_server_request()\n",
      "  File \"/anaconda/envs/azureml_py38_PT_TF/lib/python3.8/site-packages/wandb/sdk/lib/sock_client.py\", line 274, in read_server_request\n",
      "    data = self._read_packet_bytes()\n",
      "  File \"/anaconda/envs/azureml_py38_PT_TF/lib/python3.8/site-packages/wandb/sdk/lib/sock_client.py\", line 248, in _read_packet_bytes\n",
      "    rec = self._extract_packet_bytes()\n",
      "  File \"/anaconda/envs/azureml_py38_PT_TF/lib/python3.8/site-packages/wandb/sdk/lib/sock_client.py\", line 230, in _extract_packet_bytes\n",
      "    assert magic == ord(\"W\")\n",
      "AssertionError\n",
      "Exception in thread SockSrvRdThr:\n",
      "Traceback (most recent call last):\n",
      "  File \"/anaconda/envs/azureml_py38_PT_TF/lib/python3.8/threading.py\", line 932, in _bootstrap_inner\n",
      "    self.run()\n",
      "  File \"/anaconda/envs/azureml_py38_PT_TF/lib/python3.8/site-packages/wandb/sdk/service/server_sock.py\", line 100, in run\n",
      "    sreq = self._sock_client.read_server_request()\n",
      "  File \"/anaconda/envs/azureml_py38_PT_TF/lib/python3.8/site-packages/wandb/sdk/lib/sock_client.py\", line 274, in read_server_request\n",
      "    data = self._read_packet_bytes()\n",
      "  File \"/anaconda/envs/azureml_py38_PT_TF/lib/python3.8/site-packages/wandb/sdk/lib/sock_client.py\", line 248, in _read_packet_bytes\n",
      "    rec = self._extract_packet_bytes()\n",
      "  File \"/anaconda/envs/azureml_py38_PT_TF/lib/python3.8/site-packages/wandb/sdk/lib/sock_client.py\", line 230, in _extract_packet_bytes\n",
      "    assert magic == ord(\"W\")\n",
      "AssertionError\n",
      "Exception in thread SockSrvRdThr:\n",
      "Traceback (most recent call last):\n",
      "  File \"/anaconda/envs/azureml_py38_PT_TF/lib/python3.8/threading.py\", line 932, in _bootstrap_inner\n",
      "    self.run()\n",
      "  File \"/anaconda/envs/azureml_py38_PT_TF/lib/python3.8/site-packages/wandb/sdk/service/server_sock.py\", line 100, in run\n",
      "    sreq = self._sock_client.read_server_request()\n",
      "  File \"/anaconda/envs/azureml_py38_PT_TF/lib/python3.8/site-packages/wandb/sdk/lib/sock_client.py\", line 274, in read_server_request\n",
      "    data = self._read_packet_bytes()\n",
      "  File \"/anaconda/envs/azureml_py38_PT_TF/lib/python3.8/site-packages/wandb/sdk/lib/sock_client.py\", line 248, in _read_packet_bytes\n",
      "    rec = self._extract_packet_bytes()\n",
      "  File \"/anaconda/envs/azureml_py38_PT_TF/lib/python3.8/site-packages/wandb/sdk/lib/sock_client.py\", line 230, in _extract_packet_bytes\n",
      "    assert magic == ord(\"W\")\n",
      "AssertionError\n",
      "Exception in thread SockSrvRdThr:\n",
      "Traceback (most recent call last):\n",
      "  File \"/anaconda/envs/azureml_py38_PT_TF/lib/python3.8/threading.py\", line 932, in _bootstrap_inner\n",
      "    self.run()\n",
      "  File \"/anaconda/envs/azureml_py38_PT_TF/lib/python3.8/site-packages/wandb/sdk/service/server_sock.py\", line 100, in run\n",
      "    sreq = self._sock_client.read_server_request()\n",
      "  File \"/anaconda/envs/azureml_py38_PT_TF/lib/python3.8/site-packages/wandb/sdk/lib/sock_client.py\", line 274, in read_server_request\n",
      "    data = self._read_packet_bytes()\n",
      "  File \"/anaconda/envs/azureml_py38_PT_TF/lib/python3.8/site-packages/wandb/sdk/lib/sock_client.py\", line 248, in _read_packet_bytes\n",
      "    rec = self._extract_packet_bytes()\n",
      "  File \"/anaconda/envs/azureml_py38_PT_TF/lib/python3.8/site-packages/wandb/sdk/lib/sock_client.py\", line 230, in _extract_packet_bytes\n",
      "    assert magic == ord(\"W\")\n",
      "AssertionError\n",
      "Exception in thread SockSrvRdThr:\n",
      "Traceback (most recent call last):\n",
      "  File \"/anaconda/envs/azureml_py38_PT_TF/lib/python3.8/threading.py\", line 932, in _bootstrap_inner\n",
      "    self.run()\n",
      "  File \"/anaconda/envs/azureml_py38_PT_TF/lib/python3.8/site-packages/wandb/sdk/service/server_sock.py\", line 100, in run\n",
      "    sreq = self._sock_client.read_server_request()\n",
      "  File \"/anaconda/envs/azureml_py38_PT_TF/lib/python3.8/site-packages/wandb/sdk/lib/sock_client.py\", line 274, in read_server_request\n",
      "    data = self._read_packet_bytes()\n",
      "  File \"/anaconda/envs/azureml_py38_PT_TF/lib/python3.8/site-packages/wandb/sdk/lib/sock_client.py\", line 248, in _read_packet_bytes\n",
      "    rec = self._extract_packet_bytes()\n",
      "  File \"/anaconda/envs/azureml_py38_PT_TF/lib/python3.8/site-packages/wandb/sdk/lib/sock_client.py\", line 230, in _extract_packet_bytes\n",
      "    assert magic == ord(\"W\")\n",
      "AssertionError\n",
      "Exception in thread SockSrvRdThr:\n",
      "Traceback (most recent call last):\n",
      "  File \"/anaconda/envs/azureml_py38_PT_TF/lib/python3.8/threading.py\", line 932, in _bootstrap_inner\n",
      "    self.run()\n",
      "  File \"/anaconda/envs/azureml_py38_PT_TF/lib/python3.8/site-packages/wandb/sdk/service/server_sock.py\", line 100, in run\n",
      "    sreq = self._sock_client.read_server_request()\n",
      "  File \"/anaconda/envs/azureml_py38_PT_TF/lib/python3.8/site-packages/wandb/sdk/lib/sock_client.py\", line 274, in read_server_request\n",
      "    data = self._read_packet_bytes()\n",
      "  File \"/anaconda/envs/azureml_py38_PT_TF/lib/python3.8/site-packages/wandb/sdk/lib/sock_client.py\", line 248, in _read_packet_bytes\n",
      "    rec = self._extract_packet_bytes()\n",
      "  File \"/anaconda/envs/azureml_py38_PT_TF/lib/python3.8/site-packages/wandb/sdk/lib/sock_client.py\", line 230, in _extract_packet_bytes\n",
      "    assert magic == ord(\"W\")\n",
      "AssertionError\n",
      "Exception in thread SockSrvRdThr:\n",
      "Traceback (most recent call last):\n",
      "  File \"/anaconda/envs/azureml_py38_PT_TF/lib/python3.8/threading.py\", line 932, in _bootstrap_inner\n",
      "    self.run()\n",
      "  File \"/anaconda/envs/azureml_py38_PT_TF/lib/python3.8/site-packages/wandb/sdk/service/server_sock.py\", line 100, in run\n",
      "    sreq = self._sock_client.read_server_request()\n",
      "  File \"/anaconda/envs/azureml_py38_PT_TF/lib/python3.8/site-packages/wandb/sdk/lib/sock_client.py\", line 274, in read_server_request\n",
      "    data = self._read_packet_bytes()\n",
      "  File \"/anaconda/envs/azureml_py38_PT_TF/lib/python3.8/site-packages/wandb/sdk/lib/sock_client.py\", line 248, in _read_packet_bytes\n",
      "    rec = self._extract_packet_bytes()\n",
      "  File \"/anaconda/envs/azureml_py38_PT_TF/lib/python3.8/site-packages/wandb/sdk/lib/sock_client.py\", line 230, in _extract_packet_bytes\n",
      "    assert magic == ord(\"W\")\n",
      "AssertionError\n",
      "Exception in thread SockSrvRdThr:\n",
      "Traceback (most recent call last):\n",
      "  File \"/anaconda/envs/azureml_py38_PT_TF/lib/python3.8/threading.py\", line 932, in _bootstrap_inner\n",
      "    self.run()\n",
      "  File \"/anaconda/envs/azureml_py38_PT_TF/lib/python3.8/site-packages/wandb/sdk/service/server_sock.py\", line 100, in run\n",
      "    sreq = self._sock_client.read_server_request()\n",
      "  File \"/anaconda/envs/azureml_py38_PT_TF/lib/python3.8/site-packages/wandb/sdk/lib/sock_client.py\", line 274, in read_server_request\n",
      "    data = self._read_packet_bytes()\n",
      "  File \"/anaconda/envs/azureml_py38_PT_TF/lib/python3.8/site-packages/wandb/sdk/lib/sock_client.py\", line 248, in _read_packet_bytes\n",
      "    rec = self._extract_packet_bytes()\n",
      "  File \"/anaconda/envs/azureml_py38_PT_TF/lib/python3.8/site-packages/wandb/sdk/lib/sock_client.py\", line 230, in _extract_packet_bytes\n",
      "    assert magic == ord(\"W\")\n",
      "AssertionError\n",
      "Exception in thread SockSrvRdThr:\n",
      "Traceback (most recent call last):\n",
      "  File \"/anaconda/envs/azureml_py38_PT_TF/lib/python3.8/threading.py\", line 932, in _bootstrap_inner\n",
      "    self.run()\n",
      "  File \"/anaconda/envs/azureml_py38_PT_TF/lib/python3.8/site-packages/wandb/sdk/service/server_sock.py\", line 100, in run\n",
      "    sreq = self._sock_client.read_server_request()\n",
      "  File \"/anaconda/envs/azureml_py38_PT_TF/lib/python3.8/site-packages/wandb/sdk/lib/sock_client.py\", line 274, in read_server_request\n",
      "    data = self._read_packet_bytes()\n",
      "  File \"/anaconda/envs/azureml_py38_PT_TF/lib/python3.8/site-packages/wandb/sdk/lib/sock_client.py\", line 248, in _read_packet_bytes\n",
      "    rec = self._extract_packet_bytes()\n",
      "  File \"/anaconda/envs/azureml_py38_PT_TF/lib/python3.8/site-packages/wandb/sdk/lib/sock_client.py\", line 230, in _extract_packet_bytes\n",
      "    assert magic == ord(\"W\")\n",
      "AssertionError\n"
     ]
    }
   ],
   "source": [
    "model = model.to(device)\n",
    "epochs = 25\n",
    "best_acc = 0.0\n",
    "hour = 0\n",
    "for i in tqdm(range(epochs)):\n",
    "    if i % 10 == 0:\n",
    "        predictions, real = MNIST.predict(test_loader, model, device)\n",
    "        acc = np.sum(predictions == real)/len(real)\n",
    "        wandb.log({\"Accuracy on test data\": acc})\n",
    "        if acc > best_acc:\n",
    "            best_acc = acc\n",
    "            torch.save(model.state_dict(), 'best_mnist.ph')\n",
    "        \n",
    "    predictions, real = MNIST.predict(train_loader, model, device)\n",
    "    acc = np.sum(predictions == real)/len(real)\n",
    "    wandb.log({\"Accuracy on train data\": acc})\n",
    "    model.train()\n",
    "    for _, (x, y) in enumerate(train_loader):\n",
    "        x_pos, _ = MNIST.overlay_y_on_x(x, y)\n",
    "        rnd = torch.randperm(x.size(0))\n",
    "        x_neg, _ = MNIST.overlay_y_on_x(x, y[rnd])\n",
    "        x_pos, x_neg = x_pos.to(device), x_neg.to(device)\n",
    "        if hour % (awake_period + sleep_period) < awake_period:\n",
    "            model.forward_positive(x_pos)\n",
    "        else:\n",
    "            model.forward_negative(x_neg)\n",
    "        \n",
    "        hour += 1\n",
    "\n",
    "        \n",
    "wandb.finish()"
   ]
  },
  {
   "cell_type": "code",
   "execution_count": null,
   "id": "a0012acc",
   "metadata": {},
   "outputs": [],
   "source": []
  }
 ],
 "metadata": {
  "kernelspec": {
   "display_name": "Python 3.8 - Pytorch and Tensorflow",
   "language": "python",
   "name": "python38-azureml-pt-tf"
  },
  "language_info": {
   "codemirror_mode": {
    "name": "ipython",
    "version": 3
   },
   "file_extension": ".py",
   "mimetype": "text/x-python",
   "name": "python",
   "nbconvert_exporter": "python",
   "pygments_lexer": "ipython3",
   "version": "3.8.5"
  },
  "vscode": {
   "interpreter": {
    "hash": "1ffc82101c5eff764050d2685372a31bdf18b27fd6181f429b67cb2396dafb7f"
   }
  }
 },
 "nbformat": 4,
 "nbformat_minor": 5
}

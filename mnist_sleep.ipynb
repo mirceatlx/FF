{
 "cells": [
  {
   "cell_type": "code",
   "execution_count": 1,
   "id": "164a8e66",
   "metadata": {},
   "outputs": [
    {
     "name": "stderr",
     "output_type": "stream",
     "text": [
      "C:\\Users\\rdyt2\\AppData\\Local\\Packages\\PythonSoftwareFoundation.Python.3.10_qbz5n2kfra8p0\\LocalCache\\local-packages\\Python310\\site-packages\\tqdm\\auto.py:22: TqdmWarning: IProgress not found. Please update jupyter and ipywidgets. See https://ipywidgets.readthedocs.io/en/stable/user_install.html\n",
      "  from .autonotebook import tqdm as notebook_tqdm\n"
     ]
    }
   ],
   "source": [
    "import torch\n",
    "import torchvision\n",
    "import torch.nn as nn\n",
    "import torch.nn.functional as F\n",
    "import numpy as np\n",
    "import wandb\n",
    "from ff import FF, FFLayer, FFEncoder\n",
    "from data import MNIST, MergedDataset\n",
    "from tqdm import tqdm\n",
    "# pip install lion-pytorch\n",
    "from lion_pytorch import Lion\n"
   ]
  },
  {
   "cell_type": "code",
   "execution_count": 2,
   "id": "7c9bec64",
   "metadata": {},
   "outputs": [],
   "source": [
    "# device = \"mps\" if torch.backends.mps.is_available() else \"cpu\"\n",
    "device = \"cuda\" if torch.cuda.is_available() else \"cpu\""
   ]
  },
  {
   "cell_type": "code",
   "execution_count": 3,
   "id": "60271c94",
   "metadata": {},
   "outputs": [],
   "source": [
    "batch_size_train = 512\n",
    "batch_size_test = 512"
   ]
  },
  {
   "cell_type": "code",
   "execution_count": 16,
   "id": "e80f3a51",
   "metadata": {},
   "outputs": [],
   "source": [
    "train_loader = torch.utils.data.DataLoader(\n",
    "  torchvision.datasets.MNIST('./datasets/MNIST/', train=True, download=True,\n",
    "                             transform=torchvision.transforms.Compose([\n",
    "                               torchvision.transforms.ToTensor(),\n",
    "                               torchvision.transforms.Normalize(\n",
    "                                 (0.1307,), (0.3081,))\n",
    "                             ])),\n",
    "  batch_size=batch_size_train, shuffle=True)\n",
    "train_loader_negative = torch.utils.data.DataLoader(MergedDataset(torchvision.datasets.MNIST('./datasets/MNIST/', train=True, download=True,\n",
    "                             transform=torchvision.transforms.Compose([\n",
    "                               torchvision.transforms.ToTensor(),\n",
    "                               torchvision.transforms.Normalize(\n",
    "                                 (0.1307,), (0.3081,))\n",
    "                             ])), 5), batch_size=batch_size_train, shuffle=True)"
   ]
  },
  {
   "cell_type": "code",
   "execution_count": 17,
   "id": "1f0f5681",
   "metadata": {},
   "outputs": [],
   "source": [
    "test_loader = torch.utils.data.DataLoader(\n",
    "  torchvision.datasets.MNIST('./datasets/MNIST/', train=False, download=True,\n",
    "                             transform=torchvision.transforms.Compose([\n",
    "                               torchvision.transforms.ToTensor(),\n",
    "                               torchvision.transforms.Normalize(\n",
    "                                 (0.1307,), (0.3081,))\n",
    "                             ])),\n",
    "  batch_size=batch_size_test, shuffle=True)\n",
    "  "
   ]
  },
  {
   "cell_type": "code",
   "execution_count": 18,
   "id": "65901119",
   "metadata": {},
   "outputs": [
    {
     "data": {
      "image/png": "[encoded data removed]",
      "text/plain": [
       "<Figure size 640x480 with 1 Axes>"
      ]
     },
     "metadata": {},
     "output_type": "display_data"
    }
   ],
   "source": [
    "squared_error = lambda x: x.pow(2).mean(1)\n",
    "deviation_error = lambda x: -((x - x.mean(1).unsqueeze(1)).pow(2).mean(1))\n",
    "for i in enumerate(train_loader_negative):\n",
    "    image = i[1].reshape((-1, 1, 28, 28))[0]\n",
    "    # visualize image with pil\n",
    "    from PIL import Image\n",
    "    import numpy as np\n",
    "    import matplotlib.pyplot as plt\n",
    "    plt.imshow(image.reshape((28, 28)), cmap='gray')\n",
    "    break;"
   ]
  },
  {
   "cell_type": "code",
   "execution_count": 28,
   "id": "bac009c4",
   "metadata": {},
   "outputs": [],
   "source": [
    "threshold = 1.5\n",
    "epochs_per_layer = 50\n",
    "model = FF(logging=False, device=device)\n",
    "optim_config = {\n",
    "    \"lr\": 0.001,\n",
    "}\n",
    "positive_optim_config = {\n",
    "    \"lr\": 0.001,\n",
    "\n",
    "}\n",
    "negative_optim_config = {\n",
    "    \"lr\": 0.001,\n",
    "}\n",
    "\n",
    "goodness_function = squared_error\n",
    "awake_period = 4\n",
    "sleep_period = 4\n",
    "\n",
    "model.add_layer(FFLayer(nn.Linear(784, 500).to(device), optimizer=torch.optim.Adam, epochs=epochs_per_layer, threshold=threshold, activation=nn.ReLU(), optim_config=optim_config, positive_optim_config=positive_optim_config, negative_optim_config=negative_optim_config, logging=False, name=\"layer 1\", device = device, goodness_function=goodness_function).to(device))\n",
    "model.add_layer(FFLayer(nn.Linear(500, 500).to(device), optimizer=torch.optim.Adam, epochs=epochs_per_layer, threshold=threshold, activation=nn.ReLU(), optim_config=optim_config, positive_optim_config=positive_optim_config, negative_optim_config=negative_optim_config, logging=False, name=\"layer 2\", device = device, goodness_function=goodness_function).to(device))\n",
    "model.add_layer(FFLayer(nn.Linear(500, 500).to(device), optimizer=torch.optim.Adam, epochs=epochs_per_layer, threshold=threshold, activation=nn.ReLU(), optim_config=optim_config, positive_optim_config=positive_optim_config, negative_optim_config=negative_optim_config, logging=False, name=\"layer 3\", device = device, goodness_function=goodness_function).to(device))"
   ]
  },
  {
   "cell_type": "markdown",
   "id": "7d0e781e",
   "metadata": {},
   "source": [
    "# Training"
   ]
  },
  {
   "cell_type": "code",
   "execution_count": 29,
   "id": "dfd050f6",
   "metadata": {},
   "outputs": [
    {
     "data": {
      "text/html": [
       "Finishing last run (ID:edbw3797) before initializing another..."
      ],
      "text/plain": [
       "<IPython.core.display.HTML object>"
      ]
     },
     "metadata": {},
     "output_type": "display_data"
    },
    {
     "data": {
      "text/html": [
       "Waiting for W&B process to finish... <strong style=\"color:green\">(success).</strong>"
      ],
      "text/plain": [
       "<IPython.core.display.HTML object>"
      ]
     },
     "metadata": {},
     "output_type": "display_data"
    },
    {
     "data": {
      "text/html": [
       " View run <strong style=\"color:#cdcd00\">normal-mask_negative_data-4-awake-4-sleep-0.001</strong> at: <a href='https://wandb.ai/ffalgo/MNIST/runs/edbw3797' target=\"_blank\">https://wandb.ai/ffalgo/MNIST/runs/edbw3797</a><br/>Synced 4 W&B file(s), 0 media file(s), 0 artifact file(s) and 0 other file(s)"
      ],
      "text/plain": [
       "<IPython.core.display.HTML object>"
      ]
     },
     "metadata": {},
     "output_type": "display_data"
    },
    {
     "data": {
      "text/html": [
       "Find logs at: <code>.\\wandb\\run-20230221_090954-edbw3797\\logs</code>"
      ],
      "text/plain": [
       "<IPython.core.display.HTML object>"
      ]
     },
     "metadata": {},
     "output_type": "display_data"
    },
    {
     "data": {
      "text/html": [
       "Successfully finished last run (ID:edbw3797). Initializing new run:<br/>"
      ],
      "text/plain": [
       "<IPython.core.display.HTML object>"
      ]
     },
     "metadata": {},
     "output_type": "display_data"
    },
    {
     "data": {
      "text/html": [
       "Tracking run with wandb version 0.13.10"
      ],
      "text/plain": [
       "<IPython.core.display.HTML object>"
      ]
     },
     "metadata": {},
     "output_type": "display_data"
    },
    {
     "data": {
      "text/html": [
       "Run data is saved locally in <code>c:\\Users\\rdyt2\\Desktop\\FF\\wandb\\run-20230221_091003-cq0inhn5</code>"
      ],
      "text/plain": [
       "<IPython.core.display.HTML object>"
      ]
     },
     "metadata": {},
     "output_type": "display_data"
    },
    {
     "data": {
      "text/html": [
       "Syncing run <strong><a href='https://wandb.ai/ffalgo/MNIST/runs/cq0inhn5' target=\"_blank\">normal-mask_negative_data-4-awake-4-sleep-0.001</a></strong> to <a href='https://wandb.ai/ffalgo/MNIST' target=\"_blank\">Weights & Biases</a> (<a href='https://wandb.me/run' target=\"_blank\">docs</a>)<br/>"
      ],
      "text/plain": [
       "<IPython.core.display.HTML object>"
      ]
     },
     "metadata": {},
     "output_type": "display_data"
    },
    {
     "data": {
      "text/html": [
       " View project at <a href='https://wandb.ai/ffalgo/MNIST' target=\"_blank\">https://wandb.ai/ffalgo/MNIST</a>"
      ],
      "text/plain": [
       "<IPython.core.display.HTML object>"
      ]
     },
     "metadata": {},
     "output_type": "display_data"
    },
    {
     "data": {
      "text/html": [
       " View run at <a href='https://wandb.ai/ffalgo/MNIST/runs/cq0inhn5' target=\"_blank\">https://wandb.ai/ffalgo/MNIST/runs/cq0inhn5</a>"
      ],
      "text/plain": [
       "<IPython.core.display.HTML object>"
      ]
     },
     "metadata": {},
     "output_type": "display_data"
    }
   ],
   "source": [
    "wandb.init(project=\"MNIST\", entity=\"ffalgo\", name=\"normal-mask_negative_data-4-awake-4-sleep-0.001\")\n",
    "wandb.config = {\n",
    "  \"learning_rate\": 0.01,\n",
    "  \"awake_period\": awake_period,\n",
    "  \"sleep_period\": sleep_period,\n",
    "  \"epochs_per_layer\": epochs_per_layer,\n",
    "  \"batch_size\": 512,\n",
    "  \"activation\": \"relu\",\n",
    "  \"positive_lr\": 0.0001,\n",
    "  \"negative_lr\": 0.0001,\n",
    "  \"threshold\": threshold,\n",
    "  \"optimizer\": torch.optim.Adam,\n",
    "  \"device\": device\n",
    "}"
   ]
  },
  {
   "cell_type": "code",
   "execution_count": 21,
   "id": "73f0956f",
   "metadata": {},
   "outputs": [
    {
     "name": "stdout",
     "output_type": "stream",
     "text": [
      "torch.Size([512, 28, 28])\n",
      "torch.Size([512, 28, 28])\n",
      "torch.Size([512, 28, 28])\n",
      "torch.Size([512, 28, 28])\n"
     ]
    },
    {
     "ename": "KeyboardInterrupt",
     "evalue": "",
     "output_type": "error",
     "traceback": [
      "\u001b[1;31m---------------------------------------------------------------------------\u001b[0m",
      "\u001b[1;31mKeyboardInterrupt\u001b[0m                         Traceback (most recent call last)",
      "Cell \u001b[1;32mIn[21], line 1\u001b[0m\n\u001b[1;32m----> 1\u001b[0m \u001b[39mfor\u001b[39;00m a, b \u001b[39min\u001b[39;00m \u001b[39mzip\u001b[39m(\u001b[39menumerate\u001b[39m(train_loader), \u001b[39menumerate\u001b[39m(train_loader_negative)):\n\u001b[0;32m      2\u001b[0m     x_neg \u001b[39m=\u001b[39m b[\u001b[39m1\u001b[39m]\u001b[39m.\u001b[39mto(device)\n\u001b[0;32m      3\u001b[0m     \u001b[39mprint\u001b[39m(x_neg\u001b[39m.\u001b[39mshape)\n",
      "File \u001b[1;32m~\\AppData\\Local\\Packages\\PythonSoftwareFoundation.Python.3.10_qbz5n2kfra8p0\\LocalCache\\local-packages\\Python310\\site-packages\\torch\\utils\\data\\dataloader.py:628\u001b[0m, in \u001b[0;36m_BaseDataLoaderIter.__next__\u001b[1;34m(self)\u001b[0m\n\u001b[0;32m    625\u001b[0m \u001b[39mif\u001b[39;00m \u001b[39mself\u001b[39m\u001b[39m.\u001b[39m_sampler_iter \u001b[39mis\u001b[39;00m \u001b[39mNone\u001b[39;00m:\n\u001b[0;32m    626\u001b[0m     \u001b[39m# TODO(https://github.com/pytorch/pytorch/issues/76750)\u001b[39;00m\n\u001b[0;32m    627\u001b[0m     \u001b[39mself\u001b[39m\u001b[39m.\u001b[39m_reset()  \u001b[39m# type: ignore[call-arg]\u001b[39;00m\n\u001b[1;32m--> 628\u001b[0m data \u001b[39m=\u001b[39m \u001b[39mself\u001b[39;49m\u001b[39m.\u001b[39;49m_next_data()\n\u001b[0;32m    629\u001b[0m \u001b[39mself\u001b[39m\u001b[39m.\u001b[39m_num_yielded \u001b[39m+\u001b[39m\u001b[39m=\u001b[39m \u001b[39m1\u001b[39m\n\u001b[0;32m    630\u001b[0m \u001b[39mif\u001b[39;00m \u001b[39mself\u001b[39m\u001b[39m.\u001b[39m_dataset_kind \u001b[39m==\u001b[39m _DatasetKind\u001b[39m.\u001b[39mIterable \u001b[39mand\u001b[39;00m \\\n\u001b[0;32m    631\u001b[0m         \u001b[39mself\u001b[39m\u001b[39m.\u001b[39m_IterableDataset_len_called \u001b[39mis\u001b[39;00m \u001b[39mnot\u001b[39;00m \u001b[39mNone\u001b[39;00m \u001b[39mand\u001b[39;00m \\\n\u001b[0;32m    632\u001b[0m         \u001b[39mself\u001b[39m\u001b[39m.\u001b[39m_num_yielded \u001b[39m>\u001b[39m \u001b[39mself\u001b[39m\u001b[39m.\u001b[39m_IterableDataset_len_called:\n",
      "File \u001b[1;32m~\\AppData\\Local\\Packages\\PythonSoftwareFoundation.Python.3.10_qbz5n2kfra8p0\\LocalCache\\local-packages\\Python310\\site-packages\\torch\\utils\\data\\dataloader.py:671\u001b[0m, in \u001b[0;36m_SingleProcessDataLoaderIter._next_data\u001b[1;34m(self)\u001b[0m\n\u001b[0;32m    669\u001b[0m \u001b[39mdef\u001b[39;00m \u001b[39m_next_data\u001b[39m(\u001b[39mself\u001b[39m):\n\u001b[0;32m    670\u001b[0m     index \u001b[39m=\u001b[39m \u001b[39mself\u001b[39m\u001b[39m.\u001b[39m_next_index()  \u001b[39m# may raise StopIteration\u001b[39;00m\n\u001b[1;32m--> 671\u001b[0m     data \u001b[39m=\u001b[39m \u001b[39mself\u001b[39;49m\u001b[39m.\u001b[39;49m_dataset_fetcher\u001b[39m.\u001b[39;49mfetch(index)  \u001b[39m# may raise StopIteration\u001b[39;00m\n\u001b[0;32m    672\u001b[0m     \u001b[39mif\u001b[39;00m \u001b[39mself\u001b[39m\u001b[39m.\u001b[39m_pin_memory:\n\u001b[0;32m    673\u001b[0m         data \u001b[39m=\u001b[39m _utils\u001b[39m.\u001b[39mpin_memory\u001b[39m.\u001b[39mpin_memory(data, \u001b[39mself\u001b[39m\u001b[39m.\u001b[39m_pin_memory_device)\n",
      "File \u001b[1;32m~\\AppData\\Local\\Packages\\PythonSoftwareFoundation.Python.3.10_qbz5n2kfra8p0\\LocalCache\\local-packages\\Python310\\site-packages\\torch\\utils\\data\\_utils\\fetch.py:58\u001b[0m, in \u001b[0;36m_MapDatasetFetcher.fetch\u001b[1;34m(self, possibly_batched_index)\u001b[0m\n\u001b[0;32m     56\u001b[0m         data \u001b[39m=\u001b[39m \u001b[39mself\u001b[39m\u001b[39m.\u001b[39mdataset\u001b[39m.\u001b[39m__getitems__(possibly_batched_index)\n\u001b[0;32m     57\u001b[0m     \u001b[39melse\u001b[39;00m:\n\u001b[1;32m---> 58\u001b[0m         data \u001b[39m=\u001b[39m [\u001b[39mself\u001b[39m\u001b[39m.\u001b[39mdataset[idx] \u001b[39mfor\u001b[39;00m idx \u001b[39min\u001b[39;00m possibly_batched_index]\n\u001b[0;32m     59\u001b[0m \u001b[39melse\u001b[39;00m:\n\u001b[0;32m     60\u001b[0m     data \u001b[39m=\u001b[39m \u001b[39mself\u001b[39m\u001b[39m.\u001b[39mdataset[possibly_batched_index]\n",
      "File \u001b[1;32m~\\AppData\\Local\\Packages\\PythonSoftwareFoundation.Python.3.10_qbz5n2kfra8p0\\LocalCache\\local-packages\\Python310\\site-packages\\torch\\utils\\data\\_utils\\fetch.py:58\u001b[0m, in \u001b[0;36m<listcomp>\u001b[1;34m(.0)\u001b[0m\n\u001b[0;32m     56\u001b[0m         data \u001b[39m=\u001b[39m \u001b[39mself\u001b[39m\u001b[39m.\u001b[39mdataset\u001b[39m.\u001b[39m__getitems__(possibly_batched_index)\n\u001b[0;32m     57\u001b[0m     \u001b[39melse\u001b[39;00m:\n\u001b[1;32m---> 58\u001b[0m         data \u001b[39m=\u001b[39m [\u001b[39mself\u001b[39;49m\u001b[39m.\u001b[39;49mdataset[idx] \u001b[39mfor\u001b[39;00m idx \u001b[39min\u001b[39;00m possibly_batched_index]\n\u001b[0;32m     59\u001b[0m \u001b[39melse\u001b[39;00m:\n\u001b[0;32m     60\u001b[0m     data \u001b[39m=\u001b[39m \u001b[39mself\u001b[39m\u001b[39m.\u001b[39mdataset[possibly_batched_index]\n",
      "File \u001b[1;32mc:\\Users\\rdyt2\\Desktop\\FF\\data.py:130\u001b[0m, in \u001b[0;36mMergedDataset.__getitem__\u001b[1;34m(self, index)\u001b[0m\n\u001b[0;32m    126\u001b[0m img1, _ \u001b[39m=\u001b[39m \u001b[39mself\u001b[39m\u001b[39m.\u001b[39moriginal_dataset[index1]\n\u001b[0;32m    127\u001b[0m img2, _ \u001b[39m=\u001b[39m \u001b[39mself\u001b[39m\u001b[39m.\u001b[39moriginal_dataset[index2]\n\u001b[1;32m--> 130\u001b[0m \u001b[39mreturn\u001b[39;00m MNIST\u001b[39m.\u001b[39;49mnegative_data_generation(img1[\u001b[39m0\u001b[39;49m], img2[\u001b[39m0\u001b[39;49m], \u001b[39mself\u001b[39;49m\u001b[39m.\u001b[39;49msteps)\n",
      "File \u001b[1;32mc:\\Users\\rdyt2\\Desktop\\FF\\data.py:93\u001b[0m, in \u001b[0;36mMNIST.negative_data_generation\u001b[1;34m(a, b, blurring_steps)\u001b[0m\n\u001b[0;32m     91\u001b[0m mask \u001b[39m=\u001b[39m mask\u001b[39m.\u001b[39mint()\u001b[39m.\u001b[39mview(\u001b[39m28\u001b[39m, \u001b[39m28\u001b[39m)\n\u001b[0;32m     92\u001b[0m reversed_mask \u001b[39m=\u001b[39m torch\u001b[39m.\u001b[39mbitwise_not(mask\u001b[39m.\u001b[39mbool())\u001b[39m.\u001b[39mint()\u001b[39m.\u001b[39mview(\u001b[39m28\u001b[39m, \u001b[39m28\u001b[39m)\n\u001b[1;32m---> 93\u001b[0m neg_data \u001b[39m=\u001b[39m torch\u001b[39m.\u001b[39mmul(mask, a) \u001b[39m+\u001b[39m torch\u001b[39m.\u001b[39;49mmul(reversed_mask, b)\n\u001b[0;32m     94\u001b[0m \u001b[39mreturn\u001b[39;00m neg_data\n",
      "\u001b[1;31mKeyboardInterrupt\u001b[0m: "
     ]
    }
   ],
   "source": [
    "for a, b in zip(enumerate(train_loader), enumerate(train_loader_negative)):\n",
    "    x_neg = b[1].to(device)\n",
    "    print(x_neg.shape)"
   ]
  },
  {
   "cell_type": "code",
   "execution_count": 30,
   "id": "12e5ff4e",
   "metadata": {},
   "outputs": [
    {
     "name": "stderr",
     "output_type": "stream",
     "text": [
      "100%|██████████| 500/500 [10:30:11<00:00, 75.62s/it] \n"
     ]
    },
    {
     "data": {
      "text/html": [
       "Waiting for W&B process to finish... <strong style=\"color:green\">(success).</strong>"
      ],
      "text/plain": [
       "<IPython.core.display.HTML object>"
      ]
     },
     "metadata": {},
     "output_type": "display_data"
    },
    {
     "data": {
      "text/html": [
       "<style>\n",
       "    table.wandb td:nth-child(1) { padding: 0 10px; text-align: left ; width: auto;} td:nth-child(2) {text-align: left ; width: 100%}\n",
       "    .wandb-row { display: flex; flex-direction: row; flex-wrap: wrap; justify-content: flex-start; width: 100% }\n",
       "    .wandb-col { display: flex; flex-direction: column; flex-basis: 100%; flex: 1; padding: 10px; }\n",
       "    </style>\n",
       "<div class=\"wandb-row\"><div class=\"wandb-col\"><h3>Run history:</h3><br/><table class=\"wandb\"><tr><td>Accuracy on test data</td><td>▁▂▃▃▄▅▅▆▇▇▇▇▇▇███▁▁▁▁▁▁▁▁▁▁▁▁▁▁▁▁▁▁▁▁▁▁▁</td></tr><tr><td>Accuracy on train data</td><td>▁▂▁▂▃▄▅▅▆▇▇▇▇▇███▁▁▁▁▁▁▁▁▁▁▁▁▁▁▁▁▁▁▁▁▁▁▁</td></tr></table><br/></div><div class=\"wandb-col\"><h3>Run summary:</h3><br/><table class=\"wandb\"><tr><td>Accuracy on test data</td><td>0.098</td></tr><tr><td>Accuracy on train data</td><td>0.09872</td></tr></table><br/></div></div>"
      ],
      "text/plain": [
       "<IPython.core.display.HTML object>"
      ]
     },
     "metadata": {},
     "output_type": "display_data"
    },
    {
     "data": {
      "text/html": [
       " View run <strong style=\"color:#cdcd00\">normal-mask_negative_data-4-awake-4-sleep-0.001</strong> at: <a href='https://wandb.ai/ffalgo/MNIST/runs/cq0inhn5' target=\"_blank\">https://wandb.ai/ffalgo/MNIST/runs/cq0inhn5</a><br/>Synced 5 W&B file(s), 0 media file(s), 0 artifact file(s) and 0 other file(s)"
      ],
      "text/plain": [
       "<IPython.core.display.HTML object>"
      ]
     },
     "metadata": {},
     "output_type": "display_data"
    },
    {
     "data": {
      "text/html": [
       "Find logs at: <code>.\\wandb\\run-20230221_091003-cq0inhn5\\logs</code>"
      ],
      "text/plain": [
       "<IPython.core.display.HTML object>"
      ]
     },
     "metadata": {},
     "output_type": "display_data"
    }
   ],
   "source": [
    "model = model.to(device)\n",
    "epochs = 500\n",
    "best_acc = 0.0\n",
    "hour = 0\n",
    "def get_random_number_besides(x):\n",
    "    import random\n",
    "    num = random.randint(0,9)\n",
    "    if num==x: return get_random_number_besides(x)\n",
    "    return num\n",
    "def get_negative_y(y):\n",
    "    return torch.tensor([get_random_number_besides(i) for i in y], dtype = torch.long).to(device)\n",
    "\n",
    "for i in tqdm(range(epochs)):\n",
    "    if i % 4 == 1:\n",
    "        predictions, real = MNIST.predict(test_loader, model, device)\n",
    "        acc = np.sum(predictions == real)/len(real)\n",
    "        wandb.log({\"Accuracy on test data\": acc})\n",
    "        if acc > best_acc and acc > 0.8:\n",
    "            best_acc = acc\n",
    "            # torch.save(model.state_dict(), 'best_mnist_80%.ph')\n",
    "        \n",
    "    predictions, real = MNIST.predict(train_loader, model, device)\n",
    "    acc = np.sum(predictions == real)/len(real)\n",
    "    wandb.log({\"Accuracy on train data\": acc})\n",
    "    model.train()\n",
    "    for a, b in zip(enumerate(train_loader), enumerate(train_loader_negative)):\n",
    "        x_pos = a[1][0].to(device)\n",
    "        y = a[1][1].to(device)\n",
    "        x_pos,_ = MNIST.overlay_y_on_x(x_pos, y)\n",
    "        x_neg,_ = MNIST.overlay_y_on_x(b[1].to(device), y)\n",
    "        if hour % (awake_period + sleep_period) < awake_period:\n",
    "            model.forward_positive(x_pos)\n",
    "        else:\n",
    "            model.forward_negative(x_neg)\n",
    "        # model.forward(x_pos, x_neg)\n",
    "        \n",
    "        hour += 1\n",
    "\n",
    "        \n",
    "wandb.finish()"
   ]
  },
  {
   "cell_type": "code",
   "execution_count": null,
   "id": "a0012acc",
   "metadata": {},
   "outputs": [],
   "source": []
  }
 ],
 "metadata": {
  "kernelspec": {
   "display_name": "Python 3",
   "language": "python",
   "name": "python3"
  },
  "language_info": {
   "codemirror_mode": {
    "name": "ipython",
    "version": 3
   },
   "file_extension": ".py",
   "mimetype": "text/x-python",
   "name": "python",
   "nbconvert_exporter": "python",
   "pygments_lexer": "ipython3",
   "version": "3.10.10"
  },
  "vscode": {
   "interpreter": {
    "hash": "d6f8d400343bb3f57bd29c3eb1404dce9b47f9b5dee6203cb0f40ad0e600826b"
   }
  }
 },
 "nbformat": 4,
 "nbformat_minor": 5
}

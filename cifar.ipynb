{
 "cells": [
  {
   "cell_type": "code",
   "execution_count": null,
   "id": "6bd5542c",
   "metadata": {},
   "outputs": [],
   "source": [
    "import torch\n",
    "import torchvision\n",
    "import torchvision.transforms as transforms\n",
    "import numpy as np\n",
    "from data import CIFAR10\n",
    "from ff import FF, FFLayer\n",
    "import torch.nn as nn"
   ]
  },
  {
   "cell_type": "code",
   "execution_count": null,
   "id": "764275e8",
   "metadata": {},
   "outputs": [],
   "source": [
    "transform = transforms.Compose(\n",
    "    [transforms.ToTensor(),\n",
    "     transforms.Normalize((0.5, 0.5, 0.5), (0.5, 0.5, 0.5))])"
   ]
  },
  {
   "cell_type": "code",
   "execution_count": null,
   "id": "1cfdc01a",
   "metadata": {},
   "outputs": [],
   "source": [
    "batch_size = 32"
   ]
  },
  {
   "cell_type": "code",
   "execution_count": null,
   "id": "c4cd4d2c",
   "metadata": {},
   "outputs": [],
   "source": [
    "trainset = torchvision.datasets.CIFAR10(root='./datasets', train=True,\n",
    "                                        download=True, transform=transform)"
   ]
  },
  {
   "cell_type": "code",
   "execution_count": null,
   "id": "a894df7c",
   "metadata": {},
   "outputs": [],
   "source": [
    "trainloader = torch.utils.data.DataLoader(trainset, batch_size=batch_size,\n",
    "                                          shuffle=True, num_workers=2)"
   ]
  },
  {
   "cell_type": "code",
   "execution_count": null,
   "id": "87d436b0",
   "metadata": {},
   "outputs": [],
   "source": [
    "testset = torchvision.datasets.CIFAR10(root='./datasets', train=False,\n",
    "                                       download=True, transform=transform)"
   ]
  },
  {
   "cell_type": "code",
   "execution_count": null,
   "id": "bee61a19",
   "metadata": {},
   "outputs": [],
   "source": [
    "testloader = torch.utils.data.DataLoader(testset, batch_size=batch_size,\n",
    "                                         shuffle=False, num_workers=2)"
   ]
  },
  {
   "cell_type": "markdown",
   "id": "119c9497",
   "metadata": {},
   "source": [
    "# Inference"
   ]
  },
  {
   "cell_type": "code",
   "execution_count": null,
   "id": "874e0284",
   "metadata": {},
   "outputs": [],
   "source": [
    "threshold = 2.0\n",
    "epochs = 25\n",
    "model = FF()\n",
    "model.add_layer(FFLayer(nn.Linear(3468, 1024), optimizer=torch.optim.Adam, epochs=epochs, threshold=threshold, activation=nn.ReLU(), lr=0.01, positive_lr=0.005, negative_lr=0.005))\n",
    "model.add_layer(FFLayer(nn.Linear(1024, 512), optimizer=torch.optim.Adam, epochs=epochs, threshold=threshold, activation=nn.ReLU(), lr=0.01, positive_lr=0.005, negative_lr=0.005))\n",
    "model.add_layer(FFLayer(nn.Linear(512, 256), optimizer=torch.optim.Adam, epochs=epochs, threshold=threshold, activation=nn.ReLU(), lr=0.01, positive_lr=0.005, negative_lr=0.005))"
   ]
  },
  {
   "cell_type": "code",
   "execution_count": null,
   "id": "ef3c833b",
   "metadata": {},
   "outputs": [],
   "source": [
    "model.train()"
   ]
  },
  {
   "cell_type": "code",
   "execution_count": null,
   "id": "50b33d11",
   "metadata": {},
   "outputs": [],
   "source": [
    "x = iter(trainloader)"
   ]
  },
  {
   "cell_type": "code",
   "execution_count": null,
   "id": "10dac873",
   "metadata": {},
   "outputs": [],
   "source": [
    "x, y = next(x)"
   ]
  },
  {
   "cell_type": "code",
   "execution_count": null,
   "id": "5483bf1c",
   "metadata": {},
   "outputs": [],
   "source": [
    "new_x, new_y = CIFAR10.overlay_y_on_x(x, y)"
   ]
  },
  {
   "cell_type": "code",
   "execution_count": null,
   "id": "6ce6aa96",
   "metadata": {},
   "outputs": [],
   "source": [
    "model(new_x)"
   ]
  },
  {
   "cell_type": "markdown",
   "id": "c6d3400d",
   "metadata": {},
   "source": [
    "# Training"
   ]
  },
  {
   "cell_type": "code",
   "execution_count": null,
   "id": "472887f3",
   "metadata": {},
   "outputs": [],
   "source": [
    "trainset = torchvision.datasets.CIFAR10(root='./datasets', train=True,\n",
    "                                        download=True, transform=transform)"
   ]
  },
  {
   "cell_type": "code",
   "execution_count": null,
   "id": "fa20358f",
   "metadata": {},
   "outputs": [],
   "source": [
    "trainloader = torch.utils.data.DataLoader(trainset, batch_size=batch_size,\n",
    "                                          shuffle=True, num_workers=2)"
   ]
  },
  {
   "cell_type": "code",
   "execution_count": null,
   "id": "3e413f52",
   "metadata": {},
   "outputs": [],
   "source": [
    "model.train()\n",
    "for i, (x, y) in enumerate(trainloader):\n",
    "    \n",
    "    x_pos, _ =  CIFAR10.overlay_y_on_x(x, y)\n",
    "    rnd = torch.randperm(x.size(0))\n",
    "    x_neg, _ = CIFAR10.overlay_y_on_x(x, y[rnd])\n",
    "    losses = model(x_pos, x_neg)\n",
    "    print(losses)"
   ]
  },
  {
   "cell_type": "code",
   "execution_count": null,
   "id": "db517356",
   "metadata": {},
   "outputs": [],
   "source": [
    "predictions, real = CIFAR10.predict(testloader, model)\n",
    "print(\"Accuracy \", np.sum(predictions == real)/len(real))"
   ]
  }
 ],
 "metadata": {
  "kernelspec": {
   "display_name": "Python 3.8 - Pytorch and Tensorflow",
   "language": "python",
   "name": "python38-azureml-pt-tf"
  },
  "language_info": {
   "codemirror_mode": {
    "name": "ipython",
    "version": 3
   },
   "file_extension": ".py",
   "mimetype": "text/x-python",
   "name": "python",
   "nbconvert_exporter": "python",
   "pygments_lexer": "ipython3",
   "version": "3.8.5"
  },
  "vscode": {
   "interpreter": {
    "hash": "1ffc82101c5eff764050d2685372a31bdf18b27fd6181f429b67cb2396dafb7f"
   }
  }
 },
 "nbformat": 4,
 "nbformat_minor": 5
}

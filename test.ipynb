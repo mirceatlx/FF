{
 "cells": [
  {
   "cell_type": "code",
   "execution_count": 4,
   "id": "c3229f8c",
   "metadata": {},
   "outputs": [],
   "source": [
    "from ff import FF\n",
    "import torch\n",
    "from torchsummary import summary"
   ]
  },
  {
   "cell_type": "code",
   "execution_count": 2,
   "id": "ccf9715a",
   "metadata": {},
   "outputs": [],
   "source": [
    "config = {\n",
    "    \"in_dims\": [10, 10, 10], \n",
    "    \"out_dims\": [10, 10, 10], \n",
    "    \"threshold\": 1.5,\n",
    "    \"epochs\": 10\n",
    "\n",
    "}"
   ]
  },
  {
   "cell_type": "code",
   "execution_count": 3,
   "id": "029d6072",
   "metadata": {},
   "outputs": [],
   "source": [
    "num_layers = 3\n",
    "net = FF(num_layers, config, torch.optim.Adam)"
   ]
  },
  {
   "cell_type": "code",
   "execution_count": 12,
   "id": "29590f4c",
   "metadata": {},
   "outputs": [
    {
     "data": {
      "text/plain": [
       "<bound method Module.parameters of FF()>"
      ]
     },
     "execution_count": 12,
     "metadata": {},
     "output_type": "execute_result"
    }
   ],
   "source": [
    "net.parameters()"
   ]
  },
  {
   "cell_type": "code",
   "execution_count": null,
   "id": "1fd2c349",
   "metadata": {},
   "outputs": [],
   "source": []
  },
  {
   "cell_type": "code",
   "execution_count": null,
   "id": "12360200",
   "metadata": {},
   "outputs": [],
   "source": []
  }
 ],
 "metadata": {
  "kernelspec": {
   "display_name": "Python 3 (ipykernel)",
   "language": "python",
   "name": "python3"
  },
  "language_info": {
   "codemirror_mode": {
    "name": "ipython",
    "version": 3
   },
   "file_extension": ".py",
   "mimetype": "text/x-python",
   "name": "python",
   "nbconvert_exporter": "python",
   "pygments_lexer": "ipython3",
   "version": "3.8.12"
  }
 },
 "nbformat": 4,
 "nbformat_minor": 5
}

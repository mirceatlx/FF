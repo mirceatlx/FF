{
 "cells": [
  {
   "cell_type": "code",
   "execution_count": null,
   "id": "164a8e66",
   "metadata": {},
   "outputs": [],
   "source": [
    "import torch\n",
    "import torchvision\n",
    "import torch.nn as nn\n",
    "import torch.nn.functional as F\n",
    "import numpy as np\n",
    "from ff import FF, FFLayer\n",
    "from data import MNIST"
   ]
  },
  {
   "cell_type": "code",
   "execution_count": null,
   "id": "60271c94",
   "metadata": {},
   "outputs": [],
   "source": [
    "batch_size_train = 32\n",
    "batch_size_test = 32"
   ]
  },
  {
   "cell_type": "code",
   "execution_count": null,
   "id": "e80f3a51",
   "metadata": {},
   "outputs": [],
   "source": [
    "train_loader = torch.utils.data.DataLoader(\n",
    "  torchvision.datasets.MNIST('./datasets/MNIST/', train=True, download=True,\n",
    "                             transform=torchvision.transforms.Compose([\n",
    "                               torchvision.transforms.ToTensor(),\n",
    "                               torchvision.transforms.Normalize(\n",
    "                                 (0.1307,), (0.3081,))\n",
    "                             ])),\n",
    "  batch_size=batch_size_train, shuffle=True)"
   ]
  },
  {
   "cell_type": "code",
   "execution_count": null,
   "id": "1f0f5681",
   "metadata": {},
   "outputs": [],
   "source": [
    "test_loader = torch.utils.data.DataLoader(\n",
    "  torchvision.datasets.MNIST('./datasets/MNIST/', train=False, download=True,\n",
    "                             transform=torchvision.transforms.Compose([\n",
    "                               torchvision.transforms.ToTensor(),\n",
    "                               torchvision.transforms.Normalize(\n",
    "                                 (0.1307,), (0.3081,))\n",
    "                             ])),\n",
    "  batch_size=batch_size_test, shuffle=True)"
   ]
  },
  {
   "cell_type": "code",
   "execution_count": null,
   "id": "bac009c4",
   "metadata": {},
   "outputs": [],
   "source": [
    "threshold = 1.5\n",
    "epochs = 50\n",
    "model = FF()\n",
    "model.add_layer(FFLayer(nn.Linear(784, 500), optimizer=torch.optim.Adam, epochs=epochs, threshold=threshold, activation=nn.ReLU(), lr=0.01, positive_lr=0.005, negative_lr=0.005))\n",
    "model.add_layer(FFLayer(nn.Linear(500, 500), optimizer=torch.optim.Adam, epochs=epochs, threshold=threshold, activation=nn.ReLU(), lr=0.01, positive_lr=0.005, negative_lr=0.005))\n",
    "model.add_layer(FFLayer(nn.Linear(500, 500), optimizer=torch.optim.Adam, epochs=epochs, threshold=threshold, activation=nn.ReLU(), lr=0.01, positive_lr=0.005, negative_lr=0.005))"
   ]
  },
  {
   "cell_type": "code",
   "execution_count": null,
   "id": "26f16048",
   "metadata": {
    "scrolled": true
   },
   "outputs": [],
   "source": [
    "model.train()\n",
    "for i, (x, y) in enumerate(train_loader):\n",
    "    x_pos, _ = MNIST.overlay_y_on_x(x, y)\n",
    "    rnd = torch.randperm(x.size(0))\n",
    "    x_neg, _ = MNIST.overlay_y_on_x(x, y[rnd])\n",
    "    #print(x_pos.requires_grad, x_neg.requires_grad)\n",
    "\n",
    "    # Nu ii place deloc daca fac una dupa alta\n",
    "    #losses = model.forward_positive(x_pos)\n",
    "    #losses += model.forward_negative(x_neg)\n",
    "    #print(losses/2)\n",
    "\n",
    "    losses = model(x_pos, x_neg)\n",
    "    print(losses)"
   ]
  },
  {
   "cell_type": "code",
   "execution_count": null,
   "id": "f55f647d",
   "metadata": {},
   "outputs": [],
   "source": [
    "predictions, real = MNIST.predict(test_loader, model)\n",
    "print(\"Accuracy \", np.sum(predictions == real)/len(real))"
   ]
  },
  {
   "cell_type": "code",
   "execution_count": null,
   "id": "60ac4cb6",
   "metadata": {},
   "outputs": [],
   "source": []
  }
 ],
 "metadata": {
  "kernelspec": {
   "display_name": "Python 3.8 - Pytorch and Tensorflow",
   "language": "python",
   "name": "python38-azureml-pt-tf"
  },
  "language_info": {
   "codemirror_mode": {
    "name": "ipython",
    "version": 3
   },
   "file_extension": ".py",
   "mimetype": "text/x-python",
   "name": "python",
   "nbconvert_exporter": "python",
   "pygments_lexer": "ipython3",
   "version": "3.8.5"
  }
 },
 "nbformat": 4,
 "nbformat_minor": 5
}
